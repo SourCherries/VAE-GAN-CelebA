{
  "nbformat": 4,
  "nbformat_minor": 0,
  "metadata": {
    "colab": {
      "name": "learn_tf_conv2d.ipynb",
      "provenance": [],
      "collapsed_sections": [],
      "include_colab_link": true
    },
    "kernelspec": {
      "name": "python3",
      "display_name": "Python 3"
    },
    "language_info": {
      "name": "python"
    }
  },
  "cells": [
    {
      "cell_type": "markdown",
      "metadata": {
        "id": "view-in-github",
        "colab_type": "text"
      },
      "source": [
        "<a href=\"https://colab.research.google.com/github/SourCherries/VAE-GAN-CelebA/blob/master/learn_tf_conv2d.ipynb\" target=\"_parent\"><img src=\"https://colab.research.google.com/assets/colab-badge.svg\" alt=\"Open In Colab\"/></a>"
      ]
    },
    {
      "cell_type": "code",
      "execution_count": 2,
      "metadata": {
        "colab": {
          "base_uri": "https://localhost:8080/"
        },
        "id": "P_dNMdtxbHDz",
        "outputId": "642b5d49-e16e-4fb7-ece1-92d0c80948c8"
      },
      "outputs": [
        {
          "output_type": "stream",
          "name": "stdout",
          "text": [
            "WARNING: Tensorflow 1 is deprecated, and support will be removed on August 1, 2022.\n",
            "After that, `%tensorflow_version 1.x` will throw an error.\n",
            "\n",
            "Your notebook should be updated to use Tensorflow 2.\n",
            "See the guide at https://www.tensorflow.org/guide/migrate#migrate-from-tensorflow-1x-to-tensorflow-2.\n",
            "\n",
            "TensorFlow 1.x selected.\n"
          ]
        }
      ],
      "source": [
        "# https://towardsdatascience.com/understanding-convolutions-by-hand-vs-tensorflow-8e64053f673e\n",
        "%tensorflow_version 1.x\n",
        "import numpy as np\n",
        "import tensorflow as tf"
      ]
    },
    {
      "cell_type": "code",
      "source": [
        "def get_filter():\n",
        "    Wk=3\n",
        "    Hk=3\n",
        "    Dk=3\n",
        "    w=np.zeros(shape=(Wk,Hk,Dk)).astype(int) #initialize 3x3x3 kernel\n",
        "    w[:,:,0]=np.array(([1,0,-1],[0,0,0],[-1,0,1]),dtype='int')\n",
        "    w[:,:,1]=np.array(([0,-1,0],[-1,4,-1],[0,-1,0]),dtype='int')\n",
        "    w[:,:,2]=np.array(([-1,-1,-1],[-1,8,-1],[-1,-1,-1]),dtype='int')\n",
        "    return w"
      ],
      "metadata": {
        "id": "e6PGujKxbfVw"
      },
      "execution_count": 3,
      "outputs": []
    },
    {
      "cell_type": "code",
      "source": [
        "W=5 #width of input array\n",
        "H=5 #height of input array\n",
        "D=3 #depth of input array\n",
        "# random x volume for example\n",
        "np.random.seed(1) #for reproducibility\n",
        "x=np.random.rand(W,H,D)*4 #up to 4 random numbers \n",
        "x=x.astype(int)"
      ],
      "metadata": {
        "id": "BVhpI1BAbm3T"
      },
      "execution_count": 4,
      "outputs": []
    },
    {
      "cell_type": "code",
      "source": [
        "def conv2d_pad_str(x,w0,S=2,b0=np.ones(shape=(1))):\n",
        "    if len(x.shape)>2:\n",
        "        xc=x.shape[2]\n",
        "    else:\n",
        "        xc=1\n",
        "    xl=x.shape[1] #input volume length\n",
        "    xw=x.shape[0] #input volume width\n",
        "    fl=w0.shape[1] #filter length\n",
        "    fw=w0.shape[0] #filter width\n",
        "    ol=(xl-fl)//S+1 #output volume length\n",
        "    ow=(xw-fw)//S+1 #output volume width\n",
        "    if len(x.shape)>2: #\n",
        "        output=np.zeros(shape=(ol,ow,1))\n",
        "        output[:,:,0]=output[:,:,0]+b0\n",
        "    else:\n",
        "        output=np.zeros(shape=(ol,ow))\n",
        "        output[:,:]=output[:,:]+b0\n",
        "\n",
        "    for c in range(0,xc):\n",
        "        cj=0\n",
        "        for j in range(0,xl+S,S):\n",
        "            ci=0\n",
        "            for i in range(0,xw+S,S):\n",
        "                if i>xw-fw: #reached the end of the row, breaks to next row\n",
        "                    break\n",
        "                if j>xl-fl: #reached the end of the column, breaks to next column\n",
        "                    break\n",
        "                if len(x.shape)>2:\n",
        "                    output_ji=np.sum(x[:,:,c][j:j+fl,i:i+fw]*w0[:,:,c])\n",
        "                else:\n",
        "                    output_ji=np.sum(x[:,:][j:j+fl,i:i+fl]*w0[:,:])\n",
        "                if len(x.shape)>2:\n",
        "                    output[cj,ci,0]+=output_ji\n",
        "                else:\n",
        "                    output[cj,ci]+=output_ji\n",
        "                ci+=1\n",
        "            cj+=1\n",
        "    return output"
      ],
      "metadata": {
        "id": "zU-62mp_btVJ"
      },
      "execution_count": 5,
      "outputs": []
    },
    {
      "cell_type": "code",
      "source": [
        "def tensorflow_conv(x,w,bias,S):\n",
        "  global tf_output\n",
        "  x=np.asarray(x).astype(np.float32)\n",
        "  x_tf=tf.constant(np.expand_dims(x,axis=0),dtype=tf.float32)\n",
        "  f_tf=tf.constant(np.expand_dims(w,axis=0),dtype=tf.float32)\n",
        "  x_tf=tf.reshape(x_tf,shape=(1,x.shape[0],x.shape[1],x.shape[2]))\n",
        "  f_tf=tf.reshape(f_tf,shape=(w.shape[0],w.shape[1],w.shape[2],1))\n",
        "  b_tf=tf.constant(bias,dtype=tf.float32)\n",
        "  conv_tf=tf.nn.conv2d(x_tf,f_tf,strides=[1,S,S,1],padding='VALID')\n",
        "  conv_tf=tf.nn.bias_add(conv_tf,b_tf)[0,:,:,0]\n",
        "  tf_output=conv_tf.numpy()\n",
        "  return tf_output"
      ],
      "metadata": {
        "id": "urMsmgbOb2n4"
      },
      "execution_count": 6,
      "outputs": []
    },
    {
      "cell_type": "code",
      "source": [
        "w = get_filter()\n",
        "bias = np.ones(shape=(1))"
      ],
      "metadata": {
        "id": "kyhPzUXfcI-J"
      },
      "execution_count": 7,
      "outputs": []
    },
    {
      "cell_type": "code",
      "source": [
        "print(w.shape)\n",
        "print(w[:,:,0])\n"
      ],
      "metadata": {
        "colab": {
          "base_uri": "https://localhost:8080/"
        },
        "id": "hTljyih9dJuI",
        "outputId": "ebb1f3df-768a-4db2-998c-7676ca36784a"
      },
      "execution_count": 8,
      "outputs": [
        {
          "output_type": "stream",
          "name": "stdout",
          "text": [
            "(3, 3, 3)\n",
            "[[ 1  0 -1]\n",
            " [ 0  0  0]\n",
            " [-1  0  1]]\n"
          ]
        }
      ]
    },
    {
      "cell_type": "code",
      "source": [
        "# tf_output = tensorflow_conv(x, w, bias, S=2)"
      ],
      "metadata": {
        "id": "elyluQPAcpzk",
        "colab": {
          "base_uri": "https://localhost:8080/"
        },
        "outputId": "f6929063-2cf3-4189-fb3a-19b23167a639"
      },
      "execution_count": 9,
      "outputs": [
        {
          "output_type": "error",
          "ename": "AttributeError",
          "evalue": "ignored",
          "traceback": [
            "\u001b[0;31m---------------------------------------------------------------------------\u001b[0m",
            "\u001b[0;31mAttributeError\u001b[0m                            Traceback (most recent call last)",
            "\u001b[0;32m<ipython-input-9-6be65e46b3d7>\u001b[0m in \u001b[0;36m<module>\u001b[0;34m()\u001b[0m\n\u001b[0;32m----> 1\u001b[0;31m \u001b[0mtf_output\u001b[0m \u001b[0;34m=\u001b[0m \u001b[0mtensorflow_conv\u001b[0m\u001b[0;34m(\u001b[0m\u001b[0mx\u001b[0m\u001b[0;34m,\u001b[0m \u001b[0mw\u001b[0m\u001b[0;34m,\u001b[0m \u001b[0mbias\u001b[0m\u001b[0;34m,\u001b[0m \u001b[0mS\u001b[0m\u001b[0;34m=\u001b[0m\u001b[0;36m2\u001b[0m\u001b[0;34m)\u001b[0m\u001b[0;34m\u001b[0m\u001b[0;34m\u001b[0m\u001b[0m\n\u001b[0m",
            "\u001b[0;32m<ipython-input-6-9529501b6440>\u001b[0m in \u001b[0;36mtensorflow_conv\u001b[0;34m(x, w, bias, S)\u001b[0m\n\u001b[1;32m      9\u001b[0m   \u001b[0mconv_tf\u001b[0m\u001b[0;34m=\u001b[0m\u001b[0mtf\u001b[0m\u001b[0;34m.\u001b[0m\u001b[0mnn\u001b[0m\u001b[0;34m.\u001b[0m\u001b[0mconv2d\u001b[0m\u001b[0;34m(\u001b[0m\u001b[0mx_tf\u001b[0m\u001b[0;34m,\u001b[0m\u001b[0mf_tf\u001b[0m\u001b[0;34m,\u001b[0m\u001b[0mstrides\u001b[0m\u001b[0;34m=\u001b[0m\u001b[0;34m[\u001b[0m\u001b[0;36m1\u001b[0m\u001b[0;34m,\u001b[0m\u001b[0mS\u001b[0m\u001b[0;34m,\u001b[0m\u001b[0mS\u001b[0m\u001b[0;34m,\u001b[0m\u001b[0;36m1\u001b[0m\u001b[0;34m]\u001b[0m\u001b[0;34m,\u001b[0m\u001b[0mpadding\u001b[0m\u001b[0;34m=\u001b[0m\u001b[0;34m'VALID'\u001b[0m\u001b[0;34m)\u001b[0m\u001b[0;34m\u001b[0m\u001b[0;34m\u001b[0m\u001b[0m\n\u001b[1;32m     10\u001b[0m   \u001b[0mconv_tf\u001b[0m\u001b[0;34m=\u001b[0m\u001b[0mtf\u001b[0m\u001b[0;34m.\u001b[0m\u001b[0mnn\u001b[0m\u001b[0;34m.\u001b[0m\u001b[0mbias_add\u001b[0m\u001b[0;34m(\u001b[0m\u001b[0mconv_tf\u001b[0m\u001b[0;34m,\u001b[0m\u001b[0mb_tf\u001b[0m\u001b[0;34m)\u001b[0m\u001b[0;34m[\u001b[0m\u001b[0;36m0\u001b[0m\u001b[0;34m,\u001b[0m\u001b[0;34m:\u001b[0m\u001b[0;34m,\u001b[0m\u001b[0;34m:\u001b[0m\u001b[0;34m,\u001b[0m\u001b[0;36m0\u001b[0m\u001b[0;34m]\u001b[0m\u001b[0;34m\u001b[0m\u001b[0;34m\u001b[0m\u001b[0m\n\u001b[0;32m---> 11\u001b[0;31m   \u001b[0mtf_output\u001b[0m\u001b[0;34m=\u001b[0m\u001b[0mconv_tf\u001b[0m\u001b[0;34m.\u001b[0m\u001b[0mnumpy\u001b[0m\u001b[0;34m(\u001b[0m\u001b[0;34m)\u001b[0m\u001b[0;34m\u001b[0m\u001b[0;34m\u001b[0m\u001b[0m\n\u001b[0m\u001b[1;32m     12\u001b[0m   \u001b[0;32mreturn\u001b[0m \u001b[0mtf_output\u001b[0m\u001b[0;34m\u001b[0m\u001b[0;34m\u001b[0m\u001b[0m\n",
            "\u001b[0;31mAttributeError\u001b[0m: 'Tensor' object has no attribute 'numpy'"
          ]
        }
      ]
    },
    {
      "cell_type": "code",
      "source": [
        "S = 1\n",
        "x=np.array(x).astype(np.float32)\n",
        "x_tf=tf.constant(np.expand_dims(x,axis=0),dtype=tf.float32)\n",
        "f_tf=tf.constant(np.expand_dims(w,axis=0),dtype=tf.float32)\n",
        "x_tf=tf.reshape(x_tf,shape=(1,x.shape[0],x.shape[1],x.shape[2]))\n",
        "f_tf=tf.reshape(f_tf,shape=(w.shape[0],w.shape[1],w.shape[2],1))\n",
        "b_tf=tf.constant(bias,dtype=tf.float32)\n",
        "conv_tf=tf.nn.conv2d(x_tf,f_tf,strides=[1,S,S,1],padding='VALID')\n",
        "conv_tf=tf.nn.bias_add(conv_tf,b_tf)[0,:,:,0]"
      ],
      "metadata": {
        "id": "d3BckVOFsjIE"
      },
      "execution_count": 9,
      "outputs": []
    },
    {
      "cell_type": "code",
      "source": [
        "tf_output=conv_tf.numpy()"
      ],
      "metadata": {
        "colab": {
          "base_uri": "https://localhost:8080/",
          "height": 166
        },
        "id": "ZWnlRhjcsovO",
        "outputId": "43f18b65-1c9c-4d70-c1ce-a92d750a7703"
      },
      "execution_count": 10,
      "outputs": [
        {
          "output_type": "error",
          "ename": "AttributeError",
          "evalue": "ignored",
          "traceback": [
            "\u001b[0;31m---------------------------------------------------------------------------\u001b[0m",
            "\u001b[0;31mAttributeError\u001b[0m                            Traceback (most recent call last)",
            "\u001b[0;32m<ipython-input-10-1530b702e540>\u001b[0m in \u001b[0;36m<module>\u001b[0;34m()\u001b[0m\n\u001b[0;32m----> 1\u001b[0;31m \u001b[0mtf_output\u001b[0m\u001b[0;34m=\u001b[0m\u001b[0mconv_tf\u001b[0m\u001b[0;34m.\u001b[0m\u001b[0mnumpy\u001b[0m\u001b[0;34m(\u001b[0m\u001b[0;34m)\u001b[0m\u001b[0;34m\u001b[0m\u001b[0;34m\u001b[0m\u001b[0m\n\u001b[0m",
            "\u001b[0;31mAttributeError\u001b[0m: 'Tensor' object has no attribute 'numpy'"
          ]
        }
      ]
    },
    {
      "cell_type": "code",
      "source": [
        "print(conv_tf)\n",
        "print(conv_tf.shape)"
      ],
      "metadata": {
        "id": "w-6vw2m1tLUH"
      },
      "execution_count": null,
      "outputs": []
    },
    {
      "cell_type": "code",
      "source": [
        "# https://stackoverflow.com/questions/34097281/convert-a-tensor-to-numpy-array-in-tensorflow\n",
        "\n",
        "print(type(tf.Session().run( conv_tf )))"
      ],
      "metadata": {
        "colab": {
          "base_uri": "https://localhost:8080/"
        },
        "id": "ey1IDfi-t1bI",
        "outputId": "2c33fc5c-40f7-4724-93e3-261f83279857"
      },
      "execution_count": 15,
      "outputs": [
        {
          "output_type": "stream",
          "name": "stdout",
          "text": [
            "<class 'numpy.ndarray'>\n"
          ]
        }
      ]
    },
    {
      "cell_type": "code",
      "source": [
        "cout = tf.Session().run( conv_tf )\n",
        "print(cout)"
      ],
      "metadata": {
        "colab": {
          "base_uri": "https://localhost:8080/"
        },
        "id": "if8X97Dquef_",
        "outputId": "a1d61747-7ac8-4f14-a240-b33b96d30bee"
      },
      "execution_count": 18,
      "outputs": [
        {
          "output_type": "stream",
          "name": "stdout",
          "text": [
            "[[ 15.   5.  -3.]\n",
            " [  1.  -7.  11.]\n",
            " [-17.  -6.  -1.]]\n"
          ]
        }
      ]
    }
  ]
}