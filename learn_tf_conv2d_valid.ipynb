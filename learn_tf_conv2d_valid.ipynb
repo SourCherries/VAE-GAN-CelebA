{
  "nbformat": 4,
  "nbformat_minor": 0,
  "metadata": {
    "colab": {
      "name": "learn_tf_conv2d_valid.ipynb",
      "provenance": [],
      "collapsed_sections": [],
      "include_colab_link": true
    },
    "kernelspec": {
      "name": "python3",
      "display_name": "Python 3"
    },
    "language_info": {
      "name": "python"
    }
  },
  "cells": [
    {
      "cell_type": "markdown",
      "metadata": {
        "id": "view-in-github",
        "colab_type": "text"
      },
      "source": [
        "<a href=\"https://colab.research.google.com/github/SourCherries/VAE-GAN-CelebA/blob/master/learn_tf_conv2d_valid.ipynb\" target=\"_parent\"><img src=\"https://colab.research.google.com/assets/colab-badge.svg\" alt=\"Open In Colab\"/></a>"
      ]
    },
    {
      "cell_type": "code",
      "execution_count": 1,
      "metadata": {
        "id": "P_dNMdtxbHDz",
        "colab": {
          "base_uri": "https://localhost:8080/"
        },
        "outputId": "a8d1cab4-2034-44e0-f7f6-058794577b26"
      },
      "outputs": [
        {
          "output_type": "stream",
          "name": "stdout",
          "text": [
            "WARNING: Tensorflow 1 is deprecated, and support will be removed on August 1, 2022.\n",
            "After that, `%tensorflow_version 1.x` will throw an error.\n",
            "\n",
            "Your notebook should be updated to use Tensorflow 2.\n",
            "See the guide at https://www.tensorflow.org/guide/migrate#migrate-from-tensorflow-1x-to-tensorflow-2.\n",
            "\n",
            "TensorFlow 1.x selected.\n"
          ]
        }
      ],
      "source": [
        "%tensorflow_version 1.x\n",
        "import numpy as np\n",
        "import tensorflow as tf"
      ]
    },
    {
      "cell_type": "code",
      "source": [
        "# Rufin's VAE-GAN-Celeb uses padding = 'SAME'\n",
        "#   Should try with that.\n",
        "#   Current results work out will with 'VALID'\n",
        "\n",
        "def get_conv_tf(x, w, bias, S=1, padding='VALID'):\n",
        "  print(\"Preparing input and kernel for convolution in TF *****************************************************\\n\")\n",
        "  S = 1; print(\"S (stride) =\\t\" + str(S))\n",
        "  print(\"w:\\t\" + str(w.shape))\n",
        "  x=np.array(x).astype(np.float32); print(\"x:\\t\" + str(x.shape))\n",
        "  x_tf=tf.constant(np.expand_dims(x,axis=0),dtype=tf.float32); print(\"x_tf after expand_dims:\\t\" + str(x_tf.shape))\n",
        "  f_tf=tf.constant(np.expand_dims(w,axis=0),dtype=tf.float32); print(\"f_tf:after expand_dims:\\t\" + str(f_tf.shape))\n",
        "  x_tf=tf.reshape(x_tf,shape=(1,x.shape[0],x.shape[1],x.shape[2])); print(\"x_tf after reshape:\\t\" + str(x_tf.shape))\n",
        "  f_tf=tf.reshape(f_tf,shape=(w.shape[0],w.shape[1],w.shape[2],1)); print(\"f_tf after reshape:\\t\" + str(f_tf.shape))\n",
        "  b_tf=tf.constant(bias,dtype=tf.float32); print(\"b_tf:\\t\" + str(b_tf.shape))\n",
        "  conv_tf=tf.nn.conv2d(x_tf,f_tf,strides=[1,S,S,1],padding='VALID')\n",
        "  conv_tf=tf.nn.bias_add(conv_tf,b_tf)\n",
        "  return (x_tf, f_tf, b_tf, conv_tf)\n",
        "# Modified from:\n",
        "# # https://towardsdatascience.com/understanding-convolutions-by-hand-vs-tensorflow-8e64053f673e"
      ],
      "metadata": {
        "id": "d3BckVOFsjIE"
      },
      "execution_count": 2,
      "outputs": []
    },
    {
      "cell_type": "code",
      "source": [
        "def string_of_3d_matrix(m):\n",
        "  if len(m.shape) == 2:\n",
        "    m = np.expand_dims(m, axis=2)\n",
        "  m_string = ''\n",
        "  for i in range(m.shape[2]):\n",
        "    m_string += str(m[:,:,i]) + \"\\n\"\n",
        "  return m_string"
      ],
      "metadata": {
        "id": "h5QCBn5bNhDv"
      },
      "execution_count": 3,
      "outputs": []
    },
    {
      "cell_type": "code",
      "source": [
        "def show_results(x, x_tf, w, f_tf, conv_tf):\n",
        "  print(\"Examine intermediate stages of results *****************************************************\\n\")\n",
        "\n",
        "  x_string = string_of_3d_matrix(x)\n",
        "  print(\"x = \")\n",
        "  print(x_string)\n",
        "\n",
        "  x_tf_string = string_of_3d_matrix(tf.Session().run( x_tf )[0,:,:,:])\n",
        "  print(\"x_tf = \")\n",
        "  print(x_tf_string)\n",
        "\n",
        "  w_string = string_of_3d_matrix(w)\n",
        "  print(\"w = \")\n",
        "  print(w_string)\n",
        "\n",
        "  CHANNEL_OUT = 0\n",
        "\n",
        "  fout = tf.Session().run( f_tf )\n",
        "  f_tf_string = string_of_3d_matrix(fout[:,:,:,CHANNEL_OUT].squeeze())\n",
        "  print(f\"f_tf[:,:,:,{CHANNEL_OUT}] =\")\n",
        "  print(f_tf_string)\n",
        "\n",
        "  cout = tf.Session().run( conv_tf )\n",
        "  c_string = str(cout[:, :, :, CHANNEL_OUT].squeeze())\n",
        "  print(f\"cout[:,:,:,{CHANNEL_OUT}] =\\n{c_string}\\n\\n\")\n",
        "  return (fout, cout)\n",
        "# For conversion of TF tensor object to numpy array see:\n",
        "# https://stackoverflow.com/questions/34097281/convert-a-tensor-to-numpy-array-in-tensorflow"
      ],
      "metadata": {
        "id": "CuljpdwPQM6K"
      },
      "execution_count": 4,
      "outputs": []
    },
    {
      "cell_type": "markdown",
      "source": [
        "# Padding type might be crucial"
      ],
      "metadata": {
        "id": "QZLBG_0foGf9"
      }
    },
    {
      "cell_type": "code",
      "source": [
        "# padding_type = 'VALID'  # results work out\n",
        "padding_type = 'SAME'   # what RVR uses - works same?"
      ],
      "metadata": {
        "id": "7KtPwr2QoJqF"
      },
      "execution_count": 14,
      "outputs": []
    },
    {
      "cell_type": "code",
      "source": [
        "# Simple case with single-channel image\n",
        "x = np.array([[1, 2, 3], [4, 5, 6], [7, 8, 9]])\n",
        "x = np.expand_dims(x,axis=2)\n",
        "\n",
        "w = np.array([[0, 0, 0], [0, 0, 0], [0, 0, 1]])\n",
        "w = np.expand_dims(w,axis=2)\n",
        "\n",
        "bias = np.array([100])\n",
        "\n",
        "x_tf, f_tf, b_tf, conv_tf = get_conv_tf(x, w, bias, S=1, padding=padding_type)\n",
        "\n",
        "fout, cout = show_results(x, x_tf, w, f_tf, conv_tf)\n",
        "\n",
        "print(\"Confirmation *********************************************************\")\n",
        "if cout[:,:,:,0].squeeze() == (9 + bias.squeeze()):\n",
        "  print(\"Worked as expected\")"
      ],
      "metadata": {
        "colab": {
          "base_uri": "https://localhost:8080/"
        },
        "id": "L0MIMFIFTyL6",
        "outputId": "14ac18f3-1252-43af-d7ba-945cff90bc5a"
      },
      "execution_count": 15,
      "outputs": [
        {
          "output_type": "stream",
          "name": "stdout",
          "text": [
            "Preparing input and kernel for convolution in TF *****************************************************\n",
            "\n",
            "S (stride) =\t1\n",
            "w:\t(3, 3, 1)\n",
            "x:\t(3, 3, 1)\n",
            "x_tf after expand_dims:\t(1, 3, 3, 1)\n",
            "f_tf:after expand_dims:\t(1, 3, 3, 1)\n",
            "x_tf after reshape:\t(1, 3, 3, 1)\n",
            "f_tf after reshape:\t(3, 3, 1, 1)\n",
            "b_tf:\t(1,)\n",
            "Examine intermediate stages of results *****************************************************\n",
            "\n",
            "x = \n",
            "[[1 2 3]\n",
            " [4 5 6]\n",
            " [7 8 9]]\n",
            "\n",
            "x_tf = \n",
            "[[1. 2. 3.]\n",
            " [4. 5. 6.]\n",
            " [7. 8. 9.]]\n",
            "\n",
            "w = \n",
            "[[0 0 0]\n",
            " [0 0 0]\n",
            " [0 0 1]]\n",
            "\n",
            "f_tf[:,:,:,0] =\n",
            "[[0. 0. 0.]\n",
            " [0. 0. 0.]\n",
            " [0. 0. 1.]]\n",
            "\n",
            "cout[:,:,:,0] =\n",
            "109.0\n",
            "\n",
            "\n",
            "Confirmation *********************************************************\n",
            "Worked as expected\n"
          ]
        }
      ]
    },
    {
      "cell_type": "code",
      "source": [
        "# Two channel image\n",
        "v = np.array([[1, 2, 3], [4, 5, 6], [7, 8, 9]])\n",
        "v = np.expand_dims(v, axis=2)\n",
        "x = np.concatenate([v, v + 10], axis=2)\n",
        "\n",
        "blank = np.array([[0, 0, 0], [0, 0, 0], [0, 0, 0]])\n",
        "blank = np.expand_dims(blank, axis=2)\n",
        "v = np.array([[0, 0, 0], [0, 0, 0], [0, 0, 1]])\n",
        "v = np.expand_dims(v, axis=2)\n",
        "w = np.concatenate([blank, v], axis=2)\n",
        "\n",
        "bias = np.array([100])\n",
        "\n",
        "x_tf, f_tf, b_tf, conv_tf = get_conv_tf(x, w, bias, S=1, padding=padding_type)\n",
        "\n",
        "fout, cout = show_results(x, x_tf, w, f_tf, conv_tf)\n",
        "\n",
        "print(\"Confirmation *********************************************************\")\n",
        "# 9 for position, 10 for second channel\n",
        "if cout[:,:,:,0].squeeze() == (9 + 10 + bias.squeeze()):\n",
        "  print(\"Worked as expected\")"
      ],
      "metadata": {
        "colab": {
          "base_uri": "https://localhost:8080/"
        },
        "id": "Hk_oVfJV2RKV",
        "outputId": "7a7f530c-a20e-41e2-95b7-2ba232923545"
      },
      "execution_count": 16,
      "outputs": [
        {
          "output_type": "stream",
          "name": "stdout",
          "text": [
            "Preparing input and kernel for convolution in TF *****************************************************\n",
            "\n",
            "S (stride) =\t1\n",
            "w:\t(3, 3, 2)\n",
            "x:\t(3, 3, 2)\n",
            "x_tf after expand_dims:\t(1, 3, 3, 2)\n",
            "f_tf:after expand_dims:\t(1, 3, 3, 2)\n",
            "x_tf after reshape:\t(1, 3, 3, 2)\n",
            "f_tf after reshape:\t(3, 3, 2, 1)\n",
            "b_tf:\t(1,)\n",
            "Examine intermediate stages of results *****************************************************\n",
            "\n",
            "x = \n",
            "[[1 2 3]\n",
            " [4 5 6]\n",
            " [7 8 9]]\n",
            "[[11 12 13]\n",
            " [14 15 16]\n",
            " [17 18 19]]\n",
            "\n",
            "x_tf = \n",
            "[[1. 2. 3.]\n",
            " [4. 5. 6.]\n",
            " [7. 8. 9.]]\n",
            "[[11. 12. 13.]\n",
            " [14. 15. 16.]\n",
            " [17. 18. 19.]]\n",
            "\n",
            "w = \n",
            "[[0 0 0]\n",
            " [0 0 0]\n",
            " [0 0 0]]\n",
            "[[0 0 0]\n",
            " [0 0 0]\n",
            " [0 0 1]]\n",
            "\n",
            "f_tf[:,:,:,0] =\n",
            "[[0. 0. 0.]\n",
            " [0. 0. 0.]\n",
            " [0. 0. 0.]]\n",
            "[[0. 0. 0.]\n",
            " [0. 0. 0.]\n",
            " [0. 0. 1.]]\n",
            "\n",
            "cout[:,:,:,0] =\n",
            "119.0\n",
            "\n",
            "\n",
            "Confirmation *********************************************************\n",
            "Worked as expected\n"
          ]
        }
      ]
    },
    {
      "cell_type": "code",
      "source": [
        "# Single channel image with larger size \n",
        "x = np.array([[1, 2, 3], [4, 5, 6], [7, 8, 9]])\n",
        "x = np.pad(x, ((1, 1), (1, 1)))\n",
        "x = np.expand_dims(x,axis=2)\n",
        "\n",
        "w = np.array([[0, 0, 0], [0, 0, 0], [0, 0, 1]])\n",
        "w = np.expand_dims(w,axis=2)\n",
        "\n",
        "bias = np.array([100])\n",
        "\n",
        "x_tf, f_tf, b_tf, conv_tf = get_conv_tf(x, w, bias, S=1, padding=padding_type)\n",
        "\n",
        "fout, cout = show_results(x, x_tf, w, f_tf, conv_tf)\n",
        "\n",
        "print(\"Confirmation *********************************************************\")\n",
        "answer = np.array([[105, 106, 100], [108, 109, 100], [100, 100, 100]])\n",
        "if (cout[:,:,:,0].squeeze() == (answer)).all():\n",
        "  print(\"Worked as expected\")"
      ],
      "metadata": {
        "colab": {
          "base_uri": "https://localhost:8080/"
        },
        "id": "CznhqT8FSwaR",
        "outputId": "05300f64-f2de-4b55-ce3b-d8ec4e07add5"
      },
      "execution_count": 17,
      "outputs": [
        {
          "output_type": "stream",
          "name": "stdout",
          "text": [
            "Preparing input and kernel for convolution in TF *****************************************************\n",
            "\n",
            "S (stride) =\t1\n",
            "w:\t(3, 3, 1)\n",
            "x:\t(5, 5, 1)\n",
            "x_tf after expand_dims:\t(1, 5, 5, 1)\n",
            "f_tf:after expand_dims:\t(1, 3, 3, 1)\n",
            "x_tf after reshape:\t(1, 5, 5, 1)\n",
            "f_tf after reshape:\t(3, 3, 1, 1)\n",
            "b_tf:\t(1,)\n",
            "Examine intermediate stages of results *****************************************************\n",
            "\n",
            "x = \n",
            "[[0 0 0 0 0]\n",
            " [0 1 2 3 0]\n",
            " [0 4 5 6 0]\n",
            " [0 7 8 9 0]\n",
            " [0 0 0 0 0]]\n",
            "\n",
            "x_tf = \n",
            "[[0. 0. 0. 0. 0.]\n",
            " [0. 1. 2. 3. 0.]\n",
            " [0. 4. 5. 6. 0.]\n",
            " [0. 7. 8. 9. 0.]\n",
            " [0. 0. 0. 0. 0.]]\n",
            "\n",
            "w = \n",
            "[[0 0 0]\n",
            " [0 0 0]\n",
            " [0 0 1]]\n",
            "\n",
            "f_tf[:,:,:,0] =\n",
            "[[0. 0. 0.]\n",
            " [0. 0. 0.]\n",
            " [0. 0. 1.]]\n",
            "\n",
            "cout[:,:,:,0] =\n",
            "[[105. 106. 100.]\n",
            " [108. 109. 100.]\n",
            " [100. 100. 100.]]\n",
            "\n",
            "\n",
            "Confirmation *********************************************************\n",
            "Worked as expected\n"
          ]
        }
      ]
    }
  ]
}