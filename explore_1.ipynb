{
  "nbformat": 4,
  "nbformat_minor": 0,
  "metadata": {
    "colab": {
      "name": "Untitled0.ipynb",
      "provenance": [],
      "toc_visible": true,
      "authorship_tag": "ABX9TyNKqIL8V+hG4HZODb0QcO9b",
      "include_colab_link": true
    },
    "kernelspec": {
      "name": "python3",
      "display_name": "Python 3"
    },
    "language_info": {
      "name": "python"
    }
  },
  "cells": [
    {
      "cell_type": "markdown",
      "metadata": {
        "id": "view-in-github",
        "colab_type": "text"
      },
      "source": [
        "<a href=\"https://colab.research.google.com/github/SourCherries/VAE-GAN-CelebA/blob/master/explore_1.ipynb\" target=\"_parent\"><img src=\"https://colab.research.google.com/assets/colab-badge.svg\" alt=\"Open In Colab\"/></a>"
      ]
    },
    {
      "cell_type": "code",
      "source": [
        "! gdown --id 1o9nUhtZEX9GZXsTmvCXSNjEjDQ7Q1wHV"
      ],
      "metadata": {
        "colab": {
          "base_uri": "https://localhost:8080/"
        },
        "id": "jY5YzLueVzvq",
        "outputId": "737b1af0-0a36-4b94-9676-a703db37780a"
      },
      "execution_count": 1,
      "outputs": [
        {
          "output_type": "stream",
          "name": "stdout",
          "text": [
            "/usr/local/lib/python3.7/dist-packages/gdown/cli.py:131: FutureWarning: Option `--id` was deprecated in version 4.3.1 and will be removed in 5.0. You don't need to pass it anymore to use a file ID.\n",
            "  category=FutureWarning,\n",
            "Downloading...\n",
            "From: https://drive.google.com/uc?id=1o9nUhtZEX9GZXsTmvCXSNjEjDQ7Q1wHV\n",
            "To: /content/vaegan_celeba.ckpt\n",
            "100% 555M/555M [00:05<00:00, 109MB/s] \n"
          ]
        }
      ]
    },
    {
      "cell_type": "code",
      "source": [
        "%tensorflow_version 1.8"
      ],
      "metadata": {
        "id": "ULl7l2Xh0quz",
        "colab": {
          "base_uri": "https://localhost:8080/"
        },
        "outputId": "ced5f90f-30cb-4105-b75f-efca6e6bd747"
      },
      "execution_count": 2,
      "outputs": [
        {
          "output_type": "stream",
          "name": "stdout",
          "text": [
            "`%tensorflow_version` only switches the major version: 1.x or 2.x.\n",
            "You set: `1.8`. This will be interpreted as: `1.x`.\n",
            "\n",
            "\n",
            "TensorFlow 1.x selected.\n"
          ]
        }
      ]
    },
    {
      "cell_type": "code",
      "source": [
        "!git clone https://github.com/SourCherries/VAE-GAN-CelebA.git"
      ],
      "metadata": {
        "id": "cTVSn_kexSDJ",
        "colab": {
          "base_uri": "https://localhost:8080/"
        },
        "outputId": "c0d8ebc0-c08b-4427-c31d-c36adfd2ed0b"
      },
      "execution_count": 3,
      "outputs": [
        {
          "output_type": "stream",
          "name": "stdout",
          "text": [
            "Cloning into 'VAE-GAN-CelebA'...\n",
            "remote: Enumerating objects: 104, done.\u001b[K\n",
            "remote: Counting objects: 100% (18/18), done.\u001b[K\n",
            "remote: Compressing objects: 100% (18/18), done.\u001b[K\n",
            "remote: Total 104 (delta 9), reused 0 (delta 0), pack-reused 86\u001b[K\n",
            "Receiving objects: 100% (104/104), 33.12 KiB | 2.07 MiB/s, done.\n",
            "Resolving deltas: 100% (47/47), done.\n"
          ]
        }
      ]
    },
    {
      "cell_type": "code",
      "execution_count": 4,
      "metadata": {
        "id": "a3lKafI3vEuI",
        "colab": {
          "base_uri": "https://localhost:8080/"
        },
        "outputId": "a34055f6-03c0-465f-a535-2402970943c8"
      },
      "outputs": [
        {
          "output_type": "stream",
          "name": "stdout",
          "text": [
            "3.7.13 (default, Apr 24 2022, 01:04:09) \n",
            "[GCC 7.5.0]\n"
          ]
        }
      ],
      "source": [
        "import sys, getopt\n",
        "if sys.version_info < (3,4):\n",
        "    print('You are running an older version of Python!\\n\\n',\n",
        "          'You should consider updating to Python 3.4.0 or',\n",
        "          'higher.\\n')\n",
        "print(sys.version)"
      ]
    },
    {
      "cell_type": "code",
      "source": [
        "sys.path"
      ],
      "metadata": {
        "id": "-Lm03xt5y8wj",
        "colab": {
          "base_uri": "https://localhost:8080/"
        },
        "outputId": "d7932bb2-ec99-4369-9f6b-08ec32e8d401"
      },
      "execution_count": 5,
      "outputs": [
        {
          "output_type": "execute_result",
          "data": {
            "text/plain": [
              "['/tensorflow-1.15.2/python3.7',\n",
              " '',\n",
              " '/content',\n",
              " '/env/python',\n",
              " '/usr/lib/python37.zip',\n",
              " '/usr/lib/python3.7',\n",
              " '/usr/lib/python3.7/lib-dynload',\n",
              " '/usr/local/lib/python3.7/dist-packages',\n",
              " '/usr/lib/python3/dist-packages',\n",
              " '/usr/local/lib/python3.7/dist-packages/IPython/extensions',\n",
              " '/root/.ipython']"
            ]
          },
          "metadata": {},
          "execution_count": 5
        }
      ]
    },
    {
      "cell_type": "code",
      "source": [
        "sys.path.insert(0,'/content/VAE-GAN-CelebA/libs')\n",
        "sys.path.insert(0,'/content/VAE-GAN-CelebA/')"
      ],
      "metadata": {
        "id": "Gs6uyAjqyalL"
      },
      "execution_count": 6,
      "outputs": []
    },
    {
      "cell_type": "code",
      "source": [
        "import os\n",
        "import numpy as np\n",
        "import tensorflow as tf\n",
        "import matplotlib.pyplot as plt\n",
        "import libs.make_network as make_network\n",
        "import libs.utils as utils\n",
        "from scipy.io import loadmat, savemat\n",
        "\n",
        "print('TF version = ',tf.__version__)\n",
        "\n",
        "# Can do this with placeholders used by RVR\n",
        "# tf.compat.v1.enable_eager_execution()"
      ],
      "metadata": {
        "id": "tII8VcmIvQUf",
        "colab": {
          "base_uri": "https://localhost:8080/"
        },
        "outputId": "7993dee5-3a33-4c97-d83f-61d6ead81476"
      },
      "execution_count": 7,
      "outputs": [
        {
          "output_type": "stream",
          "name": "stdout",
          "text": [
            "TF version =  1.15.2\n"
          ]
        }
      ]
    },
    {
      "cell_type": "code",
      "source": [
        "file = \"/content/VAE-GAN-CelebA/example.jpg\"\n",
        "print ('Input file is ', file)"
      ],
      "metadata": {
        "id": "myKZafdBvZkH",
        "colab": {
          "base_uri": "https://localhost:8080/"
        },
        "outputId": "49660010-da69-4471-8a26-4145c689ee13"
      },
      "execution_count": 8,
      "outputs": [
        {
          "output_type": "stream",
          "name": "stdout",
          "text": [
            "Input file is  /content/VAE-GAN-CelebA/example.jpg\n"
          ]
        }
      ]
    },
    {
      "cell_type": "code",
      "source": [
        "sess, X, G, Z, Z_mu, is_training, saver = make_network.make_network()"
      ],
      "metadata": {
        "id": "BQ8vBNyHvdQ1",
        "colab": {
          "base_uri": "https://localhost:8080/"
        },
        "outputId": "fdb6eef4-0f30-4498-9681-89fafbf8768b"
      },
      "execution_count": 9,
      "outputs": [
        {
          "output_type": "stream",
          "name": "stdout",
          "text": [
            "WARNING:tensorflow:From /content/VAE-GAN-CelebA/libs/make_network.py:85: The name tf.reset_default_graph is deprecated. Please use tf.compat.v1.reset_default_graph instead.\n",
            "\n",
            "WARNING:tensorflow:From /content/VAE-GAN-CelebA/libs/make_network.py:86: The name tf.placeholder is deprecated. Please use tf.compat.v1.placeholder instead.\n",
            "\n",
            "WARNING:tensorflow:From /content/VAE-GAN-CelebA/libs/make_network.py:100: The name tf.variable_scope is deprecated. Please use tf.compat.v1.variable_scope instead.\n",
            "\n",
            "encoder/input: [None, 128, 128, 3]\n",
            "WARNING:tensorflow:From /content/VAE-GAN-CelebA/libs/utils.py:64: The name tf.get_variable is deprecated. Please use tf.compat.v1.get_variable instead.\n",
            "\n",
            "WARNING:tensorflow:\n",
            "The TensorFlow contrib module will not be included in TensorFlow 2.0.\n",
            "For more information, please see:\n",
            "  * https://github.com/tensorflow/community/blob/master/rfcs/20180907-contrib-sunset.md\n",
            "  * https://github.com/tensorflow/addons\n",
            "  * https://github.com/tensorflow/io (for I/O related ops)\n",
            "If you depend on functionality not listed there, please file an issue.\n",
            "\n",
            "layer: 0 , shape: [None, 64, 64, 192]\n",
            "layer: 1 , shape: [None, 32, 32, 256]\n",
            "layer: 2 , shape: [None, 16, 16, 384]\n",
            "layer: 3 , shape: [None, 8, 8, 512]\n",
            "layer: 4 , shape: [None, 4, 4, 768]\n",
            "WARNING:tensorflow:From /content/VAE-GAN-CelebA/libs/make_network.py:55: The name tf.random_normal is deprecated. Please use tf.random.normal instead.\n",
            "\n",
            "WARNING:tensorflow:From /content/VAE-GAN-CelebA/libs/make_network.py:124: The name tf.Session is deprecated. Please use tf.compat.v1.Session instead.\n",
            "\n",
            "WARNING:tensorflow:From /tensorflow-1.15.2/python3.7/tensorflow_core/python/util/tf_should_use.py:198: initialize_all_variables (from tensorflow.python.ops.variables) is deprecated and will be removed after 2017-03-02.\n",
            "Instructions for updating:\n",
            "Use `tf.global_variables_initializer` instead.\n",
            "WARNING:tensorflow:From /content/VAE-GAN-CelebA/libs/make_network.py:126: The name tf.train.Saver is deprecated. Please use tf.compat.v1.train.Saver instead.\n",
            "\n",
            "WARNING:tensorflow:From /content/VAE-GAN-CelebA/libs/make_network.py:128: start_queue_runners (from tensorflow.python.training.queue_runner_impl) is deprecated and will be removed in a future version.\n",
            "Instructions for updating:\n",
            "To construct input pipelines, use the `tf.data` module.\n",
            "WARNING:tensorflow:`tf.train.start_queue_runners()` was called when no queue runners were defined. You can safely remove the call to this deprecated function.\n"
          ]
        }
      ]
    },
    {
      "cell_type": "code",
      "source": [
        "# ZM = tf.identity(Z_mu)\n",
        "#with tf.Session() as sess:\n",
        "#      result = sess.run(Z_mu)\n",
        "print(tf.math.minimum(Z_mu, 0))\n",
        "print(tf.math.maximum(Z_mu, 0))"
      ],
      "metadata": {
        "id": "TScPuN2-RLSk",
        "outputId": "9ed7be4d-7a27-4318-f87e-f60e13e808de",
        "colab": {
          "base_uri": "https://localhost:8080/"
        }
      },
      "execution_count": 10,
      "outputs": [
        {
          "output_type": "stream",
          "name": "stdout",
          "text": [
            "Tensor(\"Minimum:0\", shape=(?, 1024), dtype=float32)\n",
            "Tensor(\"Maximum:0\", shape=(?, 1024), dtype=float32)\n"
          ]
        }
      ]
    },
    {
      "cell_type": "code",
      "source": [
        "if os.path.exists(\"vaegan_celeba.ckpt\"):\n",
        "    saver.restore(sess, \"vaegan_celeba.ckpt\")\n",
        "    print(\"VAE-GAN model restored.\")\n",
        "else:\n",
        "    print(\"Pre-trained network appears to be missing.\")\n",
        "    sys.exit()"
      ],
      "metadata": {
        "colab": {
          "base_uri": "https://localhost:8080/"
        },
        "id": "26VhiQC4SMSh",
        "outputId": "4319eb91-63da-44b4-d6d2-40a80f50bd56"
      },
      "execution_count": 11,
      "outputs": [
        {
          "output_type": "stream",
          "name": "stdout",
          "text": [
            "INFO:tensorflow:Restoring parameters from vaegan_celeba.ckpt\n",
            "VAE-GAN model restored.\n"
          ]
        }
      ]
    },
    {
      "cell_type": "markdown",
      "source": [
        "# Image to point in latent space"
      ],
      "metadata": {
        "id": "2T0Q1qBnYS11"
      }
    },
    {
      "cell_type": "code",
      "source": [
        "img = plt.imread(file)[..., :3]\n",
        "print(img.shape)\n",
        "\n",
        "img = utils.preprocess128(img,crop_factor=0.8)[np.newaxis]\n",
        "print(img.shape)"
      ],
      "metadata": {
        "id": "tleW4qNZvhJ7",
        "colab": {
          "base_uri": "https://localhost:8080/"
        },
        "outputId": "ca0a6a52-81e0-4407-925e-890237418681"
      },
      "execution_count": 36,
      "outputs": [
        {
          "output_type": "stream",
          "name": "stdout",
          "text": [
            "(218, 178, 3)\n",
            "(1, 128, 128, 3)\n"
          ]
        }
      ]
    },
    {
      "cell_type": "code",
      "source": [
        "#generate images from z\n",
        "z = sess.run(Z_mu, feed_dict={X: img, is_training: False})"
      ],
      "metadata": {
        "id": "4FqwOyoivkWD"
      },
      "execution_count": 13,
      "outputs": []
    },
    {
      "cell_type": "code",
      "source": [
        "#save data in Matlab format\n",
        "savemat(file[:-4]+'_z',dict(latent=z))"
      ],
      "metadata": {
        "id": "EDNUKqIGvnO5"
      },
      "execution_count": 14,
      "outputs": []
    },
    {
      "cell_type": "code",
      "source": [
        "print(z.shape)\n",
        "plt.hist(z.squeeze())"
      ],
      "metadata": {
        "colab": {
          "base_uri": "https://localhost:8080/",
          "height": 375
        },
        "id": "ZvpqEynnWrHY",
        "outputId": "9982ada7-cc0a-474b-ba49-c24a34caed26"
      },
      "execution_count": 15,
      "outputs": [
        {
          "output_type": "stream",
          "name": "stdout",
          "text": [
            "(1, 1024)\n"
          ]
        },
        {
          "output_type": "execute_result",
          "data": {
            "text/plain": [
              "(array([335.,  71.,  40.,  34.,  38.,  35.,  30.,  52.,  55., 334.]),\n",
              " array([-9.9999839e-01, -7.9999864e-01, -5.9999889e-01, -3.9999917e-01,\n",
              "        -1.9999942e-01,  3.2782555e-07,  2.0000008e-01,  3.9999983e-01,\n",
              "         5.9999955e-01,  7.9999930e-01,  9.9999905e-01], dtype=float32),\n",
              " <a list of 10 Patch objects>)"
            ]
          },
          "metadata": {},
          "execution_count": 15
        },
        {
          "output_type": "display_data",
          "data": {
            "text/plain": [
              "<Figure size 432x288 with 1 Axes>"
            ],
            "image/png": "[encoded data removed]"
          },
          "metadata": {
            "needs_background": "light"
          }
        }
      ]
    },
    {
      "cell_type": "markdown",
      "source": [
        "# Point in latent space to image"
      ],
      "metadata": {
        "id": "oHDvr3tEYhP2"
      }
    },
    {
      "cell_type": "code",
      "source": [
        "latent_file = \"/content/VAE-GAN-CelebA/example_z\"\n",
        "print ('Input file is \"', latent_file)"
      ],
      "metadata": {
        "id": "dRjVujMqYlBK",
        "outputId": "cbfdc7fb-ae0f-40a5-8bfd-7b1cad616edd",
        "colab": {
          "base_uri": "https://localhost:8080/"
        }
      },
      "execution_count": 16,
      "outputs": [
        {
          "output_type": "stream",
          "name": "stdout",
          "text": [
            "Input file is \" /content/VAE-GAN-CelebA/example_z\n"
          ]
        }
      ]
    },
    {
      "cell_type": "code",
      "source": [
        "sess, X, G, Z, Z_mu, is_training, saver = make_network.make_network()\n",
        "if os.path.exists(\"vaegan_celeba.ckpt\"):\n",
        "    saver.restore(sess, \"vaegan_celeba.ckpt\")\n",
        "    print(\"VAE-GAN model restored.\")\n",
        "else:\n",
        "    print(\"Pre-trained network appears to be missing.\")\n",
        "    sys.exit()"
      ],
      "metadata": {
        "id": "ejDU54HaZHRQ",
        "outputId": "b0f777d1-6182-4fb7-c5b0-fd8529d9ccbf",
        "colab": {
          "base_uri": "https://localhost:8080/"
        }
      },
      "execution_count": 17,
      "outputs": [
        {
          "output_type": "stream",
          "name": "stdout",
          "text": [
            "encoder/input: [None, 128, 128, 3]\n",
            "layer: 0 , shape: [None, 64, 64, 192]\n",
            "layer: 1 , shape: [None, 32, 32, 256]\n",
            "layer: 2 , shape: [None, 16, 16, 384]\n",
            "layer: 3 , shape: [None, 8, 8, 512]\n",
            "layer: 4 , shape: [None, 4, 4, 768]\n",
            "WARNING:tensorflow:`tf.train.start_queue_runners()` was called when no queue runners were defined. You can safely remove the call to this deprecated function.\n",
            "INFO:tensorflow:Restoring parameters from vaegan_celeba.ckpt\n",
            "VAE-GAN model restored.\n"
          ]
        }
      ]
    },
    {
      "cell_type": "code",
      "source": [
        "latent = loadmat(latent_file)['latent'] #make sure that the matlab variable name is 'latent'\n",
        "print('input data to be transformed:',latent.shape)\n",
        "if latent.shape[0]==1024:\n",
        "    latent=latent[np.newaxis]\n",
        "elif latent.shape[1]!=1024:\n",
        "    print(\"None of the input dimensions appears to be 1024!!!\")"
      ],
      "metadata": {
        "id": "3rEKsLRGZbPB",
        "outputId": "f7441ad9-972a-4035-cec6-9b51f535efb2",
        "colab": {
          "base_uri": "https://localhost:8080/"
        }
      },
      "execution_count": 18,
      "outputs": [
        {
          "output_type": "stream",
          "name": "stdout",
          "text": [
            "input data to be transformed: (1, 1024)\n"
          ]
        }
      ]
    },
    {
      "cell_type": "code",
      "source": [
        "#generate images from z\n",
        "g = sess.run(G, feed_dict={Z: (1*latent), is_training: False})"
      ],
      "metadata": {
        "id": "A1hgXExiZ3rP"
      },
      "execution_count": 19,
      "outputs": []
    },
    {
      "cell_type": "code",
      "source": [
        "def imdeprocess(g):\n",
        "    stretch = 1.0\n",
        "    for i in range(g.shape[0]):\n",
        "        g[i]=np.clip(stretch*g[i] / (g.max()),0,1)\n",
        "    return g"
      ],
      "metadata": {
        "id": "3ae98ZHoZ_jX"
      },
      "execution_count": 20,
      "outputs": []
    },
    {
      "cell_type": "code",
      "source": [
        "g=imdeprocess(g)"
      ],
      "metadata": {
        "id": "VBqDr2d5aFYU"
      },
      "execution_count": 21,
      "outputs": []
    },
    {
      "cell_type": "code",
      "source": [
        "#if there's only one image, we save it as a jpg\n",
        "if g.shape[0]==1:\n",
        "    plt.imsave(file[:-4]+'_g.jpg',g[0])"
      ],
      "metadata": {
        "id": "piaGW93gaJa5"
      },
      "execution_count": 22,
      "outputs": []
    },
    {
      "cell_type": "code",
      "source": [
        "#in all cases, we save the image(s) as a .mat file\n",
        "savemat(file[:-4]+'_g',dict(images=g))"
      ],
      "metadata": {
        "id": "j_iN1OUAacma"
      },
      "execution_count": 23,
      "outputs": []
    },
    {
      "cell_type": "markdown",
      "source": [
        "# Encoding is truly stochastic?"
      ],
      "metadata": {
        "id": "NCX_AgGainH5"
      }
    },
    {
      "cell_type": "code",
      "source": [
        "za = sess.run(Z_mu, feed_dict={X: img, is_training: False})\n",
        "zb = sess.run(Z_mu, feed_dict={X: img, is_training: False})"
      ],
      "metadata": {
        "id": "tc_X4v7niu3h"
      },
      "execution_count": 23,
      "outputs": []
    },
    {
      "cell_type": "code",
      "source": [
        "percent_exact_match = (za==zb).sum() * 100 / 1024\n",
        "print(percent_exact_match)"
      ],
      "metadata": {
        "id": "hTP4uZp2jh-K",
        "outputId": "ab44bee0-a1f3-42b5-8dec-fc7714c12eaf",
        "colab": {
          "base_uri": "https://localhost:8080/"
        }
      },
      "execution_count": 24,
      "outputs": [
        {
          "output_type": "stream",
          "name": "stdout",
          "text": [
            "0.390625\n"
          ]
        }
      ]
    },
    {
      "cell_type": "markdown",
      "source": [
        "Examine distribution for each dimension of Z for a particular image."
      ],
      "metadata": {
        "id": "eRgJIO1vj615"
      }
    },
    {
      "cell_type": "code",
      "source": [
        "iterations = 1000\n",
        "M = np.zeros((iterations, 1024))\n",
        "for i in range(iterations):\n",
        "  M[i,:] = sess.run(Z_mu, feed_dict={X: img, is_training: False})\n"
      ],
      "metadata": {
        "id": "Nj8dixrekJdy"
      },
      "execution_count": 35,
      "outputs": []
    },
    {
      "cell_type": "code",
      "source": [
        "plt.hist(M[:,1], bins=25); plt.show"
      ],
      "metadata": {
        "id": "7rN4hprqGRSM",
        "outputId": "a7dfe0cc-9aa4-43bd-9b5d-9c67bfb11726",
        "colab": {
          "base_uri": "https://localhost:8080/",
          "height": 286
        }
      },
      "execution_count": 45,
      "outputs": [
        {
          "output_type": "execute_result",
          "data": {
            "text/plain": [
              "<function matplotlib.pyplot.show>"
            ]
          },
          "metadata": {},
          "execution_count": 45
        },
        {
          "output_type": "display_data",
          "data": {
            "text/plain": [
              "<Figure size 432x288 with 1 Axes>"
            ],
            "image/png": "[encoded data removed]"
          },
          "metadata": {
            "needs_background": "light"
          }
        }
      ]
    },
    {
      "cell_type": "code",
      "source": [
        "plt.hist(M[:,2], bins=25); plt.show"
      ],
      "metadata": {
        "id": "Mqj7EZZ8GSDu",
        "outputId": "55610356-bb1a-4814-d092-7c09a0a4b5f7",
        "colab": {
          "base_uri": "https://localhost:8080/",
          "height": 283
        }
      },
      "execution_count": 46,
      "outputs": [
        {
          "output_type": "execute_result",
          "data": {
            "text/plain": [
              "<function matplotlib.pyplot.show>"
            ]
          },
          "metadata": {},
          "execution_count": 46
        },
        {
          "output_type": "display_data",
          "data": {
            "text/plain": [
              "<Figure size 432x288 with 1 Axes>"
            ],
            "image/png": "[encoded data removed]"
          },
          "metadata": {
            "needs_background": "light"
          }
        }
      ]
    },
    {
      "cell_type": "code",
      "source": [
        "plt.hist(M[:,4], bins=25); plt.show"
      ],
      "metadata": {
        "id": "LNv-HkEtGSZz",
        "outputId": "e9ad48b8-8c90-44c7-91eb-ad93883d293f",
        "colab": {
          "base_uri": "https://localhost:8080/",
          "height": 283
        }
      },
      "execution_count": 47,
      "outputs": [
        {
          "output_type": "execute_result",
          "data": {
            "text/plain": [
              "<function matplotlib.pyplot.show>"
            ]
          },
          "metadata": {},
          "execution_count": 47
        },
        {
          "output_type": "display_data",
          "data": {
            "text/plain": [
              "<Figure size 432x288 with 1 Axes>"
            ],
            "image/png": "[encoded data removed]"
          },
          "metadata": {
            "needs_background": "light"
          }
        }
      ]
    },
    {
      "cell_type": "code",
      "source": [
        "plt.hist(M[:,8], bins=25); plt.show"
      ],
      "metadata": {
        "id": "5P2Vut6cGSnJ",
        "outputId": "37968e7e-1302-4c0b-8ad9-1ea08f8c95db",
        "colab": {
          "base_uri": "https://localhost:8080/",
          "height": 283
        }
      },
      "execution_count": 48,
      "outputs": [
        {
          "output_type": "execute_result",
          "data": {
            "text/plain": [
              "<function matplotlib.pyplot.show>"
            ]
          },
          "metadata": {},
          "execution_count": 48
        },
        {
          "output_type": "display_data",
          "data": {
            "text/plain": [
              "<Figure size 432x288 with 1 Axes>"
            ],
            "image/png": "[encoded data removed]"
          },
          "metadata": {
            "needs_background": "light"
          }
        }
      ]
    },
    {
      "cell_type": "code",
      "source": [
        "plt.hist(M[:,16], bins=25); plt.show"
      ],
      "metadata": {
        "id": "c42onKKzGS0t",
        "outputId": "72645d94-971e-49d4-b85f-596d495da995",
        "colab": {
          "base_uri": "https://localhost:8080/",
          "height": 285
        }
      },
      "execution_count": 49,
      "outputs": [
        {
          "output_type": "execute_result",
          "data": {
            "text/plain": [
              "<function matplotlib.pyplot.show>"
            ]
          },
          "metadata": {},
          "execution_count": 49
        },
        {
          "output_type": "display_data",
          "data": {
            "text/plain": [
              "<Figure size 432x288 with 1 Axes>"
            ],
            "image/png": "[encoded data removed]"
          },
          "metadata": {
            "needs_background": "light"
          }
        }
      ]
    },
    {
      "cell_type": "code",
      "source": [
        "plt.hist(M[:,32], bins=25); plt.show"
      ],
      "metadata": {
        "id": "FRqUSOR2GTDH",
        "outputId": "fd6909fb-decc-4e7f-f510-5c22a02054d6",
        "colab": {
          "base_uri": "https://localhost:8080/",
          "height": 285
        }
      },
      "execution_count": 50,
      "outputs": [
        {
          "output_type": "execute_result",
          "data": {
            "text/plain": [
              "<function matplotlib.pyplot.show>"
            ]
          },
          "metadata": {},
          "execution_count": 50
        },
        {
          "output_type": "display_data",
          "data": {
            "text/plain": [
              "<Figure size 432x288 with 1 Axes>"
            ],
            "image/png": "[encoded data removed]"
          },
          "metadata": {
            "needs_background": "light"
          }
        }
      ]
    },
    {
      "cell_type": "code",
      "source": [
        "plt.hist(M[:,64], bins=25); plt.show"
      ],
      "metadata": {
        "id": "qc9CsBJUGTRC",
        "outputId": "f09abbc5-9adb-4dca-8e1a-e8ca80595897",
        "colab": {
          "base_uri": "https://localhost:8080/",
          "height": 283
        }
      },
      "execution_count": 51,
      "outputs": [
        {
          "output_type": "execute_result",
          "data": {
            "text/plain": [
              "<function matplotlib.pyplot.show>"
            ]
          },
          "metadata": {},
          "execution_count": 51
        },
        {
          "output_type": "display_data",
          "data": {
            "text/plain": [
              "<Figure size 432x288 with 1 Axes>"
            ],
            "image/png": "[encoded data removed]"
          },
          "metadata": {
            "needs_background": "light"
          }
        }
      ]
    },
    {
      "cell_type": "code",
      "source": [
        "plt.hist(M[:,128], bins=25); plt.show"
      ],
      "metadata": {
        "id": "Iimv7E3BGTdw",
        "outputId": "5ab8e089-a429-476f-ec80-2eef1aad71bf",
        "colab": {
          "base_uri": "https://localhost:8080/",
          "height": 283
        }
      },
      "execution_count": 52,
      "outputs": [
        {
          "output_type": "execute_result",
          "data": {
            "text/plain": [
              "<function matplotlib.pyplot.show>"
            ]
          },
          "metadata": {},
          "execution_count": 52
        },
        {
          "output_type": "display_data",
          "data": {
            "text/plain": [
              "<Figure size 432x288 with 1 Axes>"
            ],
            "image/png": "[encoded data removed]"
          },
          "metadata": {
            "needs_background": "light"
          }
        }
      ]
    },
    {
      "cell_type": "code",
      "source": [
        "plt.hist(M[:,512], bins=25); plt.show"
      ],
      "metadata": {
        "id": "twUHCPwWGTqb",
        "outputId": "7b289561-62d5-4fec-ddd1-4aea6b694a39",
        "colab": {
          "base_uri": "https://localhost:8080/",
          "height": 283
        }
      },
      "execution_count": 53,
      "outputs": [
        {
          "output_type": "execute_result",
          "data": {
            "text/plain": [
              "<function matplotlib.pyplot.show>"
            ]
          },
          "metadata": {},
          "execution_count": 53
        },
        {
          "output_type": "display_data",
          "data": {
            "text/plain": [
              "<Figure size 432x288 with 1 Axes>"
            ],
            "image/png": "[encoded data removed]"
          },
          "metadata": {
            "needs_background": "light"
          }
        }
      ]
    },
    {
      "cell_type": "code",
      "source": [
        "plt.hist(M[:,1023], bins=25); plt.show"
      ],
      "metadata": {
        "id": "vA3_-gdiGT12",
        "outputId": "c50cc0d8-3ccf-4a49-a94c-b7b50a6b5f60",
        "colab": {
          "base_uri": "https://localhost:8080/",
          "height": 285
        }
      },
      "execution_count": 54,
      "outputs": [
        {
          "output_type": "execute_result",
          "data": {
            "text/plain": [
              "<function matplotlib.pyplot.show>"
            ]
          },
          "metadata": {},
          "execution_count": 54
        },
        {
          "output_type": "display_data",
          "data": {
            "text/plain": [
              "<Figure size 432x288 with 1 Axes>"
            ],
            "image/png": "[encoded data removed]"
          },
          "metadata": {
            "needs_background": "light"
          }
        }
      ]
    },
    {
      "cell_type": "markdown",
      "source": [
        "Not priority. Visualize variation in encoding using a gif of decoded images, using [this code](https://stackoverflow.com/questions/753190/programmatically-generate-video-or-animated-gif-in-python)."
      ],
      "metadata": {
        "id": "EQKwvKcoLcfh"
      }
    },
    {
      "cell_type": "markdown",
      "source": [
        "# Examine images of latents sampled from standard normal distribution"
      ],
      "metadata": {
        "id": "OknyT_Y_HwEN"
      }
    },
    {
      "cell_type": "code",
      "source": [
        "from skimage.util import montage"
      ],
      "metadata": {
        "id": "-qj88ZmaNRJv"
      },
      "execution_count": 24,
      "outputs": []
    },
    {
      "cell_type": "code",
      "source": [
        "L = np.random.standard_normal((25, 1024)) * 0.2"
      ],
      "metadata": {
        "id": "gtYCA6vmItco"
      },
      "execution_count": 31,
      "outputs": []
    },
    {
      "cell_type": "code",
      "source": [
        "images = []\n",
        "for i in range(25):\n",
        "  g = sess.run(G, feed_dict={Z: (1*L[i,:].reshape((1,1024))), is_training: False})\n",
        "  g = imdeprocess(g)\n",
        "  images.append(g[0])"
      ],
      "metadata": {
        "id": "XxsN77HOIYZ5"
      },
      "execution_count": 32,
      "outputs": []
    },
    {
      "cell_type": "code",
      "source": [
        "images_arr = montage(images, multichannel=True)\n",
        "plt.imshow(images_arr)"
      ],
      "metadata": {
        "id": "fiS25cvtPGga",
        "outputId": "7cc73ce2-8ae9-4d7f-fd2e-f5bfbe9c6fbb",
        "colab": {
          "base_uri": "https://localhost:8080/",
          "height": 287
        }
      },
      "execution_count": 33,
      "outputs": [
        {
          "output_type": "execute_result",
          "data": {
            "text/plain": [
              "<matplotlib.image.AxesImage at 0x7f52e93b9f10>"
            ]
          },
          "metadata": {},
          "execution_count": 33
        },
        {
          "output_type": "display_data",
          "data": {
            "text/plain": [
              "<Figure size 432x288 with 1 Axes>"
            ],
            "image/png": "[encoded data removed]"
          },
          "metadata": {
            "needs_background": "light"
          }
        }
      ]
    },
    {
      "cell_type": "code",
      "source": [
        "g[0].shape"
      ],
      "metadata": {
        "id": "vtubaM07eSUh",
        "outputId": "11da32ce-8cab-4466-8013-75198b453d84",
        "colab": {
          "base_uri": "https://localhost:8080/"
        }
      },
      "execution_count": 34,
      "outputs": [
        {
          "output_type": "execute_result",
          "data": {
            "text/plain": [
              "(128, 128, 3)"
            ]
          },
          "metadata": {},
          "execution_count": 34
        }
      ]
    }
  ]
}