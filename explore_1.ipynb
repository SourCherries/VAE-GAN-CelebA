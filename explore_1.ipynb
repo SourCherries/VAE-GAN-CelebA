{
  "nbformat": 4,
  "nbformat_minor": 0,
  "metadata": {
    "colab": {
      "name": "Untitled0.ipynb",
      "provenance": [],
      "authorship_tag": "ABX9TyOb84I4OqD1aQdd//lZz5gE",
      "include_colab_link": true
    },
    "kernelspec": {
      "name": "python3",
      "display_name": "Python 3"
    },
    "language_info": {
      "name": "python"
    }
  },
  "cells": [
    {
      "cell_type": "markdown",
      "metadata": {
        "id": "view-in-github",
        "colab_type": "text"
      },
      "source": [
        "<a href=\"https://colab.research.google.com/github/SourCherries/VAE-GAN-CelebA/blob/master/explore_1.ipynb\" target=\"_parent\"><img src=\"https://colab.research.google.com/assets/colab-badge.svg\" alt=\"Open In Colab\"/></a>"
      ]
    },
    {
      "cell_type": "code",
      "source": [
        "! gdown --id 1o9nUhtZEX9GZXsTmvCXSNjEjDQ7Q1wHV"
      ],
      "metadata": {
        "id": "jY5YzLueVzvq"
      },
      "execution_count": null,
      "outputs": []
    },
    {
      "cell_type": "code",
      "source": [
        "%tensorflow_version 1.8"
      ],
      "metadata": {
        "id": "ULl7l2Xh0quz"
      },
      "execution_count": null,
      "outputs": []
    },
    {
      "cell_type": "code",
      "source": [
        "!git clone https://github.com/SourCherries/VAE-GAN-CelebA.git"
      ],
      "metadata": {
        "id": "cTVSn_kexSDJ"
      },
      "execution_count": null,
      "outputs": []
    },
    {
      "cell_type": "code",
      "execution_count": null,
      "metadata": {
        "id": "a3lKafI3vEuI"
      },
      "outputs": [],
      "source": [
        "import sys, getopt\n",
        "if sys.version_info < (3,4):\n",
        "    print('You are running an older version of Python!\\n\\n',\n",
        "          'You should consider updating to Python 3.4.0 or',\n",
        "          'higher.\\n')\n",
        "print(sys.version)"
      ]
    },
    {
      "cell_type": "code",
      "source": [
        "sys.path"
      ],
      "metadata": {
        "id": "-Lm03xt5y8wj"
      },
      "execution_count": null,
      "outputs": []
    },
    {
      "cell_type": "code",
      "source": [
        "sys.path.insert(0,'/content/VAE-GAN-CelebA/libs')\n",
        "sys.path.insert(0,'/content/VAE-GAN-CelebA/')"
      ],
      "metadata": {
        "id": "Gs6uyAjqyalL"
      },
      "execution_count": 4,
      "outputs": []
    },
    {
      "cell_type": "code",
      "source": [
        "import os\n",
        "import numpy as np\n",
        "import tensorflow as tf\n",
        "import matplotlib.pyplot as plt\n",
        "import libs.make_network as make_network\n",
        "import libs.utils as utils\n",
        "from scipy.io import loadmat, savemat\n",
        "\n",
        "print('TF version = ',tf.__version__)"
      ],
      "metadata": {
        "id": "tII8VcmIvQUf"
      },
      "execution_count": null,
      "outputs": []
    },
    {
      "cell_type": "code",
      "source": [
        "file = \"/content/VAE-GAN-CelebA/example.jpg\"\n",
        "print ('Input file is ', file)"
      ],
      "metadata": {
        "id": "myKZafdBvZkH"
      },
      "execution_count": null,
      "outputs": []
    },
    {
      "cell_type": "code",
      "source": [
        "sess, X, G, Z, Z_mu, is_training, saver = make_network.make_network()\n"
      ],
      "metadata": {
        "id": "BQ8vBNyHvdQ1"
      },
      "execution_count": null,
      "outputs": []
    },
    {
      "cell_type": "code",
      "source": [
        "if os.path.exists(\"vaegan_celeba.ckpt\"):\n",
        "    saver.restore(sess, \"vaegan_celeba.ckpt\")\n",
        "    print(\"VAE-GAN model restored.\")\n",
        "else:\n",
        "    print(\"Pre-trained network appears to be missing.\")\n",
        "    sys.exit()"
      ],
      "metadata": {
        "id": "26VhiQC4SMSh"
      },
      "execution_count": null,
      "outputs": []
    },
    {
      "cell_type": "code",
      "source": [
        "img = plt.imread(file)[..., :3]\n",
        "img = utils.preprocess128(img,crop_factor=0.8)[np.newaxis]"
      ],
      "metadata": {
        "id": "tleW4qNZvhJ7"
      },
      "execution_count": 22,
      "outputs": []
    },
    {
      "cell_type": "code",
      "source": [
        "#generate images from z\n",
        "z = sess.run(Z_mu, feed_dict={X: img, is_training: False})"
      ],
      "metadata": {
        "id": "4FqwOyoivkWD"
      },
      "execution_count": 23,
      "outputs": []
    },
    {
      "cell_type": "code",
      "source": [
        "#save data in Matlab format\n",
        "savemat(file[:-4]+'_z',dict(latent=z))"
      ],
      "metadata": {
        "id": "EDNUKqIGvnO5"
      },
      "execution_count": 24,
      "outputs": []
    },
    {
      "cell_type": "code",
      "source": [
        "print(z.shape)\n",
        "plt.hist(z.squeeze())"
      ],
      "metadata": {
        "id": "ZvpqEynnWrHY"
      },
      "execution_count": null,
      "outputs": []
    }
  ]
}