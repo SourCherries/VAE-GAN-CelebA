{
  "nbformat": 4,
  "nbformat_minor": 0,
  "metadata": {
    "colab": {
      "name": "visualize-celeba-15-AFC-sheldon.ipynb",
      "provenance": [],
      "collapsed_sections": [],
      "authorship_tag": "ABX9TyNAeZLuZGQZu7oQ7QBmSx+a",
      "include_colab_link": true
    },
    "kernelspec": {
      "name": "python3",
      "display_name": "Python 3"
    },
    "language_info": {
      "name": "python"
    }
  },
  "cells": [
    {
      "cell_type": "markdown",
      "metadata": {
        "id": "view-in-github",
        "colab_type": "text"
      },
      "source": [
        "<a href=\"https://colab.research.google.com/github/SourCherries/VAE-GAN-CelebA/blob/master/visualize_celeba_15_AFC_sheldon.ipynb\" target=\"_parent\"><img src=\"https://colab.research.google.com/assets/colab-badge.svg\" alt=\"Open In Colab\"/></a>"
      ]
    },
    {
      "cell_type": "code",
      "execution_count": 1,
      "metadata": {
        "colab": {
          "base_uri": "https://localhost:8080/"
        },
        "id": "Yn4jcXB0Hz3v",
        "outputId": "f60b265c-fb88-4006-f3ec-2d58386fe750"
      },
      "outputs": [
        {
          "output_type": "stream",
          "name": "stdout",
          "text": [
            "Cloning into 'VAE-GAN-CelebA'...\n",
            "remote: Enumerating objects: 193, done.\u001b[K\n",
            "remote: Counting objects: 100% (121/121), done.\u001b[K\n",
            "remote: Compressing objects: 100% (71/71), done.\u001b[K\n",
            "remote: Total 193 (delta 58), reused 106 (delta 49), pack-reused 72\u001b[K\n",
            "Receiving objects: 100% (193/193), 4.66 MiB | 27.12 MiB/s, done.\n",
            "Resolving deltas: 100% (87/87), done.\n",
            "WARNING: Tensorflow 1 is deprecated, and support will be removed on August 1, 2022.\n",
            "After that, `%tensorflow_version 1.x` will throw an error.\n",
            "\n",
            "Your notebook should be updated to use Tensorflow 2.\n",
            "See the guide at https://www.tensorflow.org/guide/migrate#migrate-from-tensorflow-1x-to-tensorflow-2.\n",
            "\n",
            "TensorFlow 1.x selected.\n",
            "3.7.13 (default, Apr 24 2022, 01:04:09) \n",
            "[GCC 7.5.0]\n",
            "TF version =  1.15.2\n",
            "/usr/local/lib/python3.7/dist-packages/gdown/cli.py:131: FutureWarning: Option `--id` was deprecated in version 4.3.1 and will be removed in 5.0. You don't need to pass it anymore to use a file ID.\n",
            "  category=FutureWarning,\n",
            "Downloading...\n",
            "From: https://drive.google.com/uc?id=1o9nUhtZEX9GZXsTmvCXSNjEjDQ7Q1wHV\n",
            "To: /content/vaegan_celeba.ckpt\n",
            "100% 555M/555M [00:06<00:00, 84.1MB/s]\n",
            "/usr/local/lib/python3.7/dist-packages/gdown/cli.py:131: FutureWarning: Option `--id` was deprecated in version 4.3.1 and will be removed in 5.0. You don't need to pass it anymore to use a file ID.\n",
            "  category=FutureWarning,\n",
            "Downloading...\n",
            "From: https://drive.google.com/uc?id=172v_Sfx-MyE2nS59jxl6W9-so3Xvyhkj\n",
            "To: /content/img_align_celeba.zip\n",
            "100% 1.44G/1.44G [00:17<00:00, 84.6MB/s]\n"
          ]
        }
      ],
      "source": [
        "!git clone https://github.com/SourCherries/VAE-GAN-CelebA.git\n",
        "\n",
        "%tensorflow_version 1.x\n",
        "\n",
        "import sys, getopt\n",
        "if sys.version_info < (3,4):\n",
        "    print('You are running an older version of Python!\\n\\n',\n",
        "          'You should consider updating to Python 3.4.0 or',\n",
        "          'higher.\\n')\n",
        "print(sys.version)\n",
        "\n",
        "sys.path.insert(0,'/content/VAE-GAN-CelebA/libs')\n",
        "sys.path.insert(0,'/content/VAE-GAN-CelebA/')\n",
        "\n",
        "import os\n",
        "import numpy as np\n",
        "import tensorflow as tf\n",
        "import matplotlib.pyplot as plt\n",
        "import libs.make_network as make_network\n",
        "import libs.utils as utils\n",
        "from scipy.io import loadmat, savemat\n",
        "import imageio\n",
        "from skimage.util import montage\n",
        "import pandas as pd\n",
        "import seaborn as sns\n",
        "\n",
        "import zipfile\n",
        "import io\n",
        "from PIL import Image\n",
        "from torchvision import transforms\n",
        "\n",
        "print('TF version = ',tf.__version__)\n",
        "\n",
        "# Download Tensorflow checkpoint\n",
        "! gdown --id 1o9nUhtZEX9GZXsTmvCXSNjEjDQ7Q1wHV\n",
        "\n",
        "# CelebA\n",
        "# https://drive.google.com/file/d/172v_Sfx-MyE2nS59jxl6W9-so3Xvyhkj/view?usp=sharing\n",
        "! gdown --id 172v_Sfx-MyE2nS59jxl6W9-so3Xvyhkj\n",
        "\n"
      ]
    },
    {
      "cell_type": "markdown",
      "source": [
        "## Model"
      ],
      "metadata": {
        "id": "akbu5Eg8JLVX"
      }
    },
    {
      "cell_type": "code",
      "source": [
        "sess, X, G, Z, Z_mu, is_training, saver = make_network.make_network()\n",
        "\n",
        "if os.path.exists(\"vaegan_celeba.ckpt\"):\n",
        "    saver.restore(sess, \"vaegan_celeba.ckpt\")\n",
        "    print(\"VAE-GAN model restored.\")\n",
        "else:\n",
        "    print(\"Pre-trained network appears to be missing.\")\n",
        "    sys.exit()\n",
        "\n"
      ],
      "metadata": {
        "colab": {
          "base_uri": "https://localhost:8080/"
        },
        "id": "4npjm1AeJMq5",
        "outputId": "2bdc6a40-efc3-4e28-ce7f-3ab8c507641e"
      },
      "execution_count": 2,
      "outputs": [
        {
          "output_type": "stream",
          "name": "stdout",
          "text": [
            "WARNING:tensorflow:From /content/VAE-GAN-CelebA/libs/make_network.py:85: The name tf.reset_default_graph is deprecated. Please use tf.compat.v1.reset_default_graph instead.\n",
            "\n",
            "WARNING:tensorflow:From /content/VAE-GAN-CelebA/libs/make_network.py:86: The name tf.placeholder is deprecated. Please use tf.compat.v1.placeholder instead.\n",
            "\n",
            "WARNING:tensorflow:From /content/VAE-GAN-CelebA/libs/make_network.py:100: The name tf.variable_scope is deprecated. Please use tf.compat.v1.variable_scope instead.\n",
            "\n",
            "encoder/input: [None, 128, 128, 3]\n",
            "WARNING:tensorflow:From /content/VAE-GAN-CelebA/libs/utils.py:64: The name tf.get_variable is deprecated. Please use tf.compat.v1.get_variable instead.\n",
            "\n",
            "WARNING:tensorflow:\n",
            "The TensorFlow contrib module will not be included in TensorFlow 2.0.\n",
            "For more information, please see:\n",
            "  * https://github.com/tensorflow/community/blob/master/rfcs/20180907-contrib-sunset.md\n",
            "  * https://github.com/tensorflow/addons\n",
            "  * https://github.com/tensorflow/io (for I/O related ops)\n",
            "If you depend on functionality not listed there, please file an issue.\n",
            "\n",
            "layer: 0 , shape: [None, 64, 64, 192]\n",
            "layer: 1 , shape: [None, 32, 32, 256]\n",
            "layer: 2 , shape: [None, 16, 16, 384]\n",
            "layer: 3 , shape: [None, 8, 8, 512]\n",
            "layer: 4 , shape: [None, 4, 4, 768]\n",
            "WARNING:tensorflow:From /content/VAE-GAN-CelebA/libs/make_network.py:55: The name tf.random_normal is deprecated. Please use tf.random.normal instead.\n",
            "\n",
            "WARNING:tensorflow:From /content/VAE-GAN-CelebA/libs/make_network.py:124: The name tf.Session is deprecated. Please use tf.compat.v1.Session instead.\n",
            "\n",
            "WARNING:tensorflow:From /tensorflow-1.15.2/python3.7/tensorflow_core/python/util/tf_should_use.py:198: initialize_all_variables (from tensorflow.python.ops.variables) is deprecated and will be removed after 2017-03-02.\n",
            "Instructions for updating:\n",
            "Use `tf.global_variables_initializer` instead.\n",
            "WARNING:tensorflow:From /content/VAE-GAN-CelebA/libs/make_network.py:126: The name tf.train.Saver is deprecated. Please use tf.compat.v1.train.Saver instead.\n",
            "\n",
            "WARNING:tensorflow:From /content/VAE-GAN-CelebA/libs/make_network.py:128: start_queue_runners (from tensorflow.python.training.queue_runner_impl) is deprecated and will be removed in a future version.\n",
            "Instructions for updating:\n",
            "To construct input pipelines, use the `tf.data` module.\n",
            "WARNING:tensorflow:`tf.train.start_queue_runners()` was called when no queue runners were defined. You can safely remove the call to this deprecated function.\n",
            "INFO:tensorflow:Restoring parameters from vaegan_celeba.ckpt\n",
            "VAE-GAN model restored.\n"
          ]
        }
      ]
    },
    {
      "cell_type": "markdown",
      "source": [
        "## Mean Z for 15 identities\n",
        "Final is Sheldon, first 7 are most similar to Sheldon, and next 7 have mean Z that are orthogonal to Sheldon."
      ],
      "metadata": {
        "id": "HAuzr9SNJelO"
      }
    },
    {
      "cell_type": "code",
      "source": [
        "z_file = \"/content/VAE-GAN-CelebA/celeba-15-AFC-sheldon-last\"\n",
        "Z = np.fromfile(z_file)\n",
        "Z = Z.reshape(15, 1025)\n",
        "ID = Z[:, 0]\n",
        "Z = Z[:, 1:]"
      ],
      "metadata": {
        "id": "jcq5QX9YJuu9"
      },
      "execution_count": 7,
      "outputs": []
    },
    {
      "cell_type": "markdown",
      "source": [
        "## Batchwise convert to images"
      ],
      "metadata": {
        "id": "ZcpNG3uZJT4y"
      }
    },
    {
      "cell_type": "code",
      "source": [
        "print(Z.shape)\n",
        "print(Z.dtype)"
      ],
      "metadata": {
        "colab": {
          "base_uri": "https://localhost:8080/"
        },
        "id": "auE7p-UZK7N2",
        "outputId": "93212da6-d73c-465c-e0f3-049939ab7b44"
      },
      "execution_count": 11,
      "outputs": [
        {
          "output_type": "stream",
          "name": "stdout",
          "text": [
            "(15, 1024)\n",
            "float64\n"
          ]
        }
      ]
    },
    {
      "cell_type": "code",
      "source": [
        "g = sess.run(G, feed_dict={Z: (1*Z), is_training: False})\n",
        "\n",
        "\n",
        "def imdeprocess(g):\n",
        "    stretch = 1.0\n",
        "    for i in range(g.shape[0]):\n",
        "        g[i]=np.clip(stretch*g[i] / (g.max()),0,1)\n",
        "    return g\n",
        "\n",
        "\n",
        "for gg in g:\n",
        "  img = imdeprocess(gg)\n",
        "  plt.imshow(img); plt.show()"
      ],
      "metadata": {
        "colab": {
          "base_uri": "https://localhost:8080/",
          "height": 236
        },
        "id": "8HLqaX4hJ315",
        "outputId": "627ba496-d253-40a0-edb7-1d97b0ad36b5"
      },
      "execution_count": 12,
      "outputs": [
        {
          "output_type": "error",
          "ename": "TypeError",
          "evalue": "ignored",
          "traceback": [
            "\u001b[0;31m---------------------------------------------------------------------------\u001b[0m",
            "\u001b[0;31mTypeError\u001b[0m                                 Traceback (most recent call last)",
            "\u001b[0;32m<ipython-input-12-dac9e2ff21bb>\u001b[0m in \u001b[0;36m<module>\u001b[0;34m()\u001b[0m\n\u001b[0;32m----> 1\u001b[0;31m \u001b[0mg\u001b[0m \u001b[0;34m=\u001b[0m \u001b[0msess\u001b[0m\u001b[0;34m.\u001b[0m\u001b[0mrun\u001b[0m\u001b[0;34m(\u001b[0m\u001b[0mG\u001b[0m\u001b[0;34m,\u001b[0m \u001b[0mfeed_dict\u001b[0m\u001b[0;34m=\u001b[0m\u001b[0;34m{\u001b[0m\u001b[0mZ\u001b[0m\u001b[0;34m:\u001b[0m \u001b[0;34m(\u001b[0m\u001b[0;36m1\u001b[0m\u001b[0;34m*\u001b[0m\u001b[0mZ\u001b[0m\u001b[0;34m)\u001b[0m\u001b[0;34m,\u001b[0m \u001b[0mis_training\u001b[0m\u001b[0;34m:\u001b[0m \u001b[0;32mFalse\u001b[0m\u001b[0;34m}\u001b[0m\u001b[0;34m)\u001b[0m\u001b[0;34m\u001b[0m\u001b[0;34m\u001b[0m\u001b[0m\n\u001b[0m\u001b[1;32m      2\u001b[0m \u001b[0;34m\u001b[0m\u001b[0m\n\u001b[1;32m      3\u001b[0m \u001b[0;34m\u001b[0m\u001b[0m\n\u001b[1;32m      4\u001b[0m \u001b[0;32mdef\u001b[0m \u001b[0mimdeprocess\u001b[0m\u001b[0;34m(\u001b[0m\u001b[0mg\u001b[0m\u001b[0;34m)\u001b[0m\u001b[0;34m:\u001b[0m\u001b[0;34m\u001b[0m\u001b[0;34m\u001b[0m\u001b[0m\n\u001b[1;32m      5\u001b[0m     \u001b[0mstretch\u001b[0m \u001b[0;34m=\u001b[0m \u001b[0;36m1.0\u001b[0m\u001b[0;34m\u001b[0m\u001b[0;34m\u001b[0m\u001b[0m\n",
            "\u001b[0;31mTypeError\u001b[0m: unhashable type: 'numpy.ndarray'"
          ]
        }
      ]
    },
    {
      "cell_type": "code",
      "source": [
        ""
      ],
      "metadata": {
        "id": "fhvXaYo_K3ON"
      },
      "execution_count": null,
      "outputs": []
    }
  ]
}