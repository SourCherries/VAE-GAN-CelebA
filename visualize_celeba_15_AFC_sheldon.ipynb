{
  "nbformat": 4,
  "nbformat_minor": 0,
  "metadata": {
    "colab": {
      "name": "visualize-celeba-15-AFC-sheldon.ipynb",
      "provenance": [],
      "collapsed_sections": [],
      "authorship_tag": "ABX9TyOryUq5hH9hwbuIQeQ6CvTb",
      "include_colab_link": true
    },
    "kernelspec": {
      "name": "python3",
      "display_name": "Python 3"
    },
    "language_info": {
      "name": "python"
    }
  },
  "cells": [
    {
      "cell_type": "markdown",
      "metadata": {
        "id": "view-in-github",
        "colab_type": "text"
      },
      "source": [
        "<a href=\"https://colab.research.google.com/github/SourCherries/VAE-GAN-CelebA/blob/master/visualize_celeba_15_AFC_sheldon.ipynb\" target=\"_parent\"><img src=\"https://colab.research.google.com/assets/colab-badge.svg\" alt=\"Open In Colab\"/></a>"
      ]
    },
    {
      "cell_type": "code",
      "execution_count": null,
      "metadata": {
        "id": "Yn4jcXB0Hz3v"
      },
      "outputs": [],
      "source": [
        "!git clone https://github.com/SourCherries/VAE-GAN-CelebA.git\n",
        "\n",
        "%tensorflow_version 1.x\n",
        "\n",
        "import sys, getopt\n",
        "if sys.version_info < (3,4):\n",
        "    print('You are running an older version of Python!\\n\\n',\n",
        "          'You should consider updating to Python 3.4.0 or',\n",
        "          'higher.\\n')\n",
        "print(sys.version)\n",
        "\n",
        "sys.path.insert(0,'/content/VAE-GAN-CelebA/libs')\n",
        "sys.path.insert(0,'/content/VAE-GAN-CelebA/')\n",
        "\n",
        "import os\n",
        "import numpy as np\n",
        "import tensorflow as tf\n",
        "import matplotlib.pyplot as plt\n",
        "import libs.make_network as make_network\n",
        "import libs.utils as utils\n",
        "from scipy.io import loadmat, savemat\n",
        "import imageio\n",
        "from skimage.util import montage\n",
        "import pandas as pd\n",
        "import seaborn as sns\n",
        "\n",
        "import zipfile\n",
        "import io\n",
        "from PIL import Image\n",
        "from torchvision import transforms\n",
        "\n",
        "print('TF version = ',tf.__version__)\n",
        "\n",
        "# Download Tensorflow checkpoint\n",
        "! gdown --id 1o9nUhtZEX9GZXsTmvCXSNjEjDQ7Q1wHV\n",
        "\n",
        "# CelebA\n",
        "# https://drive.google.com/file/d/172v_Sfx-MyE2nS59jxl6W9-so3Xvyhkj/view?usp=sharing\n",
        "! gdown --id 172v_Sfx-MyE2nS59jxl6W9-so3Xvyhkj\n",
        "\n"
      ]
    },
    {
      "cell_type": "markdown",
      "source": [
        "## Model"
      ],
      "metadata": {
        "id": "akbu5Eg8JLVX"
      }
    },
    {
      "cell_type": "code",
      "source": [
        "sess, X, G, Z, Z_mu, is_training, saver = make_network.make_network()\n",
        "\n",
        "if os.path.exists(\"vaegan_celeba.ckpt\"):\n",
        "    saver.restore(sess, \"vaegan_celeba.ckpt\")\n",
        "    print(\"VAE-GAN model restored.\")\n",
        "else:\n",
        "    print(\"Pre-trained network appears to be missing.\")\n",
        "    sys.exit()\n",
        "\n"
      ],
      "metadata": {
        "id": "4npjm1AeJMq5"
      },
      "execution_count": null,
      "outputs": []
    },
    {
      "cell_type": "markdown",
      "source": [
        "## Mean Z for 15 identities\n",
        "Final is Sheldon, first 7 are most similar to Sheldon, and next 7 have mean Z that are orthogonal to Sheldon."
      ],
      "metadata": {
        "id": "HAuzr9SNJelO"
      }
    },
    {
      "cell_type": "code",
      "source": [
        "z_file = \"celeba-15-AFC-sheldon-last\"\n",
        "Z = np.fromfile(z_file)\n",
        "\n",
        "ID = Z[:, 0]\n",
        "Z = Z[:, 1:]"
      ],
      "metadata": {
        "id": "jcq5QX9YJuu9"
      },
      "execution_count": null,
      "outputs": []
    },
    {
      "cell_type": "markdown",
      "source": [
        "## Batchwise convert to images"
      ],
      "metadata": {
        "id": "ZcpNG3uZJT4y"
      }
    },
    {
      "cell_type": "code",
      "source": [
        "def imdeprocess(g):\n",
        "    stretch = 1.0\n",
        "    for i in range(g.shape[0]):\n",
        "        g[i]=np.clip(stretch*g[i] / (g.max()),0,1)\n",
        "    return g\n",
        "\n",
        "g = sess.run(G, feed_dict={Z: (1*Z), is_training: False})\n",
        "\n",
        "for gg in g:\n",
        "  img = imdeprocess(gg)\n",
        "  plt.imshow(img); plt.show()"
      ],
      "metadata": {
        "id": "8HLqaX4hJ315"
      },
      "execution_count": null,
      "outputs": []
    }
  ]
}