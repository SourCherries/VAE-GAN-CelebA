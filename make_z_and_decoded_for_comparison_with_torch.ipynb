{
  "nbformat": 4,
  "nbformat_minor": 0,
  "metadata": {
    "colab": {
      "name": "make_z_and_decoded_for_comparison_with_torch.ipynb",
      "provenance": [],
      "collapsed_sections": [],
      "authorship_tag": "ABX9TyONdmrpT8CIcT7+9wYHhNNz",
      "include_colab_link": true
    },
    "kernelspec": {
      "name": "python3",
      "display_name": "Python 3"
    },
    "language_info": {
      "name": "python"
    }
  },
  "cells": [
    {
      "cell_type": "markdown",
      "metadata": {
        "id": "view-in-github",
        "colab_type": "text"
      },
      "source": [
        "<a href=\"https://colab.research.google.com/github/SourCherries/VAE-GAN-CelebA/blob/master/make_z_and_decoded_for_comparison_with_torch.ipynb\" target=\"_parent\"><img src=\"https://colab.research.google.com/assets/colab-badge.svg\" alt=\"Open In Colab\"/></a>"
      ]
    },
    {
      "cell_type": "markdown",
      "source": [
        ""
      ],
      "metadata": {
        "id": "46otswLZ0bCt"
      }
    },
    {
      "cell_type": "code",
      "execution_count": null,
      "metadata": {
        "id": "aMBWV47w0aPr"
      },
      "outputs": [],
      "source": [
        "# Download Tensorflow checkpoint\n",
        "! gdown --id 1o9nUhtZEX9GZXsTmvCXSNjEjDQ7Q1wHV\n",
        "\n",
        "%tensorflow_version 1.x\n",
        "\n",
        "!git clone https://github.com/SourCherries/VAE-GAN-CelebA.git\n",
        "\n",
        "sys.path.insert(0,'/content/VAE-GAN-CelebA/libs')\n",
        "sys.path.insert(0,'/content/VAE-GAN-CelebA/')\n",
        "\n",
        "file = \"/content/VAE-GAN-CelebA/example.jpg\"\n",
        "print('Input file is ', file)\n",
        "\n",
        "try:\n",
        "    import os\n",
        "    import numpy as np\n",
        "    import tensorflow as tf\n",
        "    import matplotlib.pyplot as plt\n",
        "    import libs.make_network_deterministic as make_network\n",
        "    import libs.utils as utils\n",
        "    from scipy.io import loadmat, savemat\n",
        "except ImportError as e:\n",
        "    print(\"Make sure the libs folder is available in current directory.\")\n",
        "    print(e)"
      ]
    },
    {
      "cell_type": "markdown",
      "source": [
        "# Encoding"
      ],
      "metadata": {
        "id": "ECzlhCUC1y82"
      }
    },
    {
      "cell_type": "code",
      "source": [
        "file = \"example.jpg\"\n",
        "\n",
        "sess, X, G, Z, Z_mu, is_training, saver = make_network.make_network()\n",
        "if os.path.exists(\"vaegan_celeba.ckpt\"):\n",
        "    saver.restore(sess, \"vaegan_celeba.ckpt\")\n",
        "    print(\"VAE-GAN model restored.\")\n",
        "else:\n",
        "    print(\"Pre-trained network appears to be missing.\")\n",
        "    sys.exit()\n",
        "\n",
        "img = plt.imread(file)[..., :3]\n",
        "img = utils.preprocess128(img,crop_factor=0.8)[np.newaxis]\n",
        "                \n",
        "#generate images from z\n",
        "z = sess.run(Z_mu, feed_dict={X: img, is_training: False})\n",
        "\n",
        "#save data in Matlab format\n",
        "savemat(file[:-4]+'_z',dict(latent=z))"
      ],
      "metadata": {
        "id": "vTgtUsuQ11mx"
      },
      "execution_count": null,
      "outputs": []
    },
    {
      "cell_type": "markdown",
      "source": [
        "# Decoding"
      ],
      "metadata": {
        "id": "tfQ3R6cU130p"
      }
    },
    {
      "cell_type": "code",
      "source": [
        "file = \"example_z\"\n",
        "\n",
        "sess, X, G, Z, Z_mu, is_training, saver = make_network.make_network()\n",
        "if os.path.exists(\"vaegan_celeba.ckpt\"):\n",
        "    saver.restore(sess, \"vaegan_celeba.ckpt\")\n",
        "    print(\"VAE-GAN model restored.\")\n",
        "else:\n",
        "    print(\"Pre-trained network appears to be missing.\")\n",
        "    sys.exit()\n",
        "\n",
        "\n",
        "#load data from Matlab format\n",
        "latent = loadmat(file)['latent'] #make sure that the matlab variable name is 'latent'\n",
        "print('input data to be transformed:',latent.shape)\n",
        "if latent.shape[0]==1024:\n",
        "    latent=latent[np.newaxis]\n",
        "elif latent.shape[1]!=1024:\n",
        "    print(\"None of the input dimensions appears to be 1024!!!\")\n",
        "                \n",
        "#generate images from z\n",
        "g = sess.run(G, feed_dict={Z: (1*latent), is_training: False})\n",
        "\n",
        "def imdeprocess(g):\n",
        "    stretch = 1.0\n",
        "    for i in range(g.shape[0]):\n",
        "        g[i]=np.clip(stretch*g[i] / (g.max()),0,1)\n",
        "    return g\n",
        "\n",
        "g=imdeprocess(g)\n",
        "                \n",
        "#if there's only one image, we save it as a jpg\n",
        "if g.shape[0]==1:\n",
        "    plt.imsave(file[:-4]+'_g.jpg',g[0])\n",
        "                \n",
        "#in all cases, we save the image(s) as a .mat file\n",
        "savemat(file[:-4]+'_g',dict(images=g))"
      ],
      "metadata": {
        "id": "VPs99ycO1572"
      },
      "execution_count": null,
      "outputs": []
    }
  ]
}