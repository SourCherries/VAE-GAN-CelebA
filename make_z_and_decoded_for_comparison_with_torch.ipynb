{
  "nbformat": 4,
  "nbformat_minor": 0,
  "metadata": {
    "colab": {
      "name": "make_z_and_decoded_for_comparison_with_torch.ipynb",
      "provenance": [],
      "collapsed_sections": [],
      "authorship_tag": "ABX9TyMUjhrvqb4ZBJ2PYsz6rZML",
      "include_colab_link": true
    },
    "kernelspec": {
      "name": "python3",
      "display_name": "Python 3"
    },
    "language_info": {
      "name": "python"
    }
  },
  "cells": [
    {
      "cell_type": "markdown",
      "metadata": {
        "id": "view-in-github",
        "colab_type": "text"
      },
      "source": [
        "<a href=\"https://colab.research.google.com/github/SourCherries/VAE-GAN-CelebA/blob/master/make_z_and_decoded_for_comparison_with_torch.ipynb\" target=\"_parent\"><img src=\"https://colab.research.google.com/assets/colab-badge.svg\" alt=\"Open In Colab\"/></a>"
      ]
    },
    {
      "cell_type": "markdown",
      "source": [
        ""
      ],
      "metadata": {
        "id": "46otswLZ0bCt"
      }
    },
    {
      "cell_type": "code",
      "execution_count": 3,
      "metadata": {
        "colab": {
          "base_uri": "https://localhost:8080/"
        },
        "id": "aMBWV47w0aPr",
        "outputId": "a5cc7f4e-cfd8-41d3-a45e-dccd663e3f0a"
      },
      "outputs": [
        {
          "output_type": "stream",
          "name": "stdout",
          "text": [
            "/usr/local/lib/python3.7/dist-packages/gdown/cli.py:131: FutureWarning: Option `--id` was deprecated in version 4.3.1 and will be removed in 5.0. You don't need to pass it anymore to use a file ID.\n",
            "  category=FutureWarning,\n",
            "Downloading...\n",
            "From: https://drive.google.com/uc?id=1o9nUhtZEX9GZXsTmvCXSNjEjDQ7Q1wHV\n",
            "To: /content/vaegan_celeba.ckpt\n",
            "100% 555M/555M [00:05<00:00, 103MB/s] \n",
            "fatal: destination path 'VAE-GAN-CelebA' already exists and is not an empty directory.\n"
          ]
        }
      ],
      "source": [
        "# Download Tensorflow checkpoint\n",
        "! gdown --id 1o9nUhtZEX9GZXsTmvCXSNjEjDQ7Q1wHV\n",
        "\n",
        "%tensorflow_version 1.x\n",
        "\n",
        "!git clone https://github.com/SourCherries/VAE-GAN-CelebA.git\n",
        "\n",
        "import sys\n",
        "sys.path.insert(0,'/content/VAE-GAN-CelebA/libs')\n",
        "sys.path.insert(0,'/content/VAE-GAN-CelebA/')\n",
        "\n",
        "try:\n",
        "  import sys\n",
        "  import os\n",
        "  import numpy as np\n",
        "  import tensorflow as tf\n",
        "  import matplotlib.pyplot as plt\n",
        "  import libs.make_network_deterministic as make_network\n",
        "  import libs.utils as utils\n",
        "  from scipy.io import loadmat, savemat\n",
        "except ImportError as e:\n",
        "  print(\"Make sure the libs folder is available in current directory.\")\n",
        "  print(e)\n",
        "\n",
        "  "
      ]
    },
    {
      "cell_type": "markdown",
      "source": [
        "# Encoding"
      ],
      "metadata": {
        "id": "ECzlhCUC1y82"
      }
    },
    {
      "cell_type": "code",
      "source": [
        "file = \"/content/VAE-GAN-CelebA/example.jpg\"\n",
        "print('Input file is ', file)\n",
        "\n",
        "sess, X, G, Z, Z_mu, is_training, saver = make_network.make_network()\n",
        "if os.path.exists(\"vaegan_celeba.ckpt\"):\n",
        "    saver.restore(sess, \"vaegan_celeba.ckpt\")\n",
        "    print(\"VAE-GAN model restored.\")\n",
        "else:\n",
        "    print(\"Pre-trained network appears to be missing.\")\n",
        "    sys.exit()\n",
        "\n",
        "img = plt.imread(file)[..., :3]\n",
        "img = utils.preprocess128(img,crop_factor=0.8)[np.newaxis]\n",
        "                \n",
        "#generate images from z\n",
        "z = sess.run(Z_mu, feed_dict={X: img, is_training: False})\n",
        "\n",
        "#save data in Matlab format\n",
        "savemat(file[:-4]+'_z',dict(latent=z))"
      ],
      "metadata": {
        "colab": {
          "base_uri": "https://localhost:8080/"
        },
        "id": "vTgtUsuQ11mx",
        "outputId": "8e36482e-10cb-4cf0-fe50-348b59414821"
      },
      "execution_count": 4,
      "outputs": [
        {
          "output_type": "stream",
          "name": "stderr",
          "text": [
            "WARNING:tensorflow:From /content/VAE-GAN-CelebA/libs/make_network_deterministic.py:86: The name tf.reset_default_graph is deprecated. Please use tf.compat.v1.reset_default_graph instead.\n",
            "\n",
            "WARNING:tensorflow:From /content/VAE-GAN-CelebA/libs/make_network_deterministic.py:87: The name tf.placeholder is deprecated. Please use tf.compat.v1.placeholder instead.\n",
            "\n",
            "WARNING:tensorflow:From /content/VAE-GAN-CelebA/libs/make_network_deterministic.py:101: The name tf.variable_scope is deprecated. Please use tf.compat.v1.variable_scope instead.\n",
            "\n",
            "WARNING:tensorflow:From /content/VAE-GAN-CelebA/libs/utils.py:64: The name tf.get_variable is deprecated. Please use tf.compat.v1.get_variable instead.\n",
            "\n",
            "WARNING:tensorflow:\n",
            "The TensorFlow contrib module will not be included in TensorFlow 2.0.\n",
            "For more information, please see:\n",
            "  * https://github.com/tensorflow/community/blob/master/rfcs/20180907-contrib-sunset.md\n",
            "  * https://github.com/tensorflow/addons\n",
            "  * https://github.com/tensorflow/io (for I/O related ops)\n",
            "If you depend on functionality not listed there, please file an issue.\n",
            "\n"
          ]
        },
        {
          "output_type": "stream",
          "name": "stdout",
          "text": [
            "Input file is  /content/VAE-GAN-CelebA/example.jpg\n",
            "encoder/input: [None, 128, 128, 3]\n",
            "layer: 0 , shape: [None, 64, 64, 192]\n",
            "layer: 1 , shape: [None, 32, 32, 256]\n",
            "layer: 2 , shape: [None, 16, 16, 384]\n",
            "layer: 3 , shape: [None, 8, 8, 512]\n"
          ]
        },
        {
          "output_type": "stream",
          "name": "stderr",
          "text": [
            "WARNING:tensorflow:From /content/VAE-GAN-CelebA/libs/make_network_deterministic.py:55: The name tf.random_normal is deprecated. Please use tf.random.normal instead.\n",
            "\n"
          ]
        },
        {
          "output_type": "stream",
          "name": "stdout",
          "text": [
            "layer: 4 , shape: [None, 4, 4, 768]\n",
            "Tensor(\"encoder/variational/random_normal:0\", shape=(?, 1024), dtype=float32)\n"
          ]
        },
        {
          "output_type": "stream",
          "name": "stderr",
          "text": [
            "WARNING:tensorflow:From /content/VAE-GAN-CelebA/libs/make_network_deterministic.py:125: The name tf.Session is deprecated. Please use tf.compat.v1.Session instead.\n",
            "\n",
            "WARNING:tensorflow:From /tensorflow-1.15.2/python3.7/tensorflow_core/python/util/tf_should_use.py:198: initialize_all_variables (from tensorflow.python.ops.variables) is deprecated and will be removed after 2017-03-02.\n",
            "Instructions for updating:\n",
            "Use `tf.global_variables_initializer` instead.\n",
            "WARNING:tensorflow:From /content/VAE-GAN-CelebA/libs/make_network_deterministic.py:127: The name tf.train.Saver is deprecated. Please use tf.compat.v1.train.Saver instead.\n",
            "\n",
            "WARNING:tensorflow:From /content/VAE-GAN-CelebA/libs/make_network_deterministic.py:129: start_queue_runners (from tensorflow.python.training.queue_runner_impl) is deprecated and will be removed in a future version.\n",
            "Instructions for updating:\n",
            "To construct input pipelines, use the `tf.data` module.\n",
            "WARNING:tensorflow:`tf.train.start_queue_runners()` was called when no queue runners were defined. You can safely remove the call to this deprecated function.\n"
          ]
        },
        {
          "output_type": "stream",
          "name": "stdout",
          "text": [
            "VAE-GAN model restored.\n"
          ]
        }
      ]
    },
    {
      "cell_type": "markdown",
      "source": [
        "# Decoding"
      ],
      "metadata": {
        "id": "tfQ3R6cU130p"
      }
    },
    {
      "cell_type": "code",
      "source": [
        "# file = \"example_z\"\n",
        "file = \"/content/VAE-GAN-CelebA/example_z\"\n",
        "\n",
        "sess, X, G, Z, Z_mu, is_training, saver = make_network.make_network()\n",
        "if os.path.exists(\"vaegan_celeba.ckpt\"):\n",
        "    saver.restore(sess, \"vaegan_celeba.ckpt\")\n",
        "    print(\"VAE-GAN model restored.\")\n",
        "else:\n",
        "    print(\"Pre-trained network appears to be missing.\")\n",
        "    sys.exit()\n",
        "\n",
        "\n",
        "#load data from Matlab format\n",
        "latent = loadmat(file)['latent'] #make sure that the matlab variable name is 'latent'\n",
        "print('input data to be transformed:',latent.shape)\n",
        "if latent.shape[0]==1024:\n",
        "    latent=latent[np.newaxis]\n",
        "elif latent.shape[1]!=1024:\n",
        "    print(\"None of the input dimensions appears to be 1024!!!\")\n",
        "                \n",
        "#generate images from z\n",
        "g = sess.run(G, feed_dict={Z: (1*latent), is_training: False})\n",
        "\n",
        "def imdeprocess(g):\n",
        "    stretch = 1.0\n",
        "    for i in range(g.shape[0]):\n",
        "        g[i]=np.clip(stretch*g[i] / (g.max()),0,1)\n",
        "    return g\n",
        "\n",
        "g=imdeprocess(g)\n",
        "                \n",
        "#if there's only one image, we save it as a jpg\n",
        "if g.shape[0]==1:\n",
        "    plt.imsave(file[:-4]+'_g.jpg',g[0])\n",
        "                \n",
        "#in all cases, we save the image(s) as a .mat file\n",
        "savemat(file[:-4]+'_g',dict(images=g))"
      ],
      "metadata": {
        "colab": {
          "base_uri": "https://localhost:8080/"
        },
        "id": "VPs99ycO1572",
        "outputId": "2b177398-a320-428c-9208-27e129e1e709"
      },
      "execution_count": 5,
      "outputs": [
        {
          "output_type": "stream",
          "name": "stdout",
          "text": [
            "encoder/input: [None, 128, 128, 3]\n",
            "layer: 0 , shape: [None, 64, 64, 192]\n",
            "layer: 1 , shape: [None, 32, 32, 256]\n",
            "layer: 2 , shape: [None, 16, 16, 384]\n",
            "layer: 3 , shape: [None, 8, 8, 512]\n",
            "layer: 4 , shape: [None, 4, 4, 768]\n",
            "Tensor(\"encoder/variational/random_normal:0\", shape=(?, 1024), dtype=float32)\n"
          ]
        },
        {
          "output_type": "stream",
          "name": "stderr",
          "text": [
            "WARNING:tensorflow:`tf.train.start_queue_runners()` was called when no queue runners were defined. You can safely remove the call to this deprecated function.\n"
          ]
        },
        {
          "output_type": "stream",
          "name": "stdout",
          "text": [
            "VAE-GAN model restored.\n",
            "input data to be transformed: (1, 1024)\n"
          ]
        }
      ]
    }
  ]
}