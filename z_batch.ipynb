{
  "nbformat": 4,
  "nbformat_minor": 0,
  "metadata": {
    "colab": {
      "name": "z_batch.ipynb",
      "provenance": [],
      "collapsed_sections": [],
      "toc_visible": true,
      "authorship_tag": "ABX9TyM5VovTrHUi+SHxpzhZX3KZ",
      "include_colab_link": true
    },
    "kernelspec": {
      "name": "python3",
      "display_name": "Python 3"
    },
    "language_info": {
      "name": "python"
    },
    "accelerator": "GPU",
    "gpuClass": "standard"
  },
  "cells": [
    {
      "cell_type": "markdown",
      "metadata": {
        "id": "view-in-github",
        "colab_type": "text"
      },
      "source": [
        "<a href=\"https://colab.research.google.com/github/SourCherries/VAE-GAN-CelebA/blob/master/z_batch.ipynb\" target=\"_parent\"><img src=\"https://colab.research.google.com/assets/colab-badge.svg\" alt=\"Open In Colab\"/></a>"
      ]
    },
    {
      "cell_type": "markdown",
      "source": [
        "# Mean Z for every identity in [CelebA](https://mmlab.ie.cuhk.edu.hk/projects/CelebA.html)"
      ],
      "metadata": {
        "id": "8xjtu2lL7tff"
      }
    },
    {
      "cell_type": "markdown",
      "source": [
        "## Load modules"
      ],
      "metadata": {
        "id": "JLRihpvR8r3O"
      }
    },
    {
      "cell_type": "code",
      "execution_count": 1,
      "metadata": {
        "colab": {
          "base_uri": "https://localhost:8080/"
        },
        "id": "_QISSj7i7q1Z",
        "outputId": "8f121612-3caa-4f51-b53f-d9540b3f103c"
      },
      "outputs": [
        {
          "output_type": "stream",
          "name": "stdout",
          "text": [
            "Cloning into 'VAE-GAN-CelebA'...\n",
            "remote: Enumerating objects: 178, done.\u001b[K\n",
            "remote: Counting objects: 100% (92/92), done.\u001b[K\n",
            "remote: Compressing objects: 100% (91/91), done.\u001b[K\n",
            "remote: Total 178 (delta 41), reused 0 (delta 0), pack-reused 86\u001b[K\n",
            "Receiving objects: 100% (178/178), 4.44 MiB | 4.79 MiB/s, done.\n",
            "Resolving deltas: 100% (79/79), done.\n"
          ]
        }
      ],
      "source": [
        "!git clone https://github.com/SourCherries/VAE-GAN-CelebA.git"
      ]
    },
    {
      "cell_type": "code",
      "source": [
        "%tensorflow_version 1.x"
      ],
      "metadata": {
        "colab": {
          "base_uri": "https://localhost:8080/"
        },
        "id": "2g6XOd7a8QSw",
        "outputId": "839be0e4-85d2-404d-a4e1-aff1691a0650"
      },
      "execution_count": 2,
      "outputs": [
        {
          "output_type": "stream",
          "name": "stdout",
          "text": [
            "TensorFlow 1.x selected.\n"
          ]
        }
      ]
    },
    {
      "cell_type": "code",
      "source": [
        "import sys, getopt\n",
        "if sys.version_info < (3,4):\n",
        "    print('You are running an older version of Python!\\n\\n',\n",
        "          'You should consider updating to Python 3.4.0 or',\n",
        "          'higher.\\n')\n",
        "print(sys.version)\n",
        "\n",
        "sys.path.insert(0,'/content/VAE-GAN-CelebA/libs')\n",
        "sys.path.insert(0,'/content/VAE-GAN-CelebA/')\n",
        "\n",
        "import os\n",
        "import numpy as np\n",
        "import tensorflow as tf\n",
        "import matplotlib.pyplot as plt\n",
        "import libs.make_network as make_network\n",
        "import libs.utils as utils\n",
        "from scipy.io import loadmat, savemat\n",
        "import imageio\n",
        "from skimage.util import montage\n",
        "import pandas as pd\n",
        "import seaborn as sns\n",
        "\n",
        "print('TF version = ',tf.__version__)"
      ],
      "metadata": {
        "colab": {
          "base_uri": "https://localhost:8080/"
        },
        "id": "BOsm-M5M8VKW",
        "outputId": "f3d8d5ec-3032-4c3f-ab8c-c141eadfadbc"
      },
      "execution_count": 3,
      "outputs": [
        {
          "output_type": "stream",
          "name": "stdout",
          "text": [
            "3.7.13 (default, Apr 24 2022, 01:04:09) \n",
            "[GCC 7.5.0]\n",
            "TF version =  1.15.2\n"
          ]
        }
      ]
    },
    {
      "cell_type": "code",
      "source": [
        "# Download Tensorflow checkpoint\n",
        "! gdown --id 1o9nUhtZEX9GZXsTmvCXSNjEjDQ7Q1wHV"
      ],
      "metadata": {
        "colab": {
          "base_uri": "https://localhost:8080/"
        },
        "id": "__kE8FxG8g6i",
        "outputId": "966334e4-6885-4dae-a515-0a6ce5f52d2a"
      },
      "execution_count": 4,
      "outputs": [
        {
          "output_type": "stream",
          "name": "stdout",
          "text": [
            "/usr/local/lib/python3.7/dist-packages/gdown/cli.py:131: FutureWarning: Option `--id` was deprecated in version 4.3.1 and will be removed in 5.0. You don't need to pass it anymore to use a file ID.\n",
            "  category=FutureWarning,\n",
            "Downloading...\n",
            "From: https://drive.google.com/uc?id=1o9nUhtZEX9GZXsTmvCXSNjEjDQ7Q1wHV\n",
            "To: /content/vaegan_celeba.ckpt\n",
            "100% 555M/555M [00:11<00:00, 50.3MB/s]\n"
          ]
        }
      ]
    },
    {
      "cell_type": "markdown",
      "source": [
        "## Load images"
      ],
      "metadata": {
        "id": "nckcIB0Y9EBw"
      }
    },
    {
      "cell_type": "code",
      "source": [
        "# Two faces\n",
        "# https://drive.google.com/file/d/1SLm933s8UgqZqU76dacDIhpPAqRb-FH-/view?usp=sharing\n",
        "! gdown --id 1SLm933s8UgqZqU76dacDIhpPAqRb-FH-\n",
        "\n",
        "# CelebA\n",
        "# https://drive.google.com/file/d/172v_Sfx-MyE2nS59jxl6W9-so3Xvyhkj/view?usp=sharing\n",
        "! gdown --id 172v_Sfx-MyE2nS59jxl6W9-so3Xvyhkj"
      ],
      "metadata": {
        "colab": {
          "base_uri": "https://localhost:8080/"
        },
        "id": "c22uJeBR8l0U",
        "outputId": "37ac2b8a-b1df-4843-f622-b2530c01f1c4"
      },
      "execution_count": 5,
      "outputs": [
        {
          "output_type": "stream",
          "name": "stdout",
          "text": [
            "/usr/local/lib/python3.7/dist-packages/gdown/cli.py:131: FutureWarning: Option `--id` was deprecated in version 4.3.1 and will be removed in 5.0. You don't need to pass it anymore to use a file ID.\n",
            "  category=FutureWarning,\n",
            "Downloading...\n",
            "From: https://drive.google.com/uc?id=1SLm933s8UgqZqU76dacDIhpPAqRb-FH-\n",
            "To: /content/twofaces.zip\n",
            "100% 188k/188k [00:00<00:00, 113MB/s]\n",
            "/usr/local/lib/python3.7/dist-packages/gdown/cli.py:131: FutureWarning: Option `--id` was deprecated in version 4.3.1 and will be removed in 5.0. You don't need to pass it anymore to use a file ID.\n",
            "  category=FutureWarning,\n",
            "Downloading...\n",
            "From: https://drive.google.com/uc?id=172v_Sfx-MyE2nS59jxl6W9-so3Xvyhkj\n",
            "To: /content/img_align_celeba.zip\n",
            "100% 1.44G/1.44G [00:26<00:00, 54.1MB/s]\n"
          ]
        }
      ]
    },
    {
      "cell_type": "markdown",
      "source": [
        "## Access images from zip"
      ],
      "metadata": {
        "id": "75b0PD0X-grx"
      }
    },
    {
      "cell_type": "code",
      "source": [
        "import zipfile\n",
        "import io\n",
        "from PIL import Image\n",
        "from torchvision import transforms"
      ],
      "metadata": {
        "id": "mNeEIds6-kIC"
      },
      "execution_count": 6,
      "outputs": []
    },
    {
      "cell_type": "code",
      "source": [
        "z = zipfile.ZipFile(\"img_align_celeba.zip\")\n",
        "counter = 0\n",
        "imgs = np.zeros((2, 128, 128, 3))\n",
        "# for i in range(len(z.namelist())):\n",
        "for i in range(3):\n",
        "\n",
        "    file_in_zip = z.namelist()[i]\n",
        "    if (\".jpg\" in file_in_zip or \".JPG\" in file_in_zip):\n",
        "        counter += 1\n",
        "        data = z.read(file_in_zip)\n",
        "        dataEnc = io.BytesIO(data)\n",
        "        img = Image.open(dataEnc)\n",
        "        display(img) #  Jupyter specific function\n",
        "        print(file_in_zip)\n",
        "        img = utils.preprocess128(np.array(img),crop_factor=0.8)[np.newaxis]\n",
        "        imgs[counter-1, :, :, :] = img\n",
        "print(f'{counter} images processed.')"
      ],
      "metadata": {
        "colab": {
          "base_uri": "https://localhost:8080/",
          "height": 505
        },
        "id": "HXMk71il_Rxc",
        "outputId": "da508034-c8cb-47c9-c434-c68066119ccc"
      },
      "execution_count": 7,
      "outputs": [
        {
          "output_type": "display_data",
          "data": {
            "text/plain": [
              "<PIL.JpegImagePlugin.JpegImageFile image mode=RGB size=178x218 at 0x7F7EEBCF9510>"
            ],
            "image/png": "[encoded data removed]"
          },
          "metadata": {}
        },
        {
          "output_type": "stream",
          "name": "stdout",
          "text": [
            "img_align_celeba/000001.jpg\n"
          ]
        },
        {
          "output_type": "display_data",
          "data": {
            "text/plain": [
              "<PIL.JpegImagePlugin.JpegImageFile image mode=RGB size=178x218 at 0x7F7EE360E950>"
            ],
            "image/png": "[encoded data removed]"
          },
          "metadata": {}
        },
        {
          "output_type": "stream",
          "name": "stdout",
          "text": [
            "img_align_celeba/000002.jpg\n",
            "2 images processed.\n"
          ]
        }
      ]
    },
    {
      "cell_type": "markdown",
      "source": [
        "## Model"
      ],
      "metadata": {
        "id": "v5UDpOGjvJE6"
      }
    },
    {
      "cell_type": "code",
      "source": [
        "sess, X, G, Z, Z_mu, is_training, saver = make_network.make_network()\n",
        "\n",
        "if os.path.exists(\"vaegan_celeba.ckpt\"):\n",
        "    saver.restore(sess, \"vaegan_celeba.ckpt\")\n",
        "    print(\"VAE-GAN model restored.\")\n",
        "else:\n",
        "    print(\"Pre-trained network appears to be missing.\")\n",
        "    sys.exit()"
      ],
      "metadata": {
        "colab": {
          "base_uri": "https://localhost:8080/"
        },
        "id": "glh8Q8PgvQLJ",
        "outputId": "a42eab5a-01b3-4713-9e64-2c913457aba7"
      },
      "execution_count": 7,
      "outputs": [
        {
          "output_type": "stream",
          "name": "stdout",
          "text": [
            "WARNING:tensorflow:From /content/VAE-GAN-CelebA/libs/make_network.py:85: The name tf.reset_default_graph is deprecated. Please use tf.compat.v1.reset_default_graph instead.\n",
            "\n",
            "WARNING:tensorflow:From /content/VAE-GAN-CelebA/libs/make_network.py:86: The name tf.placeholder is deprecated. Please use tf.compat.v1.placeholder instead.\n",
            "\n",
            "WARNING:tensorflow:From /content/VAE-GAN-CelebA/libs/make_network.py:100: The name tf.variable_scope is deprecated. Please use tf.compat.v1.variable_scope instead.\n",
            "\n",
            "encoder/input: [None, 128, 128, 3]\n",
            "WARNING:tensorflow:From /content/VAE-GAN-CelebA/libs/utils.py:64: The name tf.get_variable is deprecated. Please use tf.compat.v1.get_variable instead.\n",
            "\n",
            "WARNING:tensorflow:\n",
            "The TensorFlow contrib module will not be included in TensorFlow 2.0.\n",
            "For more information, please see:\n",
            "  * https://github.com/tensorflow/community/blob/master/rfcs/20180907-contrib-sunset.md\n",
            "  * https://github.com/tensorflow/addons\n",
            "  * https://github.com/tensorflow/io (for I/O related ops)\n",
            "If you depend on functionality not listed there, please file an issue.\n",
            "\n",
            "layer: 0 , shape: [None, 64, 64, 192]\n",
            "layer: 1 , shape: [None, 32, 32, 256]\n",
            "layer: 2 , shape: [None, 16, 16, 384]\n",
            "layer: 3 , shape: [None, 8, 8, 512]\n",
            "layer: 4 , shape: [None, 4, 4, 768]\n",
            "WARNING:tensorflow:From /content/VAE-GAN-CelebA/libs/make_network.py:55: The name tf.random_normal is deprecated. Please use tf.random.normal instead.\n",
            "\n",
            "WARNING:tensorflow:From /content/VAE-GAN-CelebA/libs/make_network.py:124: The name tf.Session is deprecated. Please use tf.compat.v1.Session instead.\n",
            "\n",
            "WARNING:tensorflow:From /tensorflow-1.15.2/python3.7/tensorflow_core/python/util/tf_should_use.py:198: initialize_all_variables (from tensorflow.python.ops.variables) is deprecated and will be removed after 2017-03-02.\n",
            "Instructions for updating:\n",
            "Use `tf.global_variables_initializer` instead.\n",
            "WARNING:tensorflow:From /content/VAE-GAN-CelebA/libs/make_network.py:126: The name tf.train.Saver is deprecated. Please use tf.compat.v1.train.Saver instead.\n",
            "\n",
            "WARNING:tensorflow:From /content/VAE-GAN-CelebA/libs/make_network.py:128: start_queue_runners (from tensorflow.python.training.queue_runner_impl) is deprecated and will be removed in a future version.\n",
            "Instructions for updating:\n",
            "To construct input pipelines, use the `tf.data` module.\n",
            "WARNING:tensorflow:`tf.train.start_queue_runners()` was called when no queue runners were defined. You can safely remove the call to this deprecated function.\n",
            "INFO:tensorflow:Restoring parameters from vaegan_celeba.ckpt\n",
            "VAE-GAN model restored.\n"
          ]
        }
      ]
    },
    {
      "cell_type": "markdown",
      "source": [
        "## Batchwise convert to z"
      ],
      "metadata": {
        "id": "BWrAaBoxuwd-"
      }
    },
    {
      "cell_type": "code",
      "source": [
        "z = sess.run(Z_mu, feed_dict={X: imgs, is_training: False})\n",
        "z.shape"
      ],
      "metadata": {
        "colab": {
          "base_uri": "https://localhost:8080/"
        },
        "id": "glI4qaicvcys",
        "outputId": "b0ab65ed-c314-4adf-e47a-5b3b39c5e122"
      },
      "execution_count": 9,
      "outputs": [
        {
          "output_type": "execute_result",
          "data": {
            "text/plain": [
              "(2, 1024)"
            ]
          },
          "metadata": {},
          "execution_count": 9
        }
      ]
    },
    {
      "cell_type": "markdown",
      "source": [
        "## Batchwise convert to images"
      ],
      "metadata": {
        "id": "4DZgqh8Bvr95"
      }
    },
    {
      "cell_type": "code",
      "source": [
        "def imdeprocess(g):\n",
        "    stretch = 1.0\n",
        "    for i in range(g.shape[0]):\n",
        "        g[i]=np.clip(stretch*g[i] / (g.max()),0,1)\n",
        "    return g"
      ],
      "metadata": {
        "id": "ADmxNj96vnjl"
      },
      "execution_count": 8,
      "outputs": []
    },
    {
      "cell_type": "code",
      "source": [
        "g = sess.run(G, feed_dict={Z: (1*z), is_training: False})"
      ],
      "metadata": {
        "id": "fb-2v8HUwhLz"
      },
      "execution_count": 11,
      "outputs": []
    },
    {
      "cell_type": "code",
      "source": [
        "for gg in g:\n",
        "  img = imdeprocess(gg)\n",
        "  plt.imshow(img); plt.show()"
      ],
      "metadata": {
        "colab": {
          "base_uri": "https://localhost:8080/",
          "height": 519
        },
        "id": "OgyR0yGDx8uC",
        "outputId": "8e4628a9-05cc-422f-bdae-40cf3829a0c8"
      },
      "execution_count": 12,
      "outputs": [
        {
          "output_type": "display_data",
          "data": {
            "text/plain": [
              "<Figure size 432x288 with 1 Axes>"
            ],
            "image/png": "[encoded data removed]"
          },
          "metadata": {
            "needs_background": "light"
          }
        },
        {
          "output_type": "display_data",
          "data": {
            "text/plain": [
              "<Figure size 432x288 with 1 Axes>"
            ],
            "image/png": "[encoded data removed]"
          },
          "metadata": {
            "needs_background": "light"
          }
        }
      ]
    },
    {
      "cell_type": "markdown",
      "source": [
        "Everything works. Lets run in batches."
      ],
      "metadata": {
        "id": "iI5Ye2aO2qxt"
      }
    },
    {
      "cell_type": "markdown",
      "source": [
        "# Actual batch processing"
      ],
      "metadata": {
        "id": "taNZQtAE2ma8"
      }
    },
    {
      "cell_type": "code",
      "source": [
        "import pandas as pd\n",
        "from tqdm import tqdm"
      ],
      "metadata": {
        "id": "ti6b17nz2xPG"
      },
      "execution_count": 14,
      "outputs": []
    },
    {
      "cell_type": "code",
      "source": [
        "labels = pd.read_csv(\"/content/VAE-GAN-CelebA/identity_CelebA.txt\", header=None, sep=\"\\s+\", names=[\"file\",\"id\"])\n",
        "zippyzocker = zipfile.ZipFile(\"img_align_celeba.zip\")"
      ],
      "metadata": {
        "id": "0_8GehAk3E1w"
      },
      "execution_count": 15,
      "outputs": []
    },
    {
      "cell_type": "code",
      "source": [
        "n = len(labels)\n",
        "batch_size = 16\n",
        "epochs = n // batch_size\n",
        "\n",
        "SumZ = dict()\n",
        "NumZ = dict()\n",
        "for ei in tqdm(range(epochs)):\n",
        "  lindex = range(ei * batch_size, (ei+1) * batch_size)\n",
        "  # lin = [loc for loc in lindex]\n",
        "  # print(lin[0], lin[-1])\n",
        "\n",
        "  # Get/format batch of images\n",
        "  imgs = np.zeros((batch_size, 128, 128, 3))\n",
        "  batch_labels = []\n",
        "  for counter, loc in enumerate(lindex):\n",
        "    # img_align_celeba/000001.jpg\n",
        "    file_name = labels[\"file\"][loc]\n",
        "    file_in_zip = \"img_align_celeba/\" + file_name\n",
        "    data = zippyzocker.read(file_in_zip)\n",
        "    dataEnc = io.BytesIO(data)\n",
        "    img = Image.open(dataEnc)\n",
        "    img = utils.preprocess128(np.array(img),crop_factor=0.8)[np.newaxis]\n",
        "    imgs[counter, :, :, :] = img\n",
        "    batch_labels.append(labels[\"id\"][loc])\n",
        "  \n",
        "  # Encode to Z, (batch_size, 1024)\n",
        "  z = sess.run(Z_mu, feed_dict={X: imgs, is_training: False})\n",
        "\n",
        "  # Loop ID of each z-vector in batch,\n",
        "  #   initializing key/value in dict if key does not exist,\n",
        "  #   else add to value of existing key.\n",
        "  for counter, this_id in enumerate(batch_labels):\n",
        "    # this_id = labels[\"id\"][0]\n",
        "    if this_id in list(SumZ):\n",
        "      SumZ[this_id] += z[counter, :]\n",
        "      NumZ[this_id] += 1\n",
        "    else:\n",
        "      SumZ[this_id] = z[counter, :]\n",
        "      NumZ[this_id] = 1"
      ],
      "metadata": {
        "colab": {
          "base_uri": "https://localhost:8080/",
          "height": 1000
        },
        "id": "2vkWJH6f4mIL",
        "outputId": "004a55e6-14bc-40a0-9d00-8578e05215e7"
      },
      "execution_count": 17,
      "outputs": [
        {
          "output_type": "stream",
          "name": "stderr",
          "text": [
            "  0%|          | 1/12662 [00:00<26:30,  7.96it/s]"
          ]
        },
        {
          "output_type": "stream",
          "name": "stdout",
          "text": [
            "img_align_celeba/000001.jpg\n",
            "img_align_celeba/000002.jpg\n",
            "img_align_celeba/000003.jpg\n",
            "img_align_celeba/000004.jpg\n",
            "img_align_celeba/000005.jpg\n",
            "img_align_celeba/000006.jpg\n",
            "img_align_celeba/000007.jpg\n",
            "img_align_celeba/000008.jpg\n",
            "img_align_celeba/000009.jpg\n",
            "img_align_celeba/000010.jpg\n",
            "img_align_celeba/000011.jpg\n",
            "img_align_celeba/000012.jpg\n",
            "img_align_celeba/000013.jpg\n",
            "img_align_celeba/000014.jpg\n",
            "img_align_celeba/000015.jpg\n",
            "img_align_celeba/000016.jpg\n",
            "img_align_celeba/000017.jpg\n",
            "img_align_celeba/000018.jpg\n",
            "img_align_celeba/000019.jpg\n",
            "img_align_celeba/000020.jpg\n",
            "img_align_celeba/000021.jpg\n",
            "img_align_celeba/000022.jpg\n",
            "img_align_celeba/000023.jpg\n",
            "img_align_celeba/000024.jpg\n",
            "img_align_celeba/000025.jpg\n",
            "img_align_celeba/000026.jpg\n",
            "img_align_celeba/000027.jpg\n",
            "img_align_celeba/000028.jpg\n",
            "img_align_celeba/000029.jpg\n"
          ]
        },
        {
          "output_type": "stream",
          "name": "stderr",
          "text": [
            "  0%|          | 3/12662 [00:00<26:55,  7.84it/s]"
          ]
        },
        {
          "output_type": "stream",
          "name": "stdout",
          "text": [
            "img_align_celeba/000030.jpg\n",
            "img_align_celeba/000031.jpg\n",
            "img_align_celeba/000032.jpg\n",
            "img_align_celeba/000033.jpg\n",
            "img_align_celeba/000034.jpg\n",
            "img_align_celeba/000035.jpg\n",
            "img_align_celeba/000036.jpg\n",
            "img_align_celeba/000037.jpg\n",
            "img_align_celeba/000038.jpg\n",
            "img_align_celeba/000039.jpg\n",
            "img_align_celeba/000040.jpg\n",
            "img_align_celeba/000041.jpg\n",
            "img_align_celeba/000042.jpg\n",
            "img_align_celeba/000043.jpg\n",
            "img_align_celeba/000044.jpg\n",
            "img_align_celeba/000045.jpg\n",
            "img_align_celeba/000046.jpg\n",
            "img_align_celeba/000047.jpg\n",
            "img_align_celeba/000048.jpg\n",
            "img_align_celeba/000049.jpg\n",
            "img_align_celeba/000050.jpg\n",
            "img_align_celeba/000051.jpg\n",
            "img_align_celeba/000052.jpg\n"
          ]
        },
        {
          "output_type": "stream",
          "name": "stderr",
          "text": [
            "\r  0%|          | 4/12662 [00:00<29:34,  7.13it/s]"
          ]
        },
        {
          "output_type": "stream",
          "name": "stdout",
          "text": [
            "img_align_celeba/000053.jpg\n",
            "img_align_celeba/000054.jpg\n",
            "img_align_celeba/000055.jpg\n",
            "img_align_celeba/000056.jpg\n",
            "img_align_celeba/000057.jpg\n",
            "img_align_celeba/000058.jpg\n",
            "img_align_celeba/000059.jpg\n",
            "img_align_celeba/000060.jpg\n",
            "img_align_celeba/000061.jpg\n",
            "img_align_celeba/000062.jpg\n",
            "img_align_celeba/000063.jpg\n",
            "img_align_celeba/000064.jpg\n",
            "img_align_celeba/000065.jpg\n",
            "img_align_celeba/000066.jpg\n",
            "img_align_celeba/000067.jpg\n",
            "img_align_celeba/000068.jpg\n",
            "img_align_celeba/000069.jpg\n",
            "img_align_celeba/000070.jpg\n",
            "img_align_celeba/000071.jpg\n",
            "img_align_celeba/000072.jpg\n",
            "img_align_celeba/000073.jpg\n",
            "img_align_celeba/000074.jpg\n",
            "img_align_celeba/000075.jpg\n",
            "img_align_celeba/000076.jpg\n",
            "img_align_celeba/000077.jpg\n"
          ]
        },
        {
          "output_type": "stream",
          "name": "stderr",
          "text": [
            "  0%|          | 6/12662 [00:00<28:32,  7.39it/s]"
          ]
        },
        {
          "output_type": "stream",
          "name": "stdout",
          "text": [
            "img_align_celeba/000078.jpg\n",
            "img_align_celeba/000079.jpg\n",
            "img_align_celeba/000080.jpg\n",
            "img_align_celeba/000081.jpg\n",
            "img_align_celeba/000082.jpg\n",
            "img_align_celeba/000083.jpg\n",
            "img_align_celeba/000084.jpg\n",
            "img_align_celeba/000085.jpg\n",
            "img_align_celeba/000086.jpg\n",
            "img_align_celeba/000087.jpg\n",
            "img_align_celeba/000088.jpg\n",
            "img_align_celeba/000089.jpg\n",
            "img_align_celeba/000090.jpg\n",
            "img_align_celeba/000091.jpg\n",
            "img_align_celeba/000092.jpg\n",
            "img_align_celeba/000093.jpg\n",
            "img_align_celeba/000094.jpg\n",
            "img_align_celeba/000095.jpg\n",
            "img_align_celeba/000096.jpg\n",
            "img_align_celeba/000097.jpg\n",
            "img_align_celeba/000098.jpg\n",
            "img_align_celeba/000099.jpg\n",
            "img_align_celeba/000100.jpg\n"
          ]
        },
        {
          "output_type": "stream",
          "name": "stderr",
          "text": [
            "\r  0%|          | 7/12662 [00:00<28:32,  7.39it/s]"
          ]
        },
        {
          "output_type": "stream",
          "name": "stdout",
          "text": [
            "img_align_celeba/000101.jpg\n",
            "img_align_celeba/000102.jpg\n",
            "img_align_celeba/000103.jpg\n",
            "img_align_celeba/000104.jpg\n",
            "img_align_celeba/000105.jpg\n",
            "img_align_celeba/000106.jpg\n",
            "img_align_celeba/000107.jpg\n",
            "img_align_celeba/000108.jpg\n",
            "img_align_celeba/000109.jpg\n",
            "img_align_celeba/000110.jpg\n",
            "img_align_celeba/000111.jpg\n",
            "img_align_celeba/000112.jpg\n",
            "img_align_celeba/000113.jpg\n",
            "img_align_celeba/000114.jpg\n",
            "img_align_celeba/000115.jpg\n",
            "img_align_celeba/000116.jpg\n",
            "img_align_celeba/000117.jpg\n",
            "img_align_celeba/000118.jpg\n",
            "img_align_celeba/000119.jpg\n",
            "img_align_celeba/000120.jpg\n",
            "img_align_celeba/000121.jpg\n",
            "img_align_celeba/000122.jpg\n",
            "img_align_celeba/000123.jpg\n",
            "img_align_celeba/000124.jpg\n",
            "img_align_celeba/000125.jpg\n",
            "img_align_celeba/000126.jpg\n",
            "img_align_celeba/000127.jpg\n"
          ]
        },
        {
          "output_type": "stream",
          "name": "stderr",
          "text": [
            "  0%|          | 9/12662 [00:01<28:47,  7.33it/s]"
          ]
        },
        {
          "output_type": "stream",
          "name": "stdout",
          "text": [
            "img_align_celeba/000128.jpg\n",
            "img_align_celeba/000129.jpg\n",
            "img_align_celeba/000130.jpg\n",
            "img_align_celeba/000131.jpg\n",
            "img_align_celeba/000132.jpg\n",
            "img_align_celeba/000133.jpg\n",
            "img_align_celeba/000134.jpg\n",
            "img_align_celeba/000135.jpg\n",
            "img_align_celeba/000136.jpg\n",
            "img_align_celeba/000137.jpg\n",
            "img_align_celeba/000138.jpg\n",
            "img_align_celeba/000139.jpg\n",
            "img_align_celeba/000140.jpg\n",
            "img_align_celeba/000141.jpg\n",
            "img_align_celeba/000142.jpg\n",
            "img_align_celeba/000143.jpg\n",
            "img_align_celeba/000144.jpg\n",
            "img_align_celeba/000145.jpg\n",
            "img_align_celeba/000146.jpg\n",
            "img_align_celeba/000147.jpg\n",
            "img_align_celeba/000148.jpg\n",
            "img_align_celeba/000149.jpg\n"
          ]
        },
        {
          "output_type": "stream",
          "name": "stderr",
          "text": [
            "\r  0%|          | 10/12662 [00:01<28:22,  7.43it/s]"
          ]
        },
        {
          "output_type": "stream",
          "name": "stdout",
          "text": [
            "img_align_celeba/000150.jpg\n",
            "img_align_celeba/000151.jpg\n",
            "img_align_celeba/000152.jpg\n",
            "img_align_celeba/000153.jpg\n",
            "img_align_celeba/000154.jpg\n",
            "img_align_celeba/000155.jpg\n",
            "img_align_celeba/000156.jpg\n",
            "img_align_celeba/000157.jpg\n",
            "img_align_celeba/000158.jpg\n",
            "img_align_celeba/000159.jpg\n",
            "img_align_celeba/000160.jpg\n",
            "img_align_celeba/000161.jpg\n",
            "img_align_celeba/000162.jpg\n",
            "img_align_celeba/000163.jpg\n",
            "img_align_celeba/000164.jpg\n",
            "img_align_celeba/000165.jpg\n",
            "img_align_celeba/000166.jpg\n",
            "img_align_celeba/000167.jpg\n",
            "img_align_celeba/000168.jpg\n",
            "img_align_celeba/000169.jpg\n",
            "img_align_celeba/000170.jpg\n",
            "img_align_celeba/000171.jpg\n",
            "img_align_celeba/000172.jpg\n",
            "img_align_celeba/000173.jpg\n",
            "img_align_celeba/000174.jpg\n",
            "img_align_celeba/000175.jpg\n",
            "img_align_celeba/000176.jpg\n"
          ]
        },
        {
          "output_type": "stream",
          "name": "stderr",
          "text": [
            "  0%|          | 12/12662 [00:01<27:38,  7.63it/s]"
          ]
        },
        {
          "output_type": "stream",
          "name": "stdout",
          "text": [
            "img_align_celeba/000177.jpg\n",
            "img_align_celeba/000178.jpg\n",
            "img_align_celeba/000179.jpg\n",
            "img_align_celeba/000180.jpg\n",
            "img_align_celeba/000181.jpg\n",
            "img_align_celeba/000182.jpg\n",
            "img_align_celeba/000183.jpg\n",
            "img_align_celeba/000184.jpg\n",
            "img_align_celeba/000185.jpg\n",
            "img_align_celeba/000186.jpg\n",
            "img_align_celeba/000187.jpg\n",
            "img_align_celeba/000188.jpg\n",
            "img_align_celeba/000189.jpg\n",
            "img_align_celeba/000190.jpg\n",
            "img_align_celeba/000191.jpg\n",
            "img_align_celeba/000192.jpg\n",
            "img_align_celeba/000193.jpg\n",
            "img_align_celeba/000194.jpg\n",
            "img_align_celeba/000195.jpg\n",
            "img_align_celeba/000196.jpg\n",
            "img_align_celeba/000197.jpg\n",
            "img_align_celeba/000198.jpg\n",
            "img_align_celeba/000199.jpg\n",
            "img_align_celeba/000200.jpg\n",
            "img_align_celeba/000201.jpg\n",
            "img_align_celeba/000202.jpg\n",
            "img_align_celeba/000203.jpg\n",
            "img_align_celeba/000204.jpg\n"
          ]
        },
        {
          "output_type": "stream",
          "name": "stderr",
          "text": [
            "  0%|          | 14/12662 [00:01<26:55,  7.83it/s]"
          ]
        },
        {
          "output_type": "stream",
          "name": "stdout",
          "text": [
            "img_align_celeba/000205.jpg\n",
            "img_align_celeba/000206.jpg\n",
            "img_align_celeba/000207.jpg\n",
            "img_align_celeba/000208.jpg\n",
            "img_align_celeba/000209.jpg\n",
            "img_align_celeba/000210.jpg\n",
            "img_align_celeba/000211.jpg\n",
            "img_align_celeba/000212.jpg\n",
            "img_align_celeba/000213.jpg\n",
            "img_align_celeba/000214.jpg\n",
            "img_align_celeba/000215.jpg\n",
            "img_align_celeba/000216.jpg\n",
            "img_align_celeba/000217.jpg\n",
            "img_align_celeba/000218.jpg\n",
            "img_align_celeba/000219.jpg\n",
            "img_align_celeba/000220.jpg\n",
            "img_align_celeba/000221.jpg\n",
            "img_align_celeba/000222.jpg\n",
            "img_align_celeba/000223.jpg\n",
            "img_align_celeba/000224.jpg\n",
            "img_align_celeba/000225.jpg\n",
            "img_align_celeba/000226.jpg\n",
            "img_align_celeba/000227.jpg\n",
            "img_align_celeba/000228.jpg\n"
          ]
        },
        {
          "output_type": "stream",
          "name": "stderr",
          "text": [
            "\r  0%|          | 15/12662 [00:01<27:40,  7.62it/s]"
          ]
        },
        {
          "output_type": "stream",
          "name": "stdout",
          "text": [
            "img_align_celeba/000229.jpg\n",
            "img_align_celeba/000230.jpg\n",
            "img_align_celeba/000231.jpg\n",
            "img_align_celeba/000232.jpg\n",
            "img_align_celeba/000233.jpg\n",
            "img_align_celeba/000234.jpg\n",
            "img_align_celeba/000235.jpg\n",
            "img_align_celeba/000236.jpg\n",
            "img_align_celeba/000237.jpg\n",
            "img_align_celeba/000238.jpg\n",
            "img_align_celeba/000239.jpg\n",
            "img_align_celeba/000240.jpg\n",
            "img_align_celeba/000241.jpg\n",
            "img_align_celeba/000242.jpg\n",
            "img_align_celeba/000243.jpg\n",
            "img_align_celeba/000244.jpg\n",
            "img_align_celeba/000245.jpg\n",
            "img_align_celeba/000246.jpg\n",
            "img_align_celeba/000247.jpg\n",
            "img_align_celeba/000248.jpg\n",
            "img_align_celeba/000249.jpg\n",
            "img_align_celeba/000250.jpg\n",
            "img_align_celeba/000251.jpg\n",
            "img_align_celeba/000252.jpg\n",
            "img_align_celeba/000253.jpg\n",
            "img_align_celeba/000254.jpg\n",
            "img_align_celeba/000255.jpg\n"
          ]
        },
        {
          "output_type": "stream",
          "name": "stderr",
          "text": [
            "  0%|          | 17/12662 [00:02<27:17,  7.72it/s]"
          ]
        },
        {
          "output_type": "stream",
          "name": "stdout",
          "text": [
            "img_align_celeba/000256.jpg\n",
            "img_align_celeba/000257.jpg\n",
            "img_align_celeba/000258.jpg\n",
            "img_align_celeba/000259.jpg\n",
            "img_align_celeba/000260.jpg\n",
            "img_align_celeba/000261.jpg\n",
            "img_align_celeba/000262.jpg\n",
            "img_align_celeba/000263.jpg\n",
            "img_align_celeba/000264.jpg\n",
            "img_align_celeba/000265.jpg\n",
            "img_align_celeba/000266.jpg\n",
            "img_align_celeba/000267.jpg\n",
            "img_align_celeba/000268.jpg\n",
            "img_align_celeba/000269.jpg\n",
            "img_align_celeba/000270.jpg\n",
            "img_align_celeba/000271.jpg\n",
            "img_align_celeba/000272.jpg\n",
            "img_align_celeba/000273.jpg\n",
            "img_align_celeba/000274.jpg\n",
            "img_align_celeba/000275.jpg\n",
            "img_align_celeba/000276.jpg\n",
            "img_align_celeba/000277.jpg\n",
            "img_align_celeba/000278.jpg\n",
            "img_align_celeba/000279.jpg\n"
          ]
        },
        {
          "output_type": "stream",
          "name": "stderr",
          "text": [
            "  0%|          | 19/12662 [00:02<26:47,  7.86it/s]"
          ]
        },
        {
          "output_type": "stream",
          "name": "stdout",
          "text": [
            "img_align_celeba/000280.jpg\n",
            "img_align_celeba/000281.jpg\n",
            "img_align_celeba/000282.jpg\n",
            "img_align_celeba/000283.jpg\n",
            "img_align_celeba/000284.jpg\n",
            "img_align_celeba/000285.jpg\n",
            "img_align_celeba/000286.jpg\n",
            "img_align_celeba/000287.jpg\n",
            "img_align_celeba/000288.jpg\n",
            "img_align_celeba/000289.jpg\n",
            "img_align_celeba/000290.jpg\n",
            "img_align_celeba/000291.jpg\n",
            "img_align_celeba/000292.jpg\n",
            "img_align_celeba/000293.jpg\n",
            "img_align_celeba/000294.jpg\n",
            "img_align_celeba/000295.jpg\n",
            "img_align_celeba/000296.jpg\n",
            "img_align_celeba/000297.jpg\n",
            "img_align_celeba/000298.jpg\n",
            "img_align_celeba/000299.jpg\n",
            "img_align_celeba/000300.jpg\n",
            "img_align_celeba/000301.jpg\n",
            "img_align_celeba/000302.jpg\n",
            "img_align_celeba/000303.jpg\n",
            "img_align_celeba/000304.jpg\n",
            "img_align_celeba/000305.jpg\n"
          ]
        },
        {
          "output_type": "stream",
          "name": "stderr",
          "text": [
            "\r  0%|          | 20/12662 [00:02<27:21,  7.70it/s]"
          ]
        },
        {
          "output_type": "stream",
          "name": "stdout",
          "text": [
            "img_align_celeba/000306.jpg\n",
            "img_align_celeba/000307.jpg\n",
            "img_align_celeba/000308.jpg\n",
            "img_align_celeba/000309.jpg\n",
            "img_align_celeba/000310.jpg\n",
            "img_align_celeba/000311.jpg\n",
            "img_align_celeba/000312.jpg\n",
            "img_align_celeba/000313.jpg\n",
            "img_align_celeba/000314.jpg\n",
            "img_align_celeba/000315.jpg\n",
            "img_align_celeba/000316.jpg\n",
            "img_align_celeba/000317.jpg\n",
            "img_align_celeba/000318.jpg\n",
            "img_align_celeba/000319.jpg\n",
            "img_align_celeba/000320.jpg\n",
            "img_align_celeba/000321.jpg\n",
            "img_align_celeba/000322.jpg\n",
            "img_align_celeba/000323.jpg\n",
            "img_align_celeba/000324.jpg\n",
            "img_align_celeba/000325.jpg\n",
            "img_align_celeba/000326.jpg\n",
            "img_align_celeba/000327.jpg\n",
            "img_align_celeba/000328.jpg\n",
            "img_align_celeba/000329.jpg\n",
            "img_align_celeba/000330.jpg\n",
            "img_align_celeba/000331.jpg\n",
            "img_align_celeba/000332.jpg\n",
            "img_align_celeba/000333.jpg\n"
          ]
        },
        {
          "output_type": "stream",
          "name": "stderr",
          "text": [
            "  0%|          | 22/12662 [00:02<26:33,  7.93it/s]"
          ]
        },
        {
          "output_type": "stream",
          "name": "stdout",
          "text": [
            "img_align_celeba/000334.jpg\n",
            "img_align_celeba/000335.jpg\n",
            "img_align_celeba/000336.jpg\n",
            "img_align_celeba/000337.jpg\n",
            "img_align_celeba/000338.jpg\n",
            "img_align_celeba/000339.jpg\n",
            "img_align_celeba/000340.jpg\n",
            "img_align_celeba/000341.jpg\n",
            "img_align_celeba/000342.jpg\n",
            "img_align_celeba/000343.jpg\n",
            "img_align_celeba/000344.jpg\n",
            "img_align_celeba/000345.jpg\n",
            "img_align_celeba/000346.jpg\n",
            "img_align_celeba/000347.jpg\n",
            "img_align_celeba/000348.jpg\n",
            "img_align_celeba/000349.jpg\n",
            "img_align_celeba/000350.jpg\n",
            "img_align_celeba/000351.jpg\n",
            "img_align_celeba/000352.jpg\n",
            "img_align_celeba/000353.jpg\n",
            "img_align_celeba/000354.jpg\n",
            "img_align_celeba/000355.jpg\n",
            "img_align_celeba/000356.jpg\n",
            "img_align_celeba/000357.jpg\n",
            "img_align_celeba/000358.jpg\n"
          ]
        },
        {
          "output_type": "stream",
          "name": "stderr",
          "text": [
            "\r  0%|          | 23/12662 [00:03<26:20,  8.00it/s]"
          ]
        },
        {
          "output_type": "stream",
          "name": "stdout",
          "text": [
            "img_align_celeba/000359.jpg\n",
            "img_align_celeba/000360.jpg\n",
            "img_align_celeba/000361.jpg\n",
            "img_align_celeba/000362.jpg\n",
            "img_align_celeba/000363.jpg\n",
            "img_align_celeba/000364.jpg\n",
            "img_align_celeba/000365.jpg\n",
            "img_align_celeba/000366.jpg\n",
            "img_align_celeba/000367.jpg\n",
            "img_align_celeba/000368.jpg\n",
            "img_align_celeba/000369.jpg\n",
            "img_align_celeba/000370.jpg\n",
            "img_align_celeba/000371.jpg\n",
            "img_align_celeba/000372.jpg\n",
            "img_align_celeba/000373.jpg\n",
            "img_align_celeba/000374.jpg\n",
            "img_align_celeba/000375.jpg\n",
            "img_align_celeba/000376.jpg\n",
            "img_align_celeba/000377.jpg\n",
            "img_align_celeba/000378.jpg\n",
            "img_align_celeba/000379.jpg\n",
            "img_align_celeba/000380.jpg\n",
            "img_align_celeba/000381.jpg\n",
            "img_align_celeba/000382.jpg\n",
            "img_align_celeba/000383.jpg\n",
            "img_align_celeba/000384.jpg\n"
          ]
        },
        {
          "output_type": "stream",
          "name": "stderr",
          "text": [
            "  0%|          | 25/12662 [00:03<26:42,  7.89it/s]"
          ]
        },
        {
          "output_type": "stream",
          "name": "stdout",
          "text": [
            "img_align_celeba/000385.jpg\n",
            "img_align_celeba/000386.jpg\n",
            "img_align_celeba/000387.jpg\n",
            "img_align_celeba/000388.jpg\n",
            "img_align_celeba/000389.jpg\n",
            "img_align_celeba/000390.jpg\n",
            "img_align_celeba/000391.jpg\n",
            "img_align_celeba/000392.jpg\n",
            "img_align_celeba/000393.jpg\n",
            "img_align_celeba/000394.jpg\n",
            "img_align_celeba/000395.jpg\n",
            "img_align_celeba/000396.jpg\n",
            "img_align_celeba/000397.jpg\n",
            "img_align_celeba/000398.jpg\n",
            "img_align_celeba/000399.jpg\n",
            "img_align_celeba/000400.jpg\n",
            "img_align_celeba/000401.jpg\n",
            "img_align_celeba/000402.jpg\n",
            "img_align_celeba/000403.jpg\n",
            "img_align_celeba/000404.jpg\n",
            "img_align_celeba/000405.jpg\n",
            "img_align_celeba/000406.jpg\n",
            "img_align_celeba/000407.jpg\n",
            "img_align_celeba/000408.jpg\n",
            "img_align_celeba/000409.jpg\n",
            "img_align_celeba/000410.jpg\n",
            "img_align_celeba/000411.jpg\n",
            "img_align_celeba/000412.jpg\n"
          ]
        },
        {
          "output_type": "stream",
          "name": "stderr",
          "text": [
            "  0%|          | 27/12662 [00:03<27:49,  7.57it/s]"
          ]
        },
        {
          "output_type": "stream",
          "name": "stdout",
          "text": [
            "img_align_celeba/000413.jpg\n",
            "img_align_celeba/000414.jpg\n",
            "img_align_celeba/000415.jpg\n",
            "img_align_celeba/000416.jpg\n",
            "img_align_celeba/000417.jpg\n",
            "img_align_celeba/000418.jpg\n",
            "img_align_celeba/000419.jpg\n",
            "img_align_celeba/000420.jpg\n",
            "img_align_celeba/000421.jpg\n",
            "img_align_celeba/000422.jpg\n",
            "img_align_celeba/000423.jpg\n",
            "img_align_celeba/000424.jpg\n",
            "img_align_celeba/000425.jpg\n",
            "img_align_celeba/000426.jpg\n",
            "img_align_celeba/000427.jpg\n",
            "img_align_celeba/000428.jpg\n",
            "img_align_celeba/000429.jpg\n",
            "img_align_celeba/000430.jpg\n",
            "img_align_celeba/000431.jpg\n",
            "img_align_celeba/000432.jpg\n",
            "img_align_celeba/000433.jpg\n",
            "img_align_celeba/000434.jpg\n"
          ]
        },
        {
          "output_type": "stream",
          "name": "stderr",
          "text": [
            "\r  0%|          | 28/12662 [00:03<28:07,  7.49it/s]"
          ]
        },
        {
          "output_type": "stream",
          "name": "stdout",
          "text": [
            "img_align_celeba/000435.jpg\n",
            "img_align_celeba/000436.jpg\n",
            "img_align_celeba/000437.jpg\n",
            "img_align_celeba/000438.jpg\n",
            "img_align_celeba/000439.jpg\n",
            "img_align_celeba/000440.jpg\n",
            "img_align_celeba/000441.jpg\n",
            "img_align_celeba/000442.jpg\n",
            "img_align_celeba/000443.jpg\n",
            "img_align_celeba/000444.jpg\n",
            "img_align_celeba/000445.jpg\n",
            "img_align_celeba/000446.jpg\n",
            "img_align_celeba/000447.jpg\n",
            "img_align_celeba/000448.jpg\n",
            "img_align_celeba/000449.jpg\n",
            "img_align_celeba/000450.jpg\n",
            "img_align_celeba/000451.jpg\n",
            "img_align_celeba/000452.jpg\n",
            "img_align_celeba/000453.jpg\n",
            "img_align_celeba/000454.jpg\n",
            "img_align_celeba/000455.jpg\n",
            "img_align_celeba/000456.jpg\n",
            "img_align_celeba/000457.jpg\n",
            "img_align_celeba/000458.jpg\n",
            "img_align_celeba/000459.jpg\n",
            "img_align_celeba/000460.jpg\n",
            "img_align_celeba/000461.jpg\n"
          ]
        },
        {
          "output_type": "stream",
          "name": "stderr",
          "text": [
            "  0%|          | 30/12662 [00:03<28:00,  7.52it/s]"
          ]
        },
        {
          "output_type": "stream",
          "name": "stdout",
          "text": [
            "img_align_celeba/000462.jpg\n",
            "img_align_celeba/000463.jpg\n",
            "img_align_celeba/000464.jpg\n",
            "img_align_celeba/000465.jpg\n",
            "img_align_celeba/000466.jpg\n",
            "img_align_celeba/000467.jpg\n",
            "img_align_celeba/000468.jpg\n",
            "img_align_celeba/000469.jpg\n",
            "img_align_celeba/000470.jpg\n",
            "img_align_celeba/000471.jpg\n",
            "img_align_celeba/000472.jpg\n",
            "img_align_celeba/000473.jpg\n",
            "img_align_celeba/000474.jpg\n",
            "img_align_celeba/000475.jpg\n",
            "img_align_celeba/000476.jpg\n",
            "img_align_celeba/000477.jpg\n",
            "img_align_celeba/000478.jpg\n",
            "img_align_celeba/000479.jpg\n",
            "img_align_celeba/000480.jpg\n",
            "img_align_celeba/000481.jpg\n",
            "img_align_celeba/000482.jpg\n",
            "img_align_celeba/000483.jpg\n"
          ]
        },
        {
          "output_type": "stream",
          "name": "stderr",
          "text": [
            "\r  0%|          | 31/12662 [00:04<28:01,  7.51it/s]"
          ]
        },
        {
          "output_type": "stream",
          "name": "stdout",
          "text": [
            "img_align_celeba/000484.jpg\n",
            "img_align_celeba/000485.jpg\n",
            "img_align_celeba/000486.jpg\n",
            "img_align_celeba/000487.jpg\n",
            "img_align_celeba/000488.jpg\n",
            "img_align_celeba/000489.jpg\n",
            "img_align_celeba/000490.jpg\n",
            "img_align_celeba/000491.jpg\n",
            "img_align_celeba/000492.jpg\n",
            "img_align_celeba/000493.jpg\n",
            "img_align_celeba/000494.jpg\n",
            "img_align_celeba/000495.jpg\n",
            "img_align_celeba/000496.jpg\n",
            "img_align_celeba/000497.jpg\n",
            "img_align_celeba/000498.jpg\n",
            "img_align_celeba/000499.jpg\n",
            "img_align_celeba/000500.jpg\n",
            "img_align_celeba/000501.jpg\n",
            "img_align_celeba/000502.jpg\n",
            "img_align_celeba/000503.jpg\n",
            "img_align_celeba/000504.jpg\n",
            "img_align_celeba/000505.jpg\n",
            "img_align_celeba/000506.jpg\n",
            "img_align_celeba/000507.jpg\n",
            "img_align_celeba/000508.jpg\n",
            "img_align_celeba/000509.jpg\n",
            "img_align_celeba/000510.jpg\n",
            "img_align_celeba/000511.jpg"
          ]
        },
        {
          "output_type": "stream",
          "name": "stderr",
          "text": [
            "  0%|          | 33/12662 [00:04<27:38,  7.61it/s]"
          ]
        },
        {
          "output_type": "stream",
          "name": "stdout",
          "text": [
            "\n",
            "img_align_celeba/000512.jpg\n",
            "img_align_celeba/000513.jpg\n",
            "img_align_celeba/000514.jpg\n",
            "img_align_celeba/000515.jpg\n",
            "img_align_celeba/000516.jpg\n",
            "img_align_celeba/000517.jpg\n",
            "img_align_celeba/000518.jpg\n",
            "img_align_celeba/000519.jpg\n",
            "img_align_celeba/000520.jpg\n",
            "img_align_celeba/000521.jpg\n",
            "img_align_celeba/000522.jpg\n",
            "img_align_celeba/000523.jpg\n",
            "img_align_celeba/000524.jpg\n",
            "img_align_celeba/000525.jpg\n",
            "img_align_celeba/000526.jpg\n",
            "img_align_celeba/000527.jpg\n",
            "img_align_celeba/000528.jpg\n",
            "img_align_celeba/000529.jpg\n",
            "img_align_celeba/000530.jpg\n",
            "img_align_celeba/000531.jpg\n",
            "img_align_celeba/000532.jpg\n",
            "img_align_celeba/000533.jpg\n",
            "img_align_celeba/000534.jpg\n"
          ]
        },
        {
          "output_type": "stream",
          "name": "stderr",
          "text": [
            "\r  0%|          | 34/12662 [00:04<27:15,  7.72it/s]"
          ]
        },
        {
          "output_type": "stream",
          "name": "stdout",
          "text": [
            "img_align_celeba/000535.jpg\n",
            "img_align_celeba/000536.jpg\n",
            "img_align_celeba/000537.jpg\n",
            "img_align_celeba/000538.jpg\n",
            "img_align_celeba/000539.jpg\n",
            "img_align_celeba/000540.jpg\n",
            "img_align_celeba/000541.jpg\n",
            "img_align_celeba/000542.jpg\n",
            "img_align_celeba/000543.jpg\n",
            "img_align_celeba/000544.jpg\n",
            "img_align_celeba/000545.jpg\n",
            "img_align_celeba/000546.jpg\n",
            "img_align_celeba/000547.jpg\n",
            "img_align_celeba/000548.jpg\n",
            "img_align_celeba/000549.jpg\n",
            "img_align_celeba/000550.jpg\n",
            "img_align_celeba/000551.jpg\n",
            "img_align_celeba/000552.jpg\n",
            "img_align_celeba/000553.jpg\n",
            "img_align_celeba/000554.jpg\n",
            "img_align_celeba/000555.jpg\n",
            "img_align_celeba/000556.jpg\n",
            "img_align_celeba/000557.jpg\n",
            "img_align_celeba/000558.jpg\n",
            "img_align_celeba/000559.jpg\n",
            "img_align_celeba/000560.jpg\n"
          ]
        },
        {
          "output_type": "stream",
          "name": "stderr",
          "text": [
            "  0%|          | 36/12662 [00:04<26:44,  7.87it/s]"
          ]
        },
        {
          "output_type": "stream",
          "name": "stdout",
          "text": [
            "img_align_celeba/000561.jpg\n",
            "img_align_celeba/000562.jpg\n",
            "img_align_celeba/000563.jpg\n",
            "img_align_celeba/000564.jpg\n",
            "img_align_celeba/000565.jpg\n",
            "img_align_celeba/000566.jpg\n",
            "img_align_celeba/000567.jpg\n",
            "img_align_celeba/000568.jpg\n",
            "img_align_celeba/000569.jpg\n",
            "img_align_celeba/000570.jpg\n",
            "img_align_celeba/000571.jpg\n",
            "img_align_celeba/000572.jpg\n",
            "img_align_celeba/000573.jpg\n",
            "img_align_celeba/000574.jpg\n",
            "img_align_celeba/000575.jpg\n",
            "img_align_celeba/000576.jpg\n",
            "img_align_celeba/000577.jpg\n",
            "img_align_celeba/000578.jpg\n",
            "img_align_celeba/000579.jpg\n",
            "img_align_celeba/000580.jpg\n",
            "img_align_celeba/000581.jpg\n",
            "img_align_celeba/000582.jpg\n",
            "img_align_celeba/000583.jpg\n",
            "img_align_celeba/000584.jpg\n",
            "img_align_celeba/000585.jpg\n",
            "img_align_celeba/000586.jpg\n",
            "img_align_celeba/000587.jpg\n",
            "img_align_celeba/000588.jpg\n",
            "img_align_celeba/000589.jpg\n",
            "img_align_celeba/000590.jpg\n"
          ]
        },
        {
          "output_type": "stream",
          "name": "stderr",
          "text": [
            "  0%|          | 38/12662 [00:04<26:02,  8.08it/s]"
          ]
        },
        {
          "output_type": "stream",
          "name": "stdout",
          "text": [
            "img_align_celeba/000591.jpg\n",
            "img_align_celeba/000592.jpg\n",
            "img_align_celeba/000593.jpg\n",
            "img_align_celeba/000594.jpg\n",
            "img_align_celeba/000595.jpg\n",
            "img_align_celeba/000596.jpg\n",
            "img_align_celeba/000597.jpg\n",
            "img_align_celeba/000598.jpg\n",
            "img_align_celeba/000599.jpg\n",
            "img_align_celeba/000600.jpg\n",
            "img_align_celeba/000601.jpg\n",
            "img_align_celeba/000602.jpg\n",
            "img_align_celeba/000603.jpg\n",
            "img_align_celeba/000604.jpg\n",
            "img_align_celeba/000605.jpg\n",
            "img_align_celeba/000606.jpg\n",
            "img_align_celeba/000607.jpg\n",
            "img_align_celeba/000608.jpg\n",
            "img_align_celeba/000609.jpg\n",
            "img_align_celeba/000610.jpg\n",
            "img_align_celeba/000611.jpg\n",
            "img_align_celeba/000612.jpg\n",
            "img_align_celeba/000613.jpg\n",
            "img_align_celeba/000614.jpg\n",
            "img_align_celeba/000615.jpg\n",
            "img_align_celeba/000616.jpg\n",
            "img_align_celeba/000617.jpg\n"
          ]
        },
        {
          "output_type": "stream",
          "name": "stderr",
          "text": [
            "  0%|          | 40/12662 [00:05<25:57,  8.10it/s]"
          ]
        },
        {
          "output_type": "stream",
          "name": "stdout",
          "text": [
            "img_align_celeba/000618.jpg\n",
            "img_align_celeba/000619.jpg\n",
            "img_align_celeba/000620.jpg\n",
            "img_align_celeba/000621.jpg\n",
            "img_align_celeba/000622.jpg\n",
            "img_align_celeba/000623.jpg\n",
            "img_align_celeba/000624.jpg\n",
            "img_align_celeba/000625.jpg\n",
            "img_align_celeba/000626.jpg\n",
            "img_align_celeba/000627.jpg\n",
            "img_align_celeba/000628.jpg\n",
            "img_align_celeba/000629.jpg\n",
            "img_align_celeba/000630.jpg\n",
            "img_align_celeba/000631.jpg\n",
            "img_align_celeba/000632.jpg\n",
            "img_align_celeba/000633.jpg\n",
            "img_align_celeba/000634.jpg\n",
            "img_align_celeba/000635.jpg\n",
            "img_align_celeba/000636.jpg\n",
            "img_align_celeba/000637.jpg\n",
            "img_align_celeba/000638.jpg\n",
            "img_align_celeba/000639.jpg\n",
            "img_align_celeba/000640.jpg\n",
            "img_align_celeba/000641.jpg\n",
            "img_align_celeba/000642.jpg\n"
          ]
        },
        {
          "output_type": "stream",
          "name": "stderr",
          "text": [
            "\r  0%|          | 41/12662 [00:05<26:17,  8.00it/s]"
          ]
        },
        {
          "output_type": "stream",
          "name": "stdout",
          "text": [
            "img_align_celeba/000643.jpg\n",
            "img_align_celeba/000644.jpg\n",
            "img_align_celeba/000645.jpg\n",
            "img_align_celeba/000646.jpg\n",
            "img_align_celeba/000647.jpg\n",
            "img_align_celeba/000648.jpg\n",
            "img_align_celeba/000649.jpg\n",
            "img_align_celeba/000650.jpg\n",
            "img_align_celeba/000651.jpg\n",
            "img_align_celeba/000652.jpg\n",
            "img_align_celeba/000653.jpg\n",
            "img_align_celeba/000654.jpg\n",
            "img_align_celeba/000655.jpg\n",
            "img_align_celeba/000656.jpg\n",
            "img_align_celeba/000657.jpg\n",
            "img_align_celeba/000658.jpg\n",
            "img_align_celeba/000659.jpg\n",
            "img_align_celeba/000660.jpg\n",
            "img_align_celeba/000661.jpg\n",
            "img_align_celeba/000662.jpg\n",
            "img_align_celeba/000663.jpg\n",
            "img_align_celeba/000664.jpg\n",
            "img_align_celeba/000665.jpg\n",
            "img_align_celeba/000666.jpg\n",
            "img_align_celeba/000667.jpg\n",
            "img_align_celeba/000668.jpg\n",
            "img_align_celeba/000669.jpg\n",
            "img_align_celeba/000670.jpg\n"
          ]
        },
        {
          "output_type": "stream",
          "name": "stderr",
          "text": [
            "  0%|          | 43/12662 [00:05<27:20,  7.69it/s]"
          ]
        },
        {
          "output_type": "stream",
          "name": "stdout",
          "text": [
            "img_align_celeba/000671.jpg\n",
            "img_align_celeba/000672.jpg\n",
            "img_align_celeba/000673.jpg\n",
            "img_align_celeba/000674.jpg\n",
            "img_align_celeba/000675.jpg\n",
            "img_align_celeba/000676.jpg\n",
            "img_align_celeba/000677.jpg\n",
            "img_align_celeba/000678.jpg\n",
            "img_align_celeba/000679.jpg\n",
            "img_align_celeba/000680.jpg\n",
            "img_align_celeba/000681.jpg\n",
            "img_align_celeba/000682.jpg\n",
            "img_align_celeba/000683.jpg\n",
            "img_align_celeba/000684.jpg\n",
            "img_align_celeba/000685.jpg\n",
            "img_align_celeba/000686.jpg\n",
            "img_align_celeba/000687.jpg\n",
            "img_align_celeba/000688.jpg\n",
            "img_align_celeba/000689.jpg\n",
            "img_align_celeba/000690.jpg\n",
            "img_align_celeba/000691.jpg\n"
          ]
        },
        {
          "output_type": "stream",
          "name": "stderr",
          "text": [
            "\r  0%|          | 44/12662 [00:05<28:09,  7.47it/s]"
          ]
        },
        {
          "output_type": "stream",
          "name": "stdout",
          "text": [
            "img_align_celeba/000692.jpg\n",
            "img_align_celeba/000693.jpg\n",
            "img_align_celeba/000694.jpg\n",
            "img_align_celeba/000695.jpg\n",
            "img_align_celeba/000696.jpg\n",
            "img_align_celeba/000697.jpg\n",
            "img_align_celeba/000698.jpg\n",
            "img_align_celeba/000699.jpg\n",
            "img_align_celeba/000700.jpg\n",
            "img_align_celeba/000701.jpg\n",
            "img_align_celeba/000702.jpg\n",
            "img_align_celeba/000703.jpg\n",
            "img_align_celeba/000704.jpg\n",
            "img_align_celeba/000705.jpg\n",
            "img_align_celeba/000706.jpg\n",
            "img_align_celeba/000707.jpg\n",
            "img_align_celeba/000708.jpg\n",
            "img_align_celeba/000709.jpg\n",
            "img_align_celeba/000710.jpg\n",
            "img_align_celeba/000711.jpg\n",
            "img_align_celeba/000712.jpg\n",
            "img_align_celeba/000713.jpg\n",
            "img_align_celeba/000714.jpg\n",
            "img_align_celeba/000715.jpg\n",
            "img_align_celeba/000716.jpg\n",
            "img_align_celeba/000717.jpg\n",
            "img_align_celeba/000718.jpg\n"
          ]
        },
        {
          "output_type": "stream",
          "name": "stderr",
          "text": [
            "  0%|          | 46/12662 [00:05<28:13,  7.45it/s]"
          ]
        },
        {
          "output_type": "stream",
          "name": "stdout",
          "text": [
            "img_align_celeba/000719.jpg\n",
            "img_align_celeba/000720.jpg\n",
            "img_align_celeba/000721.jpg\n",
            "img_align_celeba/000722.jpg\n",
            "img_align_celeba/000723.jpg\n",
            "img_align_celeba/000724.jpg\n",
            "img_align_celeba/000725.jpg\n",
            "img_align_celeba/000726.jpg\n",
            "img_align_celeba/000727.jpg\n",
            "img_align_celeba/000728.jpg\n",
            "img_align_celeba/000729.jpg\n",
            "img_align_celeba/000730.jpg\n",
            "img_align_celeba/000731.jpg\n",
            "img_align_celeba/000732.jpg\n",
            "img_align_celeba/000733.jpg\n",
            "img_align_celeba/000734.jpg\n",
            "img_align_celeba/000735.jpg\n",
            "img_align_celeba/000736.jpg\n",
            "img_align_celeba/000737.jpg\n",
            "img_align_celeba/000738.jpg\n",
            "img_align_celeba/000739.jpg\n",
            "img_align_celeba/000740.jpg\n",
            "img_align_celeba/000741.jpg\n"
          ]
        },
        {
          "output_type": "stream",
          "name": "stderr",
          "text": [
            "\r  0%|          | 47/12662 [00:06<28:27,  7.39it/s]"
          ]
        },
        {
          "output_type": "stream",
          "name": "stdout",
          "text": [
            "img_align_celeba/000742.jpg\n",
            "img_align_celeba/000743.jpg\n",
            "img_align_celeba/000744.jpg\n",
            "img_align_celeba/000745.jpg\n",
            "img_align_celeba/000746.jpg\n",
            "img_align_celeba/000747.jpg\n",
            "img_align_celeba/000748.jpg\n",
            "img_align_celeba/000749.jpg\n",
            "img_align_celeba/000750.jpg\n",
            "img_align_celeba/000751.jpg\n",
            "img_align_celeba/000752.jpg\n",
            "img_align_celeba/000753.jpg\n",
            "img_align_celeba/000754.jpg\n",
            "img_align_celeba/000755.jpg\n",
            "img_align_celeba/000756.jpg\n",
            "img_align_celeba/000757.jpg\n",
            "img_align_celeba/000758.jpg\n",
            "img_align_celeba/000759.jpg\n",
            "img_align_celeba/000760.jpg\n",
            "img_align_celeba/000761.jpg\n",
            "img_align_celeba/000762.jpg\n",
            "img_align_celeba/000763.jpg\n",
            "img_align_celeba/000764.jpg\n",
            "img_align_celeba/000765.jpg\n",
            "img_align_celeba/000766.jpg\n",
            "img_align_celeba/000767.jpg\n",
            "img_align_celeba/000768.jpg\n"
          ]
        },
        {
          "output_type": "stream",
          "name": "stderr",
          "text": [
            "  0%|          | 49/12662 [00:06<26:45,  7.86it/s]"
          ]
        },
        {
          "output_type": "stream",
          "name": "stdout",
          "text": [
            "img_align_celeba/000769.jpg\n",
            "img_align_celeba/000770.jpg\n",
            "img_align_celeba/000771.jpg\n",
            "img_align_celeba/000772.jpg\n",
            "img_align_celeba/000773.jpg\n",
            "img_align_celeba/000774.jpg\n",
            "img_align_celeba/000775.jpg\n",
            "img_align_celeba/000776.jpg\n",
            "img_align_celeba/000777.jpg\n",
            "img_align_celeba/000778.jpg\n",
            "img_align_celeba/000779.jpg\n",
            "img_align_celeba/000780.jpg\n",
            "img_align_celeba/000781.jpg\n",
            "img_align_celeba/000782.jpg\n",
            "img_align_celeba/000783.jpg\n",
            "img_align_celeba/000784.jpg\n",
            "img_align_celeba/000785.jpg\n",
            "img_align_celeba/000786.jpg\n",
            "img_align_celeba/000787.jpg\n",
            "img_align_celeba/000788.jpg\n",
            "img_align_celeba/000789.jpg\n",
            "img_align_celeba/000790.jpg\n",
            "img_align_celeba/000791.jpg\n",
            "img_align_celeba/000792.jpg\n",
            "img_align_celeba/000793.jpg\n",
            "img_align_celeba/000794.jpg\n",
            "img_align_celeba/000795.jpg\n",
            "img_align_celeba/000796.jpg\n",
            "img_align_celeba/000797.jpg\n",
            "img_align_celeba/000798.jpg\n",
            "img_align_celeba/000799.jpg\n"
          ]
        },
        {
          "output_type": "stream",
          "name": "stderr",
          "text": [
            "  0%|          | 51/12662 [00:06<26:23,  7.97it/s]"
          ]
        },
        {
          "output_type": "stream",
          "name": "stdout",
          "text": [
            "img_align_celeba/000800.jpg\n",
            "img_align_celeba/000801.jpg\n",
            "img_align_celeba/000802.jpg\n",
            "img_align_celeba/000803.jpg\n",
            "img_align_celeba/000804.jpg\n",
            "img_align_celeba/000805.jpg\n",
            "img_align_celeba/000806.jpg\n",
            "img_align_celeba/000807.jpg\n",
            "img_align_celeba/000808.jpg\n",
            "img_align_celeba/000809.jpg\n",
            "img_align_celeba/000810.jpg\n",
            "img_align_celeba/000811.jpg\n",
            "img_align_celeba/000812.jpg\n",
            "img_align_celeba/000813.jpg\n",
            "img_align_celeba/000814.jpg\n",
            "img_align_celeba/000815.jpg\n",
            "img_align_celeba/000816.jpg\n",
            "img_align_celeba/000817.jpg\n",
            "img_align_celeba/000818.jpg\n",
            "img_align_celeba/000819.jpg\n",
            "img_align_celeba/000820.jpg\n",
            "img_align_celeba/000821.jpg\n",
            "img_align_celeba/000822.jpg\n",
            "img_align_celeba/000823.jpg\n",
            "img_align_celeba/000824.jpg\n"
          ]
        },
        {
          "output_type": "stream",
          "name": "stderr",
          "text": [
            "  0%|          | 53/12662 [00:06<26:02,  8.07it/s]"
          ]
        },
        {
          "output_type": "stream",
          "name": "stdout",
          "text": [
            "img_align_celeba/000825.jpg\n",
            "img_align_celeba/000826.jpg\n",
            "img_align_celeba/000827.jpg\n",
            "img_align_celeba/000828.jpg\n",
            "img_align_celeba/000829.jpg\n",
            "img_align_celeba/000830.jpg\n",
            "img_align_celeba/000831.jpg\n",
            "img_align_celeba/000832.jpg\n",
            "img_align_celeba/000833.jpg\n",
            "img_align_celeba/000834.jpg\n",
            "img_align_celeba/000835.jpg\n",
            "img_align_celeba/000836.jpg\n",
            "img_align_celeba/000837.jpg\n",
            "img_align_celeba/000838.jpg\n",
            "img_align_celeba/000839.jpg\n",
            "img_align_celeba/000840.jpg\n",
            "img_align_celeba/000841.jpg\n",
            "img_align_celeba/000842.jpg\n",
            "img_align_celeba/000843.jpg\n",
            "img_align_celeba/000844.jpg\n",
            "img_align_celeba/000845.jpg\n",
            "img_align_celeba/000846.jpg\n",
            "img_align_celeba/000847.jpg\n",
            "img_align_celeba/000848.jpg\n",
            "img_align_celeba/000849.jpg\n"
          ]
        },
        {
          "output_type": "stream",
          "name": "stderr",
          "text": [
            "\r  0%|          | 54/12662 [00:07<26:27,  7.94it/s]"
          ]
        },
        {
          "output_type": "stream",
          "name": "stdout",
          "text": [
            "img_align_celeba/000850.jpg\n",
            "img_align_celeba/000851.jpg\n",
            "img_align_celeba/000852.jpg\n",
            "img_align_celeba/000853.jpg\n",
            "img_align_celeba/000854.jpg\n",
            "img_align_celeba/000855.jpg\n",
            "img_align_celeba/000856.jpg\n",
            "img_align_celeba/000857.jpg\n",
            "img_align_celeba/000858.jpg\n",
            "img_align_celeba/000859.jpg\n",
            "img_align_celeba/000860.jpg\n",
            "img_align_celeba/000861.jpg\n",
            "img_align_celeba/000862.jpg\n",
            "img_align_celeba/000863.jpg\n",
            "img_align_celeba/000864.jpg\n",
            "img_align_celeba/000865.jpg\n",
            "img_align_celeba/000866.jpg\n",
            "img_align_celeba/000867.jpg\n",
            "img_align_celeba/000868.jpg\n",
            "img_align_celeba/000869.jpg\n",
            "img_align_celeba/000870.jpg\n",
            "img_align_celeba/000871.jpg\n",
            "img_align_celeba/000872.jpg\n",
            "img_align_celeba/000873.jpg\n",
            "img_align_celeba/000874.jpg\n",
            "img_align_celeba/000875.jpg\n",
            "img_align_celeba/000876.jpg\n",
            "img_align_celeba/000877.jpg\n",
            "img_align_celeba/000878.jpg"
          ]
        },
        {
          "output_type": "stream",
          "name": "stderr",
          "text": [
            "  0%|          | 56/12662 [00:07<27:02,  7.77it/s]"
          ]
        },
        {
          "output_type": "stream",
          "name": "stdout",
          "text": [
            "\n",
            "img_align_celeba/000879.jpg\n",
            "img_align_celeba/000880.jpg\n",
            "img_align_celeba/000881.jpg\n",
            "img_align_celeba/000882.jpg\n",
            "img_align_celeba/000883.jpg\n",
            "img_align_celeba/000884.jpg\n",
            "img_align_celeba/000885.jpg\n",
            "img_align_celeba/000886.jpg\n",
            "img_align_celeba/000887.jpg\n",
            "img_align_celeba/000888.jpg\n",
            "img_align_celeba/000889.jpg\n",
            "img_align_celeba/000890.jpg\n",
            "img_align_celeba/000891.jpg\n",
            "img_align_celeba/000892.jpg\n",
            "img_align_celeba/000893.jpg\n",
            "img_align_celeba/000894.jpg\n",
            "img_align_celeba/000895.jpg\n",
            "img_align_celeba/000896.jpg\n",
            "img_align_celeba/000897.jpg\n",
            "img_align_celeba/000898.jpg\n",
            "img_align_celeba/000899.jpg\n",
            "img_align_celeba/000900.jpg\n"
          ]
        },
        {
          "output_type": "stream",
          "name": "stderr",
          "text": [
            "\r  0%|          | 57/12662 [00:07<26:56,  7.80it/s]"
          ]
        },
        {
          "output_type": "stream",
          "name": "stdout",
          "text": [
            "img_align_celeba/000901.jpg\n",
            "img_align_celeba/000902.jpg\n",
            "img_align_celeba/000903.jpg\n",
            "img_align_celeba/000904.jpg\n",
            "img_align_celeba/000905.jpg\n",
            "img_align_celeba/000906.jpg\n",
            "img_align_celeba/000907.jpg\n",
            "img_align_celeba/000908.jpg\n",
            "img_align_celeba/000909.jpg\n",
            "img_align_celeba/000910.jpg\n",
            "img_align_celeba/000911.jpg\n",
            "img_align_celeba/000912.jpg\n",
            "img_align_celeba/000913.jpg\n",
            "img_align_celeba/000914.jpg\n",
            "img_align_celeba/000915.jpg\n",
            "img_align_celeba/000916.jpg\n",
            "img_align_celeba/000917.jpg\n",
            "img_align_celeba/000918.jpg\n",
            "img_align_celeba/000919.jpg\n",
            "img_align_celeba/000920.jpg\n",
            "img_align_celeba/000921.jpg\n",
            "img_align_celeba/000922.jpg\n",
            "img_align_celeba/000923.jpg\n",
            "img_align_celeba/000924.jpg\n",
            "img_align_celeba/000925.jpg\n",
            "img_align_celeba/000926.jpg\n",
            "img_align_celeba/000927.jpg\n",
            "img_align_celeba/000928.jpg\n"
          ]
        },
        {
          "output_type": "stream",
          "name": "stderr",
          "text": [
            "  0%|          | 59/12662 [00:07<26:41,  7.87it/s]"
          ]
        },
        {
          "output_type": "stream",
          "name": "stdout",
          "text": [
            "img_align_celeba/000929.jpg\n",
            "img_align_celeba/000930.jpg\n",
            "img_align_celeba/000931.jpg\n",
            "img_align_celeba/000932.jpg\n",
            "img_align_celeba/000933.jpg\n",
            "img_align_celeba/000934.jpg\n",
            "img_align_celeba/000935.jpg\n",
            "img_align_celeba/000936.jpg\n",
            "img_align_celeba/000937.jpg\n",
            "img_align_celeba/000938.jpg\n",
            "img_align_celeba/000939.jpg\n",
            "img_align_celeba/000940.jpg\n",
            "img_align_celeba/000941.jpg\n",
            "img_align_celeba/000942.jpg\n",
            "img_align_celeba/000943.jpg\n",
            "img_align_celeba/000944.jpg\n",
            "img_align_celeba/000945.jpg\n",
            "img_align_celeba/000946.jpg\n",
            "img_align_celeba/000947.jpg\n",
            "img_align_celeba/000948.jpg\n",
            "img_align_celeba/000949.jpg\n",
            "img_align_celeba/000950.jpg\n",
            "img_align_celeba/000951.jpg\n",
            "img_align_celeba/000952.jpg\n",
            "img_align_celeba/000953.jpg\n",
            "img_align_celeba/000954.jpg\n",
            "img_align_celeba/000955.jpg\n"
          ]
        },
        {
          "output_type": "stream",
          "name": "stderr",
          "text": [
            "  0%|          | 61/12662 [00:07<27:11,  7.72it/s]"
          ]
        },
        {
          "output_type": "stream",
          "name": "stdout",
          "text": [
            "img_align_celeba/000956.jpg\n",
            "img_align_celeba/000957.jpg\n",
            "img_align_celeba/000958.jpg\n",
            "img_align_celeba/000959.jpg\n",
            "img_align_celeba/000960.jpg\n",
            "img_align_celeba/000961.jpg\n",
            "img_align_celeba/000962.jpg\n",
            "img_align_celeba/000963.jpg\n",
            "img_align_celeba/000964.jpg\n",
            "img_align_celeba/000965.jpg\n",
            "img_align_celeba/000966.jpg\n",
            "img_align_celeba/000967.jpg\n",
            "img_align_celeba/000968.jpg\n",
            "img_align_celeba/000969.jpg\n",
            "img_align_celeba/000970.jpg\n",
            "img_align_celeba/000971.jpg\n",
            "img_align_celeba/000972.jpg\n",
            "img_align_celeba/000973.jpg\n",
            "img_align_celeba/000974.jpg\n",
            "img_align_celeba/000975.jpg\n",
            "img_align_celeba/000976.jpg\n",
            "img_align_celeba/000977.jpg\n",
            "img_align_celeba/000978.jpg\n",
            "img_align_celeba/000979.jpg\n"
          ]
        },
        {
          "output_type": "stream",
          "name": "stderr",
          "text": [
            "\r  0%|          | 62/12662 [00:08<27:24,  7.66it/s]"
          ]
        },
        {
          "output_type": "stream",
          "name": "stdout",
          "text": [
            "img_align_celeba/000980.jpg\n",
            "img_align_celeba/000981.jpg\n",
            "img_align_celeba/000982.jpg\n",
            "img_align_celeba/000983.jpg\n",
            "img_align_celeba/000984.jpg\n",
            "img_align_celeba/000985.jpg\n",
            "img_align_celeba/000986.jpg\n",
            "img_align_celeba/000987.jpg\n",
            "img_align_celeba/000988.jpg\n",
            "img_align_celeba/000989.jpg\n",
            "img_align_celeba/000990.jpg\n",
            "img_align_celeba/000991.jpg\n",
            "img_align_celeba/000992.jpg\n",
            "img_align_celeba/000993.jpg\n",
            "img_align_celeba/000994.jpg\n",
            "img_align_celeba/000995.jpg\n",
            "img_align_celeba/000996.jpg\n",
            "img_align_celeba/000997.jpg\n",
            "img_align_celeba/000998.jpg\n",
            "img_align_celeba/000999.jpg\n",
            "img_align_celeba/001000.jpg\n",
            "img_align_celeba/001001.jpg\n",
            "img_align_celeba/001002.jpg\n",
            "img_align_celeba/001003.jpg\n",
            "img_align_celeba/001004.jpg\n",
            "img_align_celeba/001005.jpg\n",
            "img_align_celeba/001006.jpg\n",
            "img_align_celeba/001007.jpg\n"
          ]
        },
        {
          "output_type": "stream",
          "name": "stderr",
          "text": [
            "  1%|          | 64/12662 [00:08<27:21,  7.68it/s]"
          ]
        },
        {
          "output_type": "stream",
          "name": "stdout",
          "text": [
            "img_align_celeba/001008.jpg\n",
            "img_align_celeba/001009.jpg\n",
            "img_align_celeba/001010.jpg\n",
            "img_align_celeba/001011.jpg\n",
            "img_align_celeba/001012.jpg\n",
            "img_align_celeba/001013.jpg\n",
            "img_align_celeba/001014.jpg\n",
            "img_align_celeba/001015.jpg\n",
            "img_align_celeba/001016.jpg\n",
            "img_align_celeba/001017.jpg\n",
            "img_align_celeba/001018.jpg\n",
            "img_align_celeba/001019.jpg\n",
            "img_align_celeba/001020.jpg\n",
            "img_align_celeba/001021.jpg\n",
            "img_align_celeba/001022.jpg\n",
            "img_align_celeba/001023.jpg\n",
            "img_align_celeba/001024.jpg\n",
            "img_align_celeba/001025.jpg\n",
            "img_align_celeba/001026.jpg\n",
            "img_align_celeba/001027.jpg\n",
            "img_align_celeba/001028.jpg\n",
            "img_align_celeba/001029.jpg\n",
            "img_align_celeba/001030.jpg\n",
            "img_align_celeba/001031.jpg"
          ]
        },
        {
          "output_type": "stream",
          "name": "stderr",
          "text": [
            "\r  1%|          | 65/12662 [00:08<27:19,  7.68it/s]"
          ]
        },
        {
          "output_type": "stream",
          "name": "stdout",
          "text": [
            "\n",
            "img_align_celeba/001032.jpg\n",
            "img_align_celeba/001033.jpg\n",
            "img_align_celeba/001034.jpg\n",
            "img_align_celeba/001035.jpg\n",
            "img_align_celeba/001036.jpg\n",
            "img_align_celeba/001037.jpg\n",
            "img_align_celeba/001038.jpg\n",
            "img_align_celeba/001039.jpg\n",
            "img_align_celeba/001040.jpg\n",
            "img_align_celeba/001041.jpg\n",
            "img_align_celeba/001042.jpg\n",
            "img_align_celeba/001043.jpg\n",
            "img_align_celeba/001044.jpg\n",
            "img_align_celeba/001045.jpg\n",
            "img_align_celeba/001046.jpg\n",
            "img_align_celeba/001047.jpg\n",
            "img_align_celeba/001048.jpg\n",
            "img_align_celeba/001049.jpg\n",
            "img_align_celeba/001050.jpg\n",
            "img_align_celeba/001051.jpg\n",
            "img_align_celeba/001052.jpg\n",
            "img_align_celeba/001053.jpg\n",
            "img_align_celeba/001054.jpg\n",
            "img_align_celeba/001055.jpg\n",
            "img_align_celeba/001056.jpg\n"
          ]
        },
        {
          "output_type": "stream",
          "name": "stderr",
          "text": [
            "  1%|          | 67/12662 [00:08<27:27,  7.64it/s]"
          ]
        },
        {
          "output_type": "stream",
          "name": "stdout",
          "text": [
            "img_align_celeba/001057.jpg\n",
            "img_align_celeba/001058.jpg\n",
            "img_align_celeba/001059.jpg\n",
            "img_align_celeba/001060.jpg\n",
            "img_align_celeba/001061.jpg\n",
            "img_align_celeba/001062.jpg\n",
            "img_align_celeba/001063.jpg\n",
            "img_align_celeba/001064.jpg\n",
            "img_align_celeba/001065.jpg\n",
            "img_align_celeba/001066.jpg\n",
            "img_align_celeba/001067.jpg\n",
            "img_align_celeba/001068.jpg\n",
            "img_align_celeba/001069.jpg\n",
            "img_align_celeba/001070.jpg\n",
            "img_align_celeba/001071.jpg\n",
            "img_align_celeba/001072.jpg\n",
            "img_align_celeba/001073.jpg\n",
            "img_align_celeba/001074.jpg\n",
            "img_align_celeba/001075.jpg\n",
            "img_align_celeba/001076.jpg\n",
            "img_align_celeba/001077.jpg\n",
            "img_align_celeba/001078.jpg\n",
            "img_align_celeba/001079.jpg\n",
            "img_align_celeba/001080.jpg\n",
            "img_align_celeba/001081.jpg\n",
            "img_align_celeba/001082.jpg\n",
            "img_align_celeba/001083.jpg\n"
          ]
        },
        {
          "output_type": "stream",
          "name": "stderr",
          "text": [
            "  1%|          | 69/12662 [00:08<27:13,  7.71it/s]"
          ]
        },
        {
          "output_type": "stream",
          "name": "stdout",
          "text": [
            "img_align_celeba/001084.jpg\n",
            "img_align_celeba/001085.jpg\n",
            "img_align_celeba/001086.jpg\n",
            "img_align_celeba/001087.jpg\n",
            "img_align_celeba/001088.jpg\n",
            "img_align_celeba/001089.jpg\n",
            "img_align_celeba/001090.jpg\n",
            "img_align_celeba/001091.jpg\n",
            "img_align_celeba/001092.jpg\n",
            "img_align_celeba/001093.jpg\n",
            "img_align_celeba/001094.jpg\n",
            "img_align_celeba/001095.jpg\n",
            "img_align_celeba/001096.jpg\n",
            "img_align_celeba/001097.jpg\n",
            "img_align_celeba/001098.jpg\n",
            "img_align_celeba/001099.jpg\n",
            "img_align_celeba/001100.jpg\n",
            "img_align_celeba/001101.jpg\n",
            "img_align_celeba/001102.jpg\n",
            "img_align_celeba/001103.jpg\n",
            "img_align_celeba/001104.jpg\n",
            "img_align_celeba/001105.jpg\n",
            "img_align_celeba/001106.jpg\n",
            "img_align_celeba/001107.jpg\n"
          ]
        },
        {
          "output_type": "stream",
          "name": "stderr",
          "text": [
            "\r  1%|          | 70/12662 [00:09<27:12,  7.71it/s]"
          ]
        },
        {
          "output_type": "stream",
          "name": "stdout",
          "text": [
            "img_align_celeba/001108.jpg\n",
            "img_align_celeba/001109.jpg\n",
            "img_align_celeba/001110.jpg\n",
            "img_align_celeba/001111.jpg\n",
            "img_align_celeba/001112.jpg\n",
            "img_align_celeba/001113.jpg\n",
            "img_align_celeba/001114.jpg\n",
            "img_align_celeba/001115.jpg\n",
            "img_align_celeba/001116.jpg\n",
            "img_align_celeba/001117.jpg\n",
            "img_align_celeba/001118.jpg\n",
            "img_align_celeba/001119.jpg\n",
            "img_align_celeba/001120.jpg\n",
            "img_align_celeba/001121.jpg\n",
            "img_align_celeba/001122.jpg\n",
            "img_align_celeba/001123.jpg\n",
            "img_align_celeba/001124.jpg\n",
            "img_align_celeba/001125.jpg\n",
            "img_align_celeba/001126.jpg\n",
            "img_align_celeba/001127.jpg\n",
            "img_align_celeba/001128.jpg\n",
            "img_align_celeba/001129.jpg\n",
            "img_align_celeba/001130.jpg\n",
            "img_align_celeba/001131.jpg\n",
            "img_align_celeba/001132.jpg\n",
            "img_align_celeba/001133.jpg\n",
            "img_align_celeba/001134.jpg\n"
          ]
        },
        {
          "output_type": "stream",
          "name": "stderr",
          "text": [
            "  1%|          | 72/12662 [00:09<27:21,  7.67it/s]"
          ]
        },
        {
          "output_type": "stream",
          "name": "stdout",
          "text": [
            "img_align_celeba/001135.jpg\n",
            "img_align_celeba/001136.jpg\n",
            "img_align_celeba/001137.jpg\n",
            "img_align_celeba/001138.jpg\n",
            "img_align_celeba/001139.jpg\n",
            "img_align_celeba/001140.jpg\n",
            "img_align_celeba/001141.jpg\n",
            "img_align_celeba/001142.jpg\n",
            "img_align_celeba/001143.jpg\n",
            "img_align_celeba/001144.jpg\n",
            "img_align_celeba/001145.jpg\n",
            "img_align_celeba/001146.jpg\n",
            "img_align_celeba/001147.jpg\n",
            "img_align_celeba/001148.jpg\n",
            "img_align_celeba/001149.jpg\n",
            "img_align_celeba/001150.jpg\n",
            "img_align_celeba/001151.jpg\n",
            "img_align_celeba/001152.jpg\n",
            "img_align_celeba/001153.jpg\n",
            "img_align_celeba/001154.jpg\n",
            "img_align_celeba/001155.jpg\n",
            "img_align_celeba/001156.jpg\n",
            "img_align_celeba/001157.jpg\n"
          ]
        },
        {
          "output_type": "stream",
          "name": "stderr",
          "text": [
            "\r  1%|          | 73/12662 [00:09<27:32,  7.62it/s]"
          ]
        },
        {
          "output_type": "stream",
          "name": "stdout",
          "text": [
            "img_align_celeba/001158.jpg\n",
            "img_align_celeba/001159.jpg\n",
            "img_align_celeba/001160.jpg\n",
            "img_align_celeba/001161.jpg\n",
            "img_align_celeba/001162.jpg\n",
            "img_align_celeba/001163.jpg\n",
            "img_align_celeba/001164.jpg\n",
            "img_align_celeba/001165.jpg\n",
            "img_align_celeba/001166.jpg\n",
            "img_align_celeba/001167.jpg\n",
            "img_align_celeba/001168.jpg\n",
            "img_align_celeba/001169.jpg\n",
            "img_align_celeba/001170.jpg\n",
            "img_align_celeba/001171.jpg\n",
            "img_align_celeba/001172.jpg\n",
            "img_align_celeba/001173.jpg\n",
            "img_align_celeba/001174.jpg\n",
            "img_align_celeba/001175.jpg\n",
            "img_align_celeba/001176.jpg\n",
            "img_align_celeba/001177.jpg\n",
            "img_align_celeba/001178.jpg\n",
            "img_align_celeba/001179.jpg\n",
            "img_align_celeba/001180.jpg\n",
            "img_align_celeba/001181.jpg\n",
            "img_align_celeba/001182.jpg\n",
            "img_align_celeba/001183.jpg\n",
            "img_align_celeba/001184.jpg\n"
          ]
        },
        {
          "output_type": "stream",
          "name": "stderr",
          "text": [
            "  1%|          | 75/12662 [00:09<28:04,  7.47it/s]"
          ]
        },
        {
          "output_type": "stream",
          "name": "stdout",
          "text": [
            "img_align_celeba/001185.jpg\n",
            "img_align_celeba/001186.jpg\n",
            "img_align_celeba/001187.jpg\n",
            "img_align_celeba/001188.jpg\n",
            "img_align_celeba/001189.jpg\n",
            "img_align_celeba/001190.jpg\n",
            "img_align_celeba/001191.jpg\n",
            "img_align_celeba/001192.jpg\n",
            "img_align_celeba/001193.jpg\n",
            "img_align_celeba/001194.jpg\n",
            "img_align_celeba/001195.jpg\n",
            "img_align_celeba/001196.jpg\n",
            "img_align_celeba/001197.jpg\n",
            "img_align_celeba/001198.jpg\n",
            "img_align_celeba/001199.jpg\n",
            "img_align_celeba/001200.jpg\n",
            "img_align_celeba/001201.jpg\n",
            "img_align_celeba/001202.jpg\n",
            "img_align_celeba/001203.jpg\n",
            "img_align_celeba/001204.jpg\n",
            "img_align_celeba/001205.jpg\n",
            "img_align_celeba/001206.jpg\n",
            "img_align_celeba/001207.jpg\n",
            "img_align_celeba/001208.jpg\n",
            "img_align_celeba/001209.jpg\n",
            "img_align_celeba/001210.jpg"
          ]
        },
        {
          "output_type": "stream",
          "name": "stderr",
          "text": [
            "  1%|          | 77/12662 [00:10<28:05,  7.46it/s]"
          ]
        },
        {
          "output_type": "stream",
          "name": "stdout",
          "text": [
            "\n",
            "img_align_celeba/001211.jpg\n",
            "img_align_celeba/001212.jpg\n",
            "img_align_celeba/001213.jpg\n",
            "img_align_celeba/001214.jpg\n",
            "img_align_celeba/001215.jpg\n",
            "img_align_celeba/001216.jpg\n",
            "img_align_celeba/001217.jpg\n",
            "img_align_celeba/001218.jpg\n",
            "img_align_celeba/001219.jpg\n",
            "img_align_celeba/001220.jpg\n",
            "img_align_celeba/001221.jpg\n",
            "img_align_celeba/001222.jpg\n",
            "img_align_celeba/001223.jpg\n",
            "img_align_celeba/001224.jpg\n",
            "img_align_celeba/001225.jpg\n",
            "img_align_celeba/001226.jpg\n",
            "img_align_celeba/001227.jpg\n",
            "img_align_celeba/001228.jpg\n",
            "img_align_celeba/001229.jpg\n",
            "img_align_celeba/001230.jpg\n",
            "img_align_celeba/001231.jpg\n",
            "img_align_celeba/001232.jpg\n"
          ]
        },
        {
          "output_type": "stream",
          "name": "stderr",
          "text": [
            "\r  1%|          | 78/12662 [00:10<27:53,  7.52it/s]"
          ]
        },
        {
          "output_type": "stream",
          "name": "stdout",
          "text": [
            "img_align_celeba/001233.jpg\n",
            "img_align_celeba/001234.jpg\n",
            "img_align_celeba/001235.jpg\n",
            "img_align_celeba/001236.jpg\n",
            "img_align_celeba/001237.jpg\n",
            "img_align_celeba/001238.jpg\n",
            "img_align_celeba/001239.jpg\n",
            "img_align_celeba/001240.jpg\n",
            "img_align_celeba/001241.jpg\n",
            "img_align_celeba/001242.jpg\n",
            "img_align_celeba/001243.jpg\n",
            "img_align_celeba/001244.jpg\n",
            "img_align_celeba/001245.jpg\n",
            "img_align_celeba/001246.jpg\n",
            "img_align_celeba/001247.jpg\n",
            "img_align_celeba/001248.jpg\n",
            "img_align_celeba/001249.jpg\n",
            "img_align_celeba/001250.jpg\n",
            "img_align_celeba/001251.jpg\n",
            "img_align_celeba/001252.jpg\n",
            "img_align_celeba/001253.jpg\n",
            "img_align_celeba/001254.jpg\n",
            "img_align_celeba/001255.jpg\n",
            "img_align_celeba/001256.jpg\n",
            "img_align_celeba/001257.jpg\n",
            "img_align_celeba/001258.jpg\n",
            "img_align_celeba/001259.jpg\n"
          ]
        },
        {
          "output_type": "stream",
          "name": "stderr",
          "text": [
            "  1%|          | 80/12662 [00:10<28:37,  7.33it/s]"
          ]
        },
        {
          "output_type": "stream",
          "name": "stdout",
          "text": [
            "img_align_celeba/001260.jpg\n",
            "img_align_celeba/001261.jpg\n",
            "img_align_celeba/001262.jpg\n",
            "img_align_celeba/001263.jpg\n",
            "img_align_celeba/001264.jpg\n",
            "img_align_celeba/001265.jpg\n",
            "img_align_celeba/001266.jpg\n",
            "img_align_celeba/001267.jpg\n",
            "img_align_celeba/001268.jpg\n",
            "img_align_celeba/001269.jpg\n",
            "img_align_celeba/001270.jpg\n",
            "img_align_celeba/001271.jpg\n",
            "img_align_celeba/001272.jpg\n",
            "img_align_celeba/001273.jpg\n",
            "img_align_celeba/001274.jpg\n",
            "img_align_celeba/001275.jpg\n",
            "img_align_celeba/001276.jpg\n",
            "img_align_celeba/001277.jpg\n",
            "img_align_celeba/001278.jpg\n",
            "img_align_celeba/001279.jpg\n",
            "img_align_celeba/001280.jpg\n",
            "img_align_celeba/001281.jpg\n"
          ]
        },
        {
          "output_type": "stream",
          "name": "stderr",
          "text": [
            "\r  1%|          | 81/12662 [00:10<28:27,  7.37it/s]"
          ]
        },
        {
          "output_type": "stream",
          "name": "stdout",
          "text": [
            "img_align_celeba/001282.jpg\n",
            "img_align_celeba/001283.jpg\n",
            "img_align_celeba/001284.jpg\n",
            "img_align_celeba/001285.jpg\n",
            "img_align_celeba/001286.jpg\n",
            "img_align_celeba/001287.jpg\n",
            "img_align_celeba/001288.jpg\n",
            "img_align_celeba/001289.jpg\n",
            "img_align_celeba/001290.jpg\n",
            "img_align_celeba/001291.jpg\n",
            "img_align_celeba/001292.jpg\n",
            "img_align_celeba/001293.jpg\n",
            "img_align_celeba/001294.jpg\n",
            "img_align_celeba/001295.jpg\n",
            "img_align_celeba/001296.jpg\n",
            "img_align_celeba/001297.jpg\n",
            "img_align_celeba/001298.jpg\n",
            "img_align_celeba/001299.jpg\n",
            "img_align_celeba/001300.jpg\n",
            "img_align_celeba/001301.jpg\n",
            "img_align_celeba/001302.jpg\n",
            "img_align_celeba/001303.jpg\n",
            "img_align_celeba/001304.jpg\n",
            "img_align_celeba/001305.jpg\n",
            "img_align_celeba/001306.jpg\n",
            "img_align_celeba/001307.jpg\n",
            "img_align_celeba/001308.jpg\n"
          ]
        },
        {
          "output_type": "stream",
          "name": "stderr",
          "text": [
            "  1%|          | 83/12662 [00:10<28:12,  7.43it/s]"
          ]
        },
        {
          "output_type": "stream",
          "name": "stdout",
          "text": [
            "img_align_celeba/001309.jpg\n",
            "img_align_celeba/001310.jpg\n",
            "img_align_celeba/001311.jpg\n",
            "img_align_celeba/001312.jpg\n",
            "img_align_celeba/001313.jpg\n",
            "img_align_celeba/001314.jpg\n",
            "img_align_celeba/001315.jpg\n",
            "img_align_celeba/001316.jpg\n",
            "img_align_celeba/001317.jpg\n",
            "img_align_celeba/001318.jpg\n",
            "img_align_celeba/001319.jpg\n",
            "img_align_celeba/001320.jpg\n",
            "img_align_celeba/001321.jpg\n",
            "img_align_celeba/001322.jpg\n",
            "img_align_celeba/001323.jpg\n",
            "img_align_celeba/001324.jpg\n",
            "img_align_celeba/001325.jpg\n",
            "img_align_celeba/001326.jpg\n",
            "img_align_celeba/001327.jpg\n",
            "img_align_celeba/001328.jpg\n",
            "img_align_celeba/001329.jpg\n",
            "img_align_celeba/001330.jpg\n",
            "img_align_celeba/001331.jpg\n"
          ]
        },
        {
          "output_type": "stream",
          "name": "stderr",
          "text": [
            "\r  1%|          | 84/12662 [00:10<27:54,  7.51it/s]"
          ]
        },
        {
          "output_type": "stream",
          "name": "stdout",
          "text": [
            "img_align_celeba/001332.jpg\n",
            "img_align_celeba/001333.jpg\n",
            "img_align_celeba/001334.jpg\n",
            "img_align_celeba/001335.jpg\n",
            "img_align_celeba/001336.jpg\n",
            "img_align_celeba/001337.jpg\n",
            "img_align_celeba/001338.jpg\n",
            "img_align_celeba/001339.jpg\n",
            "img_align_celeba/001340.jpg\n",
            "img_align_celeba/001341.jpg\n",
            "img_align_celeba/001342.jpg\n",
            "img_align_celeba/001343.jpg\n",
            "img_align_celeba/001344.jpg\n",
            "img_align_celeba/001345.jpg\n",
            "img_align_celeba/001346.jpg\n",
            "img_align_celeba/001347.jpg\n",
            "img_align_celeba/001348.jpg\n",
            "img_align_celeba/001349.jpg\n",
            "img_align_celeba/001350.jpg\n",
            "img_align_celeba/001351.jpg\n",
            "img_align_celeba/001352.jpg\n",
            "img_align_celeba/001353.jpg\n",
            "img_align_celeba/001354.jpg\n",
            "img_align_celeba/001355.jpg\n",
            "img_align_celeba/001356.jpg\n",
            "img_align_celeba/001357.jpg\n",
            "img_align_celeba/001358.jpg\n",
            "img_align_celeba/001359.jpg"
          ]
        },
        {
          "output_type": "stream",
          "name": "stderr",
          "text": [
            "  1%|          | 86/12662 [00:11<27:51,  7.52it/s]"
          ]
        },
        {
          "output_type": "stream",
          "name": "stdout",
          "text": [
            "\n",
            "img_align_celeba/001360.jpg\n",
            "img_align_celeba/001361.jpg\n",
            "img_align_celeba/001362.jpg\n",
            "img_align_celeba/001363.jpg\n",
            "img_align_celeba/001364.jpg\n",
            "img_align_celeba/001365.jpg\n",
            "img_align_celeba/001366.jpg\n",
            "img_align_celeba/001367.jpg\n",
            "img_align_celeba/001368.jpg\n",
            "img_align_celeba/001369.jpg\n",
            "img_align_celeba/001370.jpg\n",
            "img_align_celeba/001371.jpg\n",
            "img_align_celeba/001372.jpg\n",
            "img_align_celeba/001373.jpg\n",
            "img_align_celeba/001374.jpg\n",
            "img_align_celeba/001375.jpg\n",
            "img_align_celeba/001376.jpg\n",
            "img_align_celeba/001377.jpg\n",
            "img_align_celeba/001378.jpg\n",
            "img_align_celeba/001379.jpg\n",
            "img_align_celeba/001380.jpg\n",
            "img_align_celeba/001381.jpg\n"
          ]
        },
        {
          "output_type": "stream",
          "name": "stderr",
          "text": [
            "\r  1%|          | 87/12662 [00:11<27:55,  7.51it/s]"
          ]
        },
        {
          "output_type": "stream",
          "name": "stdout",
          "text": [
            "img_align_celeba/001382.jpg\n",
            "img_align_celeba/001383.jpg\n",
            "img_align_celeba/001384.jpg\n",
            "img_align_celeba/001385.jpg\n",
            "img_align_celeba/001386.jpg\n",
            "img_align_celeba/001387.jpg\n",
            "img_align_celeba/001388.jpg\n",
            "img_align_celeba/001389.jpg\n",
            "img_align_celeba/001390.jpg\n",
            "img_align_celeba/001391.jpg\n",
            "img_align_celeba/001392.jpg\n",
            "img_align_celeba/001393.jpg\n",
            "img_align_celeba/001394.jpg\n",
            "img_align_celeba/001395.jpg\n",
            "img_align_celeba/001396.jpg\n",
            "img_align_celeba/001397.jpg\n",
            "img_align_celeba/001398.jpg\n",
            "img_align_celeba/001399.jpg\n",
            "img_align_celeba/001400.jpg\n",
            "img_align_celeba/001401.jpg\n",
            "img_align_celeba/001402.jpg\n",
            "img_align_celeba/001403.jpg\n",
            "img_align_celeba/001404.jpg\n",
            "img_align_celeba/001405.jpg\n",
            "img_align_celeba/001406.jpg\n",
            "img_align_celeba/001407.jpg\n",
            "img_align_celeba/001408.jpg\n"
          ]
        },
        {
          "output_type": "stream",
          "name": "stderr",
          "text": [
            "  1%|          | 89/12662 [00:11<28:22,  7.38it/s]"
          ]
        },
        {
          "output_type": "stream",
          "name": "stdout",
          "text": [
            "img_align_celeba/001409.jpg\n",
            "img_align_celeba/001410.jpg\n",
            "img_align_celeba/001411.jpg\n",
            "img_align_celeba/001412.jpg\n",
            "img_align_celeba/001413.jpg\n",
            "img_align_celeba/001414.jpg\n",
            "img_align_celeba/001415.jpg\n",
            "img_align_celeba/001416.jpg\n",
            "img_align_celeba/001417.jpg\n",
            "img_align_celeba/001418.jpg\n",
            "img_align_celeba/001419.jpg\n",
            "img_align_celeba/001420.jpg\n",
            "img_align_celeba/001421.jpg\n",
            "img_align_celeba/001422.jpg\n",
            "img_align_celeba/001423.jpg\n",
            "img_align_celeba/001424.jpg\n",
            "img_align_celeba/001425.jpg\n",
            "img_align_celeba/001426.jpg\n",
            "img_align_celeba/001427.jpg\n",
            "img_align_celeba/001428.jpg\n",
            "img_align_celeba/001429.jpg\n",
            "img_align_celeba/001430.jpg\n",
            "img_align_celeba/001431.jpg\n",
            "img_align_celeba/001432.jpg\n",
            "img_align_celeba/001433.jpg\n",
            "img_align_celeba/001434.jpg\n"
          ]
        },
        {
          "output_type": "stream",
          "name": "stderr",
          "text": [
            "  1%|          | 91/12662 [00:11<27:52,  7.52it/s]"
          ]
        },
        {
          "output_type": "stream",
          "name": "stdout",
          "text": [
            "img_align_celeba/001435.jpg\n",
            "img_align_celeba/001436.jpg\n",
            "img_align_celeba/001437.jpg\n",
            "img_align_celeba/001438.jpg\n",
            "img_align_celeba/001439.jpg\n",
            "img_align_celeba/001440.jpg\n",
            "img_align_celeba/001441.jpg\n",
            "img_align_celeba/001442.jpg\n",
            "img_align_celeba/001443.jpg\n",
            "img_align_celeba/001444.jpg\n",
            "img_align_celeba/001445.jpg\n",
            "img_align_celeba/001446.jpg\n",
            "img_align_celeba/001447.jpg\n",
            "img_align_celeba/001448.jpg\n",
            "img_align_celeba/001449.jpg\n",
            "img_align_celeba/001450.jpg\n",
            "img_align_celeba/001451.jpg\n",
            "img_align_celeba/001452.jpg\n",
            "img_align_celeba/001453.jpg\n",
            "img_align_celeba/001454.jpg\n",
            "img_align_celeba/001455.jpg\n",
            "img_align_celeba/001456.jpg\n",
            "img_align_celeba/001457.jpg\n"
          ]
        },
        {
          "output_type": "stream",
          "name": "stderr",
          "text": [
            "\r  1%|          | 92/12662 [00:12<27:48,  7.54it/s]"
          ]
        },
        {
          "output_type": "stream",
          "name": "stdout",
          "text": [
            "img_align_celeba/001458.jpg\n",
            "img_align_celeba/001459.jpg\n",
            "img_align_celeba/001460.jpg\n",
            "img_align_celeba/001461.jpg\n",
            "img_align_celeba/001462.jpg\n",
            "img_align_celeba/001463.jpg\n",
            "img_align_celeba/001464.jpg\n",
            "img_align_celeba/001465.jpg\n",
            "img_align_celeba/001466.jpg\n",
            "img_align_celeba/001467.jpg\n",
            "img_align_celeba/001468.jpg\n",
            "img_align_celeba/001469.jpg\n",
            "img_align_celeba/001470.jpg\n",
            "img_align_celeba/001471.jpg\n",
            "img_align_celeba/001472.jpg\n",
            "img_align_celeba/001473.jpg\n",
            "img_align_celeba/001474.jpg\n",
            "img_align_celeba/001475.jpg\n",
            "img_align_celeba/001476.jpg\n",
            "img_align_celeba/001477.jpg\n",
            "img_align_celeba/001478.jpg\n",
            "img_align_celeba/001479.jpg\n",
            "img_align_celeba/001480.jpg\n",
            "img_align_celeba/001481.jpg\n",
            "img_align_celeba/001482.jpg\n",
            "img_align_celeba/001483.jpg\n",
            "img_align_celeba/001484.jpg\n",
            "img_align_celeba/001485.jpg"
          ]
        },
        {
          "output_type": "stream",
          "name": "stderr",
          "text": [
            "  1%|          | 94/12662 [00:12<27:35,  7.59it/s]"
          ]
        },
        {
          "output_type": "stream",
          "name": "stdout",
          "text": [
            "\n",
            "img_align_celeba/001486.jpg\n",
            "img_align_celeba/001487.jpg\n",
            "img_align_celeba/001488.jpg\n",
            "img_align_celeba/001489.jpg\n",
            "img_align_celeba/001490.jpg\n",
            "img_align_celeba/001491.jpg\n",
            "img_align_celeba/001492.jpg\n",
            "img_align_celeba/001493.jpg\n",
            "img_align_celeba/001494.jpg\n",
            "img_align_celeba/001495.jpg\n",
            "img_align_celeba/001496.jpg\n",
            "img_align_celeba/001497.jpg\n",
            "img_align_celeba/001498.jpg\n",
            "img_align_celeba/001499.jpg\n",
            "img_align_celeba/001500.jpg\n",
            "img_align_celeba/001501.jpg\n",
            "img_align_celeba/001502.jpg\n",
            "img_align_celeba/001503.jpg\n",
            "img_align_celeba/001504.jpg\n",
            "img_align_celeba/001505.jpg\n",
            "img_align_celeba/001506.jpg\n",
            "img_align_celeba/001507.jpg\n"
          ]
        },
        {
          "output_type": "stream",
          "name": "stderr",
          "text": [
            "\r  1%|          | 95/12662 [00:12<27:42,  7.56it/s]"
          ]
        },
        {
          "output_type": "stream",
          "name": "stdout",
          "text": [
            "img_align_celeba/001508.jpg\n",
            "img_align_celeba/001509.jpg\n",
            "img_align_celeba/001510.jpg\n",
            "img_align_celeba/001511.jpg\n",
            "img_align_celeba/001512.jpg\n",
            "img_align_celeba/001513.jpg\n",
            "img_align_celeba/001514.jpg\n",
            "img_align_celeba/001515.jpg\n",
            "img_align_celeba/001516.jpg\n",
            "img_align_celeba/001517.jpg\n",
            "img_align_celeba/001518.jpg\n",
            "img_align_celeba/001519.jpg\n",
            "img_align_celeba/001520.jpg\n",
            "img_align_celeba/001521.jpg\n",
            "img_align_celeba/001522.jpg\n",
            "img_align_celeba/001523.jpg\n",
            "img_align_celeba/001524.jpg\n",
            "img_align_celeba/001525.jpg\n",
            "img_align_celeba/001526.jpg\n",
            "img_align_celeba/001527.jpg\n",
            "img_align_celeba/001528.jpg\n",
            "img_align_celeba/001529.jpg\n",
            "img_align_celeba/001530.jpg\n",
            "img_align_celeba/001531.jpg\n",
            "img_align_celeba/001532.jpg\n",
            "img_align_celeba/001533.jpg\n",
            "img_align_celeba/001534.jpg\n"
          ]
        },
        {
          "output_type": "stream",
          "name": "stderr",
          "text": [
            "  1%|          | 97/12662 [00:12<27:55,  7.50it/s]"
          ]
        },
        {
          "output_type": "stream",
          "name": "stdout",
          "text": [
            "img_align_celeba/001535.jpg\n",
            "img_align_celeba/001536.jpg\n",
            "img_align_celeba/001537.jpg\n",
            "img_align_celeba/001538.jpg\n",
            "img_align_celeba/001539.jpg\n",
            "img_align_celeba/001540.jpg\n",
            "img_align_celeba/001541.jpg\n",
            "img_align_celeba/001542.jpg\n",
            "img_align_celeba/001543.jpg\n",
            "img_align_celeba/001544.jpg\n",
            "img_align_celeba/001545.jpg\n",
            "img_align_celeba/001546.jpg\n",
            "img_align_celeba/001547.jpg\n",
            "img_align_celeba/001548.jpg\n",
            "img_align_celeba/001549.jpg\n",
            "img_align_celeba/001550.jpg\n",
            "img_align_celeba/001551.jpg\n",
            "img_align_celeba/001552.jpg\n",
            "img_align_celeba/001553.jpg\n",
            "img_align_celeba/001554.jpg\n",
            "img_align_celeba/001555.jpg\n",
            "img_align_celeba/001556.jpg\n",
            "img_align_celeba/001557.jpg\n"
          ]
        },
        {
          "output_type": "stream",
          "name": "stderr",
          "text": [
            "\r  1%|          | 98/12662 [00:12<28:40,  7.30it/s]"
          ]
        },
        {
          "output_type": "stream",
          "name": "stdout",
          "text": [
            "img_align_celeba/001558.jpg\n",
            "img_align_celeba/001559.jpg\n",
            "img_align_celeba/001560.jpg\n",
            "img_align_celeba/001561.jpg\n",
            "img_align_celeba/001562.jpg\n",
            "img_align_celeba/001563.jpg\n",
            "img_align_celeba/001564.jpg\n",
            "img_align_celeba/001565.jpg\n",
            "img_align_celeba/001566.jpg\n",
            "img_align_celeba/001567.jpg\n",
            "img_align_celeba/001568.jpg\n",
            "img_align_celeba/001569.jpg\n",
            "img_align_celeba/001570.jpg\n",
            "img_align_celeba/001571.jpg\n",
            "img_align_celeba/001572.jpg\n",
            "img_align_celeba/001573.jpg\n",
            "img_align_celeba/001574.jpg\n",
            "img_align_celeba/001575.jpg\n",
            "img_align_celeba/001576.jpg\n",
            "img_align_celeba/001577.jpg\n",
            "img_align_celeba/001578.jpg\n",
            "img_align_celeba/001579.jpg\n",
            "img_align_celeba/001580.jpg\n",
            "img_align_celeba/001581.jpg\n",
            "img_align_celeba/001582.jpg\n"
          ]
        },
        {
          "output_type": "stream",
          "name": "stderr",
          "text": [
            "  1%|          | 100/12662 [00:13<28:34,  7.33it/s]"
          ]
        },
        {
          "output_type": "stream",
          "name": "stdout",
          "text": [
            "img_align_celeba/001583.jpg\n",
            "img_align_celeba/001584.jpg\n",
            "img_align_celeba/001585.jpg\n",
            "img_align_celeba/001586.jpg\n",
            "img_align_celeba/001587.jpg\n",
            "img_align_celeba/001588.jpg\n",
            "img_align_celeba/001589.jpg\n",
            "img_align_celeba/001590.jpg\n",
            "img_align_celeba/001591.jpg\n",
            "img_align_celeba/001592.jpg\n",
            "img_align_celeba/001593.jpg\n",
            "img_align_celeba/001594.jpg\n",
            "img_align_celeba/001595.jpg\n",
            "img_align_celeba/001596.jpg\n",
            "img_align_celeba/001597.jpg\n",
            "img_align_celeba/001598.jpg\n",
            "img_align_celeba/001599.jpg\n",
            "img_align_celeba/001600.jpg\n",
            "img_align_celeba/001601.jpg\n",
            "img_align_celeba/001602.jpg\n",
            "img_align_celeba/001603.jpg\n",
            "img_align_celeba/001604.jpg"
          ]
        },
        {
          "output_type": "stream",
          "name": "stderr",
          "text": [
            "\r  1%|          | 101/12662 [00:13<28:32,  7.34it/s]"
          ]
        },
        {
          "output_type": "stream",
          "name": "stdout",
          "text": [
            "\n",
            "img_align_celeba/001605.jpg\n",
            "img_align_celeba/001606.jpg\n",
            "img_align_celeba/001607.jpg\n",
            "img_align_celeba/001608.jpg\n",
            "img_align_celeba/001609.jpg\n",
            "img_align_celeba/001610.jpg\n",
            "img_align_celeba/001611.jpg\n",
            "img_align_celeba/001612.jpg\n",
            "img_align_celeba/001613.jpg\n",
            "img_align_celeba/001614.jpg\n",
            "img_align_celeba/001615.jpg\n",
            "img_align_celeba/001616.jpg\n",
            "img_align_celeba/001617.jpg\n",
            "img_align_celeba/001618.jpg\n",
            "img_align_celeba/001619.jpg\n",
            "img_align_celeba/001620.jpg\n",
            "img_align_celeba/001621.jpg\n",
            "img_align_celeba/001622.jpg\n",
            "img_align_celeba/001623.jpg\n",
            "img_align_celeba/001624.jpg\n",
            "img_align_celeba/001625.jpg\n",
            "img_align_celeba/001626.jpg\n",
            "img_align_celeba/001627.jpg\n",
            "img_align_celeba/001628.jpg\n",
            "img_align_celeba/001629.jpg\n",
            "img_align_celeba/001630.jpg\n"
          ]
        },
        {
          "output_type": "stream",
          "name": "stderr",
          "text": [
            "  1%|          | 103/12662 [00:13<28:12,  7.42it/s]"
          ]
        },
        {
          "output_type": "stream",
          "name": "stdout",
          "text": [
            "img_align_celeba/001631.jpg\n",
            "img_align_celeba/001632.jpg\n",
            "img_align_celeba/001633.jpg\n",
            "img_align_celeba/001634.jpg\n",
            "img_align_celeba/001635.jpg\n",
            "img_align_celeba/001636.jpg\n",
            "img_align_celeba/001637.jpg\n",
            "img_align_celeba/001638.jpg\n",
            "img_align_celeba/001639.jpg\n",
            "img_align_celeba/001640.jpg\n",
            "img_align_celeba/001641.jpg\n",
            "img_align_celeba/001642.jpg\n",
            "img_align_celeba/001643.jpg\n",
            "img_align_celeba/001644.jpg\n",
            "img_align_celeba/001645.jpg\n",
            "img_align_celeba/001646.jpg\n",
            "img_align_celeba/001647.jpg\n",
            "img_align_celeba/001648.jpg\n",
            "img_align_celeba/001649.jpg\n",
            "img_align_celeba/001650.jpg\n",
            "img_align_celeba/001651.jpg\n",
            "img_align_celeba/001652.jpg\n",
            "img_align_celeba/001653.jpg\n"
          ]
        },
        {
          "output_type": "stream",
          "name": "stderr",
          "text": [
            "\r  1%|          | 104/12662 [00:13<28:03,  7.46it/s]"
          ]
        },
        {
          "output_type": "stream",
          "name": "stdout",
          "text": [
            "img_align_celeba/001654.jpg\n",
            "img_align_celeba/001655.jpg\n",
            "img_align_celeba/001656.jpg\n",
            "img_align_celeba/001657.jpg\n",
            "img_align_celeba/001658.jpg\n",
            "img_align_celeba/001659.jpg\n",
            "img_align_celeba/001660.jpg\n",
            "img_align_celeba/001661.jpg\n",
            "img_align_celeba/001662.jpg\n",
            "img_align_celeba/001663.jpg\n",
            "img_align_celeba/001664.jpg\n",
            "img_align_celeba/001665.jpg\n",
            "img_align_celeba/001666.jpg\n",
            "img_align_celeba/001667.jpg\n",
            "img_align_celeba/001668.jpg\n",
            "img_align_celeba/001669.jpg\n",
            "img_align_celeba/001670.jpg\n",
            "img_align_celeba/001671.jpg\n",
            "img_align_celeba/001672.jpg\n",
            "img_align_celeba/001673.jpg\n",
            "img_align_celeba/001674.jpg\n",
            "img_align_celeba/001675.jpg\n",
            "img_align_celeba/001676.jpg\n",
            "img_align_celeba/001677.jpg\n",
            "img_align_celeba/001678.jpg\n",
            "img_align_celeba/001679.jpg\n",
            "img_align_celeba/001680.jpg\n"
          ]
        },
        {
          "output_type": "stream",
          "name": "stderr",
          "text": [
            "  1%|          | 106/12662 [00:13<28:18,  7.39it/s]"
          ]
        },
        {
          "output_type": "stream",
          "name": "stdout",
          "text": [
            "img_align_celeba/001681.jpg\n",
            "img_align_celeba/001682.jpg\n",
            "img_align_celeba/001683.jpg\n",
            "img_align_celeba/001684.jpg\n",
            "img_align_celeba/001685.jpg\n",
            "img_align_celeba/001686.jpg\n",
            "img_align_celeba/001687.jpg\n",
            "img_align_celeba/001688.jpg\n",
            "img_align_celeba/001689.jpg\n",
            "img_align_celeba/001690.jpg\n",
            "img_align_celeba/001691.jpg\n",
            "img_align_celeba/001692.jpg\n",
            "img_align_celeba/001693.jpg\n",
            "img_align_celeba/001694.jpg\n",
            "img_align_celeba/001695.jpg\n",
            "img_align_celeba/001696.jpg\n",
            "img_align_celeba/001697.jpg\n",
            "img_align_celeba/001698.jpg\n",
            "img_align_celeba/001699.jpg\n",
            "img_align_celeba/001700.jpg\n",
            "img_align_celeba/001701.jpg\n",
            "img_align_celeba/001702.jpg\n",
            "img_align_celeba/001703.jpg\n",
            "img_align_celeba/001704.jpg\n",
            "img_align_celeba/001705.jpg\n",
            "img_align_celeba/001706.jpg\n"
          ]
        },
        {
          "output_type": "stream",
          "name": "stderr",
          "text": [
            "  1%|          | 108/12662 [00:14<28:00,  7.47it/s]"
          ]
        },
        {
          "output_type": "stream",
          "name": "stdout",
          "text": [
            "img_align_celeba/001707.jpg\n",
            "img_align_celeba/001708.jpg\n",
            "img_align_celeba/001709.jpg\n",
            "img_align_celeba/001710.jpg\n",
            "img_align_celeba/001711.jpg\n",
            "img_align_celeba/001712.jpg\n",
            "img_align_celeba/001713.jpg\n",
            "img_align_celeba/001714.jpg\n",
            "img_align_celeba/001715.jpg\n",
            "img_align_celeba/001716.jpg\n",
            "img_align_celeba/001717.jpg\n",
            "img_align_celeba/001718.jpg\n",
            "img_align_celeba/001719.jpg\n",
            "img_align_celeba/001720.jpg\n",
            "img_align_celeba/001721.jpg\n",
            "img_align_celeba/001722.jpg\n",
            "img_align_celeba/001723.jpg\n",
            "img_align_celeba/001724.jpg\n",
            "img_align_celeba/001725.jpg\n",
            "img_align_celeba/001726.jpg\n",
            "img_align_celeba/001727.jpg\n",
            "img_align_celeba/001728.jpg\n",
            "img_align_celeba/001729.jpg\n"
          ]
        },
        {
          "output_type": "stream",
          "name": "stderr",
          "text": [
            "\r  1%|          | 109/12662 [00:14<28:10,  7.42it/s]"
          ]
        },
        {
          "output_type": "stream",
          "name": "stdout",
          "text": [
            "img_align_celeba/001730.jpg\n",
            "img_align_celeba/001731.jpg\n",
            "img_align_celeba/001732.jpg\n",
            "img_align_celeba/001733.jpg\n",
            "img_align_celeba/001734.jpg\n",
            "img_align_celeba/001735.jpg\n",
            "img_align_celeba/001736.jpg\n",
            "img_align_celeba/001737.jpg\n",
            "img_align_celeba/001738.jpg\n",
            "img_align_celeba/001739.jpg\n",
            "img_align_celeba/001740.jpg\n",
            "img_align_celeba/001741.jpg\n",
            "img_align_celeba/001742.jpg\n",
            "img_align_celeba/001743.jpg\n",
            "img_align_celeba/001744.jpg\n",
            "img_align_celeba/001745.jpg\n",
            "img_align_celeba/001746.jpg\n",
            "img_align_celeba/001747.jpg\n",
            "img_align_celeba/001748.jpg\n",
            "img_align_celeba/001749.jpg\n",
            "img_align_celeba/001750.jpg\n",
            "img_align_celeba/001751.jpg\n",
            "img_align_celeba/001752.jpg\n",
            "img_align_celeba/001753.jpg\n",
            "img_align_celeba/001754.jpg\n",
            "img_align_celeba/001755.jpg\n",
            "img_align_celeba/001756.jpg\n"
          ]
        },
        {
          "output_type": "stream",
          "name": "stderr",
          "text": [
            "\r  1%|          | 109/12662 [00:14<27:45,  7.54it/s]"
          ]
        },
        {
          "output_type": "stream",
          "name": "stdout",
          "text": [
            "img_align_celeba/001757.jpg\n",
            "img_align_celeba/001758.jpg\n",
            "img_align_celeba/001759.jpg\n",
            "img_align_celeba/001760.jpg\n"
          ]
        },
        {
          "output_type": "stream",
          "name": "stderr",
          "text": [
            "\n"
          ]
        },
        {
          "output_type": "error",
          "ename": "KeyboardInterrupt",
          "evalue": "ignored",
          "traceback": [
            "\u001b[0;31m---------------------------------------------------------------------------\u001b[0m",
            "\u001b[0;31mKeyboardInterrupt\u001b[0m                         Traceback (most recent call last)",
            "\u001b[0;32m<ipython-input-17-60d24992c082>\u001b[0m in \u001b[0;36m<module>\u001b[0;34m()\u001b[0m\n\u001b[1;32m     26\u001b[0m \u001b[0;34m\u001b[0m\u001b[0m\n\u001b[1;32m     27\u001b[0m   \u001b[0;31m# Encode to Z, (batch_size, 1024)\u001b[0m\u001b[0;34m\u001b[0m\u001b[0;34m\u001b[0m\u001b[0;34m\u001b[0m\u001b[0m\n\u001b[0;32m---> 28\u001b[0;31m   \u001b[0mz\u001b[0m \u001b[0;34m=\u001b[0m \u001b[0msess\u001b[0m\u001b[0;34m.\u001b[0m\u001b[0mrun\u001b[0m\u001b[0;34m(\u001b[0m\u001b[0mZ_mu\u001b[0m\u001b[0;34m,\u001b[0m \u001b[0mfeed_dict\u001b[0m\u001b[0;34m=\u001b[0m\u001b[0;34m{\u001b[0m\u001b[0mX\u001b[0m\u001b[0;34m:\u001b[0m \u001b[0mimgs\u001b[0m\u001b[0;34m,\u001b[0m \u001b[0mis_training\u001b[0m\u001b[0;34m:\u001b[0m \u001b[0;32mFalse\u001b[0m\u001b[0;34m}\u001b[0m\u001b[0;34m)\u001b[0m\u001b[0;34m\u001b[0m\u001b[0;34m\u001b[0m\u001b[0m\n\u001b[0m\u001b[1;32m     29\u001b[0m \u001b[0;34m\u001b[0m\u001b[0m\n\u001b[1;32m     30\u001b[0m   \u001b[0;31m# Loop ID of each z-vector in batch,\u001b[0m\u001b[0;34m\u001b[0m\u001b[0;34m\u001b[0m\u001b[0;34m\u001b[0m\u001b[0m\n",
            "\u001b[0;32m/tensorflow-1.15.2/python3.7/tensorflow_core/python/client/session.py\u001b[0m in \u001b[0;36mrun\u001b[0;34m(self, fetches, feed_dict, options, run_metadata)\u001b[0m\n\u001b[1;32m    954\u001b[0m     \u001b[0;32mtry\u001b[0m\u001b[0;34m:\u001b[0m\u001b[0;34m\u001b[0m\u001b[0;34m\u001b[0m\u001b[0m\n\u001b[1;32m    955\u001b[0m       result = self._run(None, fetches, feed_dict, options_ptr,\n\u001b[0;32m--> 956\u001b[0;31m                          run_metadata_ptr)\n\u001b[0m\u001b[1;32m    957\u001b[0m       \u001b[0;32mif\u001b[0m \u001b[0mrun_metadata\u001b[0m\u001b[0;34m:\u001b[0m\u001b[0;34m\u001b[0m\u001b[0;34m\u001b[0m\u001b[0m\n\u001b[1;32m    958\u001b[0m         \u001b[0mproto_data\u001b[0m \u001b[0;34m=\u001b[0m \u001b[0mtf_session\u001b[0m\u001b[0;34m.\u001b[0m\u001b[0mTF_GetBuffer\u001b[0m\u001b[0;34m(\u001b[0m\u001b[0mrun_metadata_ptr\u001b[0m\u001b[0;34m)\u001b[0m\u001b[0;34m\u001b[0m\u001b[0;34m\u001b[0m\u001b[0m\n",
            "\u001b[0;32m/tensorflow-1.15.2/python3.7/tensorflow_core/python/client/session.py\u001b[0m in \u001b[0;36m_run\u001b[0;34m(self, handle, fetches, feed_dict, options, run_metadata)\u001b[0m\n\u001b[1;32m   1178\u001b[0m     \u001b[0;32mif\u001b[0m \u001b[0mfinal_fetches\u001b[0m \u001b[0;32mor\u001b[0m \u001b[0mfinal_targets\u001b[0m \u001b[0;32mor\u001b[0m \u001b[0;34m(\u001b[0m\u001b[0mhandle\u001b[0m \u001b[0;32mand\u001b[0m \u001b[0mfeed_dict_tensor\u001b[0m\u001b[0;34m)\u001b[0m\u001b[0;34m:\u001b[0m\u001b[0;34m\u001b[0m\u001b[0;34m\u001b[0m\u001b[0m\n\u001b[1;32m   1179\u001b[0m       results = self._do_run(handle, final_targets, final_fetches,\n\u001b[0;32m-> 1180\u001b[0;31m                              feed_dict_tensor, options, run_metadata)\n\u001b[0m\u001b[1;32m   1181\u001b[0m     \u001b[0;32melse\u001b[0m\u001b[0;34m:\u001b[0m\u001b[0;34m\u001b[0m\u001b[0;34m\u001b[0m\u001b[0m\n\u001b[1;32m   1182\u001b[0m       \u001b[0mresults\u001b[0m \u001b[0;34m=\u001b[0m \u001b[0;34m[\u001b[0m\u001b[0;34m]\u001b[0m\u001b[0;34m\u001b[0m\u001b[0;34m\u001b[0m\u001b[0m\n",
            "\u001b[0;32m/tensorflow-1.15.2/python3.7/tensorflow_core/python/client/session.py\u001b[0m in \u001b[0;36m_do_run\u001b[0;34m(self, handle, target_list, fetch_list, feed_dict, options, run_metadata)\u001b[0m\n\u001b[1;32m   1357\u001b[0m     \u001b[0;32mif\u001b[0m \u001b[0mhandle\u001b[0m \u001b[0;32mis\u001b[0m \u001b[0;32mNone\u001b[0m\u001b[0;34m:\u001b[0m\u001b[0;34m\u001b[0m\u001b[0;34m\u001b[0m\u001b[0m\n\u001b[1;32m   1358\u001b[0m       return self._do_call(_run_fn, feeds, fetches, targets, options,\n\u001b[0;32m-> 1359\u001b[0;31m                            run_metadata)\n\u001b[0m\u001b[1;32m   1360\u001b[0m     \u001b[0;32melse\u001b[0m\u001b[0;34m:\u001b[0m\u001b[0;34m\u001b[0m\u001b[0;34m\u001b[0m\u001b[0m\n\u001b[1;32m   1361\u001b[0m       \u001b[0;32mreturn\u001b[0m \u001b[0mself\u001b[0m\u001b[0;34m.\u001b[0m\u001b[0m_do_call\u001b[0m\u001b[0;34m(\u001b[0m\u001b[0m_prun_fn\u001b[0m\u001b[0;34m,\u001b[0m \u001b[0mhandle\u001b[0m\u001b[0;34m,\u001b[0m \u001b[0mfeeds\u001b[0m\u001b[0;34m,\u001b[0m \u001b[0mfetches\u001b[0m\u001b[0;34m)\u001b[0m\u001b[0;34m\u001b[0m\u001b[0;34m\u001b[0m\u001b[0m\n",
            "\u001b[0;32m/tensorflow-1.15.2/python3.7/tensorflow_core/python/client/session.py\u001b[0m in \u001b[0;36m_do_call\u001b[0;34m(self, fn, *args)\u001b[0m\n\u001b[1;32m   1363\u001b[0m   \u001b[0;32mdef\u001b[0m \u001b[0m_do_call\u001b[0m\u001b[0;34m(\u001b[0m\u001b[0mself\u001b[0m\u001b[0;34m,\u001b[0m \u001b[0mfn\u001b[0m\u001b[0;34m,\u001b[0m \u001b[0;34m*\u001b[0m\u001b[0margs\u001b[0m\u001b[0;34m)\u001b[0m\u001b[0;34m:\u001b[0m\u001b[0;34m\u001b[0m\u001b[0;34m\u001b[0m\u001b[0m\n\u001b[1;32m   1364\u001b[0m     \u001b[0;32mtry\u001b[0m\u001b[0;34m:\u001b[0m\u001b[0;34m\u001b[0m\u001b[0;34m\u001b[0m\u001b[0m\n\u001b[0;32m-> 1365\u001b[0;31m       \u001b[0;32mreturn\u001b[0m \u001b[0mfn\u001b[0m\u001b[0;34m(\u001b[0m\u001b[0;34m*\u001b[0m\u001b[0margs\u001b[0m\u001b[0;34m)\u001b[0m\u001b[0;34m\u001b[0m\u001b[0;34m\u001b[0m\u001b[0m\n\u001b[0m\u001b[1;32m   1366\u001b[0m     \u001b[0;32mexcept\u001b[0m \u001b[0merrors\u001b[0m\u001b[0;34m.\u001b[0m\u001b[0mOpError\u001b[0m \u001b[0;32mas\u001b[0m \u001b[0me\u001b[0m\u001b[0;34m:\u001b[0m\u001b[0;34m\u001b[0m\u001b[0;34m\u001b[0m\u001b[0m\n\u001b[1;32m   1367\u001b[0m       \u001b[0mmessage\u001b[0m \u001b[0;34m=\u001b[0m \u001b[0mcompat\u001b[0m\u001b[0;34m.\u001b[0m\u001b[0mas_text\u001b[0m\u001b[0;34m(\u001b[0m\u001b[0me\u001b[0m\u001b[0;34m.\u001b[0m\u001b[0mmessage\u001b[0m\u001b[0;34m)\u001b[0m\u001b[0;34m\u001b[0m\u001b[0;34m\u001b[0m\u001b[0m\n",
            "\u001b[0;32m/tensorflow-1.15.2/python3.7/tensorflow_core/python/client/session.py\u001b[0m in \u001b[0;36m_run_fn\u001b[0;34m(feed_dict, fetch_list, target_list, options, run_metadata)\u001b[0m\n\u001b[1;32m   1348\u001b[0m       \u001b[0mself\u001b[0m\u001b[0;34m.\u001b[0m\u001b[0m_extend_graph\u001b[0m\u001b[0;34m(\u001b[0m\u001b[0;34m)\u001b[0m\u001b[0;34m\u001b[0m\u001b[0;34m\u001b[0m\u001b[0m\n\u001b[1;32m   1349\u001b[0m       return self._call_tf_sessionrun(options, feed_dict, fetch_list,\n\u001b[0;32m-> 1350\u001b[0;31m                                       target_list, run_metadata)\n\u001b[0m\u001b[1;32m   1351\u001b[0m \u001b[0;34m\u001b[0m\u001b[0m\n\u001b[1;32m   1352\u001b[0m     \u001b[0;32mdef\u001b[0m \u001b[0m_prun_fn\u001b[0m\u001b[0;34m(\u001b[0m\u001b[0mhandle\u001b[0m\u001b[0;34m,\u001b[0m \u001b[0mfeed_dict\u001b[0m\u001b[0;34m,\u001b[0m \u001b[0mfetch_list\u001b[0m\u001b[0;34m)\u001b[0m\u001b[0;34m:\u001b[0m\u001b[0;34m\u001b[0m\u001b[0;34m\u001b[0m\u001b[0m\n",
            "\u001b[0;32m/tensorflow-1.15.2/python3.7/tensorflow_core/python/client/session.py\u001b[0m in \u001b[0;36m_call_tf_sessionrun\u001b[0;34m(self, options, feed_dict, fetch_list, target_list, run_metadata)\u001b[0m\n\u001b[1;32m   1441\u001b[0m     return tf_session.TF_SessionRun_wrapper(self._session, options, feed_dict,\n\u001b[1;32m   1442\u001b[0m                                             \u001b[0mfetch_list\u001b[0m\u001b[0;34m,\u001b[0m \u001b[0mtarget_list\u001b[0m\u001b[0;34m,\u001b[0m\u001b[0;34m\u001b[0m\u001b[0;34m\u001b[0m\u001b[0m\n\u001b[0;32m-> 1443\u001b[0;31m                                             run_metadata)\n\u001b[0m\u001b[1;32m   1444\u001b[0m \u001b[0;34m\u001b[0m\u001b[0m\n\u001b[1;32m   1445\u001b[0m   \u001b[0;32mdef\u001b[0m \u001b[0m_call_tf_sessionprun\u001b[0m\u001b[0;34m(\u001b[0m\u001b[0mself\u001b[0m\u001b[0;34m,\u001b[0m \u001b[0mhandle\u001b[0m\u001b[0;34m,\u001b[0m \u001b[0mfeed_dict\u001b[0m\u001b[0;34m,\u001b[0m \u001b[0mfetch_list\u001b[0m\u001b[0;34m)\u001b[0m\u001b[0;34m:\u001b[0m\u001b[0;34m\u001b[0m\u001b[0;34m\u001b[0m\u001b[0m\n",
            "\u001b[0;31mKeyboardInterrupt\u001b[0m: "
          ]
        }
      ]
    },
    {
      "cell_type": "markdown",
      "source": [
        "## Save when done!"
      ],
      "metadata": {
        "id": "1G1NcCx6AspM"
      }
    }
  ]
}