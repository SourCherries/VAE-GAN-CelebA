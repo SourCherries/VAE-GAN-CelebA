{
  "nbformat": 4,
  "nbformat_minor": 0,
  "metadata": {
    "colab": {
      "name": "z_batch.ipynb",
      "provenance": [],
      "authorship_tag": "ABX9TyOU2Qhc3Z8X5tVSUg5OTzom",
      "include_colab_link": true
    },
    "kernelspec": {
      "name": "python3",
      "display_name": "Python 3"
    },
    "language_info": {
      "name": "python"
    }
  },
  "cells": [
    {
      "cell_type": "markdown",
      "metadata": {
        "id": "view-in-github",
        "colab_type": "text"
      },
      "source": [
        "<a href=\"https://colab.research.google.com/github/SourCherries/VAE-GAN-CelebA/blob/master/z_batch.ipynb\" target=\"_parent\"><img src=\"https://colab.research.google.com/assets/colab-badge.svg\" alt=\"Open In Colab\"/></a>"
      ]
    },
    {
      "cell_type": "markdown",
      "source": [
        "# Mean Z for every identity in [CelebA](https://mmlab.ie.cuhk.edu.hk/projects/CelebA.html)"
      ],
      "metadata": {
        "id": "8xjtu2lL7tff"
      }
    },
    {
      "cell_type": "code",
      "execution_count": null,
      "metadata": {
        "id": "_QISSj7i7q1Z"
      },
      "outputs": [],
      "source": [
        ""
      ]
    }
  ]
}